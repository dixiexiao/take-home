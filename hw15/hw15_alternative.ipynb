{
 "cells": [
  {
   "cell_type": "code",
   "execution_count": 2,
   "metadata": {},
   "outputs": [],
   "source": [
    "import numpy as np\n",
    "import pandas as pd\n",
    "import scipy.stats as ss\n",
    "from sklearn.preprocessing import LabelEncoder\n",
    "from sklearn.model_selection import train_test_split\n",
    "from sklearn.metrics import mean_squared_error,mean_absolute_error,r2_score\n",
    "from sklearn.ensemble import RandomForestRegressor\n",
    "from sklearn.feature_selection import chi2\n",
    "import xgboost as xgb\n",
    "\n",
    "import matplotlib.pyplot as plt\n",
    "plt.style.use('ggplot')\n",
    "%matplotlib inline"
   ]
  },
  {
   "cell_type": "markdown",
   "metadata": {},
   "source": [
    "# Question 1"
   ]
  },
  {
   "cell_type": "markdown",
   "metadata": {},
   "source": [
    "In the company there are 6 levels (described below). Identify, for each employee, her corresponding level.\n",
    "\n",
    "Individual Contributors (IC) - they don't manage anyone\n",
    "\n",
    "Middle Managers (MM) - they are the direct bosses of IC\n",
    "\n",
    "Directors (D) - they are the direct bosses of MM\n",
    "\n",
    "VP - D direct bosses\n",
    "\n",
    "Executives (E) - VP direct bosses\n",
    "\n",
    "CEO - The direct boss of E."
   ]
  },
  {
   "cell_type": "code",
   "execution_count": 4,
   "metadata": {},
   "outputs": [],
   "source": [
    "hierarchy = pd.read_csv(\"company_hierarchy.csv\",index_col='employee_id')\n",
    "hierarchy['level'] = None # initialize \n",
    "\n",
    "# starting point\n",
    "hierarchy.loc[hierarchy.dept == 'CEO','level'] = 'CEO'\n",
    "\n",
    "# change all boss_id to integer\n",
    "hierarchy.loc[hierarchy.level == 'CEO','boss_id'] = -1\n",
    "hierarchy['boss_id'] = hierarchy.boss_id.astype(int)\n",
    "\n",
    "def set_level(boss_level,level):\n",
    "    boss_ids = hierarchy.loc[hierarchy.level == boss_level,:].index\n",
    "    is_subordinate = np.in1d(hierarchy.boss_id,boss_ids)\n",
    "    hierarchy.loc[is_subordinate,'level'] = level\n",
    "\n",
    "set_level('CEO','E')\n",
    "set_level('E','VP')\n",
    "set_level('VP','D')\n",
    "set_level('D','MM')\n",
    "set_level('MM','IC')"
   ]
  },
  {
   "cell_type": "code",
   "execution_count": 5,
   "metadata": {},
   "outputs": [
    {
     "data": {
      "text/plain": [
       "IC     9000\n",
       "MM      800\n",
       "D       160\n",
       "VP       35\n",
       "E         4\n",
       "CEO       1\n",
       "Name: level, dtype: int64"
      ]
     },
     "execution_count": 5,
     "metadata": {},
     "output_type": "execute_result"
    }
   ],
   "source": [
    "hierarchy.level.value_counts()"
   ]
  },
  {
   "cell_type": "markdown",
   "metadata": {},
   "source": [
    "# Question 2"
   ]
  },
  {
   "cell_type": "markdown",
   "metadata": {},
   "source": [
    "How many people each employee manages? You should have a table with employee ids and the number of people managed. Consider that if John directly manages 2 people and these two people manage 5 people each, then we conclude that John manages 12 people."
   ]
  },
  {
   "cell_type": "code",
   "execution_count": 6,
   "metadata": {},
   "outputs": [],
   "source": [
    "hierarchy['n_subordinates'] = 0 # initialize\n",
    "\n",
    "def __count_subordinates(s):\n",
    "    \"\"\"\n",
    "    s: stands for subordinates, it is a series\n",
    "    its value represents #subordinates that subordinate has\n",
    "    \"\"\"\n",
    "    n_direct_subordinates = s.shape[0]\n",
    "    n_indirect_subordinates = s.sum()\n",
    "    return n_direct_subordinates + n_indirect_subordinates\n",
    "\n",
    "def count_subordinates(subordinate_level):\n",
    "    num_subordinates = hierarchy.loc[hierarchy.level == subordinate_level,:].groupby('boss_id')['n_subordinates'].agg(__count_subordinates)\n",
    "    hierarchy.loc[num_subordinates.index,'n_subordinates'] = num_subordinates\n",
    "\n",
    "count_subordinates(subordinate_level=\"IC\")\n",
    "count_subordinates(subordinate_level=\"MM\")\n",
    "count_subordinates(subordinate_level=\"D\")\n",
    "count_subordinates(subordinate_level=\"VP\")\n",
    "count_subordinates(subordinate_level=\"E\")"
   ]
  },
  {
   "cell_type": "code",
   "execution_count": 7,
   "metadata": {},
   "outputs": [
    {
     "name": "stdout",
     "output_type": "stream",
     "text": [
      "             boss_id   dept level  n_subordinates\n",
      "employee_id                                      \n",
      "46456         175361  sales    IC               0\n",
      "104708         29733     HR    IC               0\n",
      "120853         41991  sales    IC               0\n",
      "142630        171266     HR    MM              16\n",
      "72711         198240  sales    IC               0\n"
     ]
    }
   ],
   "source": [
    "print(hierarchy.head())"
   ]
  },
  {
   "cell_type": "markdown",
   "metadata": {},
   "source": [
    "# Question 3"
   ]
  },
  {
   "cell_type": "markdown",
   "metadata": {},
   "source": [
    "Build a model to predict the salary of each employee."
   ]
  },
  {
   "cell_type": "markdown",
   "metadata": {},
   "source": [
    "### Load all the data"
   ]
  },
  {
   "cell_type": "code",
   "execution_count": 8,
   "metadata": {},
   "outputs": [],
   "source": [
    "employees = pd.read_csv(\"employee.csv\",index_col=\"employee_id\")\n",
    "\n",
    "# make the salary \"N k\", where k represents $1000, which is easier to display\n",
    "employees[\"salary\"] /= 1000"
   ]
  },
  {
   "cell_type": "code",
   "execution_count": 9,
   "metadata": {},
   "outputs": [],
   "source": [
    "# join all features together\n",
    "employees = employees.join(hierarchy)"
   ]
  },
  {
   "cell_type": "markdown",
   "metadata": {},
   "source": [
    "## Feature Enginnering"
   ]
  },
  {
   "cell_type": "code",
   "execution_count": 10,
   "metadata": {},
   "outputs": [],
   "source": [
    "X = employees.copy()\n",
    "\n",
    "X[\"is_male\"] = (X.sex == \"M\").astype(int)\n",
    "del X[\"sex\"]\n",
    "\n",
    "del X['boss_id']# I assume boss_id won't affect salary"
   ]
  },
  {
   "cell_type": "code",
   "execution_count": 11,
   "metadata": {},
   "outputs": [],
   "source": [
    "# transform 'level' into numbers\n",
    "# !!! ORDER matters\n",
    "index2level = ['IC','MM',\"D\",\"VP\",\"E\",\"CEO\"]\n",
    "level2index = {l:index for index,l in enumerate(index2level)}\n",
    "X['level'] = X.level.map(level2index)"
   ]
  },
  {
   "cell_type": "code",
   "execution_count": 12,
   "metadata": {},
   "outputs": [],
   "source": [
    "# transform 'educational degree' into numbers\n",
    "# !!! ORDER matters\n",
    "index2degree = ['High_School','Bachelor','Master','PhD']\n",
    "degree2index = {d:index for index,d in enumerate(index2degree)}\n",
    "X['degree'] = X.degree_level.map(degree2index)\n",
    "del X['degree_level']"
   ]
  },
  {
   "cell_type": "code",
   "execution_count": null,
   "metadata": {},
   "outputs": [],
   "source": [
    "# OHE department\n",
    "X = pd.get_dummies(X)\n",
    "del X['dept_CEO']"
   ]
  },
  {
   "cell_type": "code",
   "execution_count": 14,
   "metadata": {},
   "outputs": [
    {
     "data": {
      "text/plain": [
       "<matplotlib.axes._subplots.AxesSubplot at 0x1ad20cb1648>"
      ]
     },
     "execution_count": 14,
     "metadata": {},
     "output_type": "execute_result"
    },
    {
     "data": {
      "image/png": "[encoded data removed]",
      "text/plain": [
       "<Figure size 432x288 with 1 Axes>"
      ]
     },
     "metadata": {
      "needs_background": "light"
     },
     "output_type": "display_data"
    }
   ],
   "source": [
    "X.salary.hist(bins=50)"
   ]
  },
  {
   "cell_type": "markdown",
   "metadata": {},
   "source": [
    "from above plot, we can see that, salary's distribution is highly skewed , which increase difficulty on regression. so I need log transform on the target value.\n"
   ]
  },
  {
   "cell_type": "code",
   "execution_count": 15,
   "metadata": {},
   "outputs": [
    {
     "data": {
      "text/plain": [
       "<matplotlib.axes._subplots.AxesSubplot at 0x1ad20d6fe08>"
      ]
     },
     "execution_count": 15,
     "metadata": {},
     "output_type": "execute_result"
    },
    {
     "data": {
      "image/png": "[encoded data removed]",
      "text/plain": [
       "<Figure size 432x288 with 1 Axes>"
      ]
     },
     "metadata": {
      "needs_background": "light"
     },
     "output_type": "display_data"
    }
   ],
   "source": [
    "X['salary'] = np.log(X.salary)\n",
    "X.salary.hist(bins=50)"
   ]
  },
  {
   "cell_type": "markdown",
   "metadata": {},
   "source": [
    "we can see after log transformation, salary's distribution is more balanced ."
   ]
  },
  {
   "cell_type": "markdown",
   "metadata": {},
   "source": [
    "### Remove outliers"
   ]
  },
  {
   "cell_type": "code",
   "execution_count": 16,
   "metadata": {},
   "outputs": [
    {
     "data": {
      "text/html": [
       "<div>\n",
       "<style scoped>\n",
       "    .dataframe tbody tr th:only-of-type {\n",
       "        vertical-align: middle;\n",
       "    }\n",
       "\n",
       "    .dataframe tbody tr th {\n",
       "        vertical-align: top;\n",
       "    }\n",
       "\n",
       "    .dataframe thead th {\n",
       "        text-align: right;\n",
       "    }\n",
       "</style>\n",
       "<table border=\"1\" class=\"dataframe\">\n",
       "  <thead>\n",
       "    <tr style=\"text-align: right;\">\n",
       "      <th></th>\n",
       "      <th>count</th>\n",
       "      <th>mean</th>\n",
       "    </tr>\n",
       "    <tr>\n",
       "      <th>level</th>\n",
       "      <th></th>\n",
       "      <th></th>\n",
       "    </tr>\n",
       "  </thead>\n",
       "  <tbody>\n",
       "    <tr>\n",
       "      <th>0</th>\n",
       "      <td>9000</td>\n",
       "      <td>5.112835</td>\n",
       "    </tr>\n",
       "    <tr>\n",
       "      <th>1</th>\n",
       "      <td>800</td>\n",
       "      <td>5.136089</td>\n",
       "    </tr>\n",
       "    <tr>\n",
       "      <th>2</th>\n",
       "      <td>160</td>\n",
       "      <td>5.256181</td>\n",
       "    </tr>\n",
       "    <tr>\n",
       "      <th>3</th>\n",
       "      <td>35</td>\n",
       "      <td>5.496709</td>\n",
       "    </tr>\n",
       "    <tr>\n",
       "      <th>4</th>\n",
       "      <td>4</td>\n",
       "      <td>6.327854</td>\n",
       "    </tr>\n",
       "    <tr>\n",
       "      <th>5</th>\n",
       "      <td>1</td>\n",
       "      <td>6.551080</td>\n",
       "    </tr>\n",
       "  </tbody>\n",
       "</table>\n",
       "</div>"
      ],
      "text/plain": [
       "       count      mean\n",
       "level                 \n",
       "0       9000  5.112835\n",
       "1        800  5.136089\n",
       "2        160  5.256181\n",
       "3         35  5.496709\n",
       "4          4  6.327854\n",
       "5          1  6.551080"
      ]
     },
     "execution_count": 16,
     "metadata": {},
     "output_type": "execute_result"
    }
   ],
   "source": [
    "X.groupby('level')['salary'].agg(['count','mean'])"
   ]
  },
  {
   "cell_type": "markdown",
   "metadata": {},
   "source": [
    "from above result, we can see there is only one CEO, and his salary is much higher than any other employees in this company.\n",
    "\n",
    "when I split the data into training/test sets, no matter which set contains CEO, his high salary will impact significantly the training or evaluation. so I consider CEO as outlier, and remove it from the data set."
   ]
  },
  {
   "cell_type": "markdown",
   "metadata": {},
   "source": [
    "### Train"
   ]
  },
  {
   "cell_type": "code",
   "execution_count": 17,
   "metadata": {},
   "outputs": [],
   "source": [
    "y = X['salary']\n",
    "del X['salary']"
   ]
  },
  {
   "cell_type": "code",
   "execution_count": 18,
   "metadata": {},
   "outputs": [],
   "source": [
    "seed = 999\n",
    "Xtrain,Xtest,ytrain,ytest = train_test_split(X,y,test_size=0.3,random_state=seed)"
   ]
  },
  {
   "cell_type": "code",
   "execution_count": 19,
   "metadata": {},
   "outputs": [
    {
     "data": {
      "text/plain": [
       "0    6309\n",
       "1     550\n",
       "2     115\n",
       "3      22\n",
       "4       3\n",
       "5       1\n",
       "Name: level, dtype: int64"
      ]
     },
     "execution_count": 19,
     "metadata": {},
     "output_type": "execute_result"
    }
   ],
   "source": [
    "Xtrain.level.value_counts()"
   ]
  },
  {
   "cell_type": "code",
   "execution_count": 20,
   "metadata": {},
   "outputs": [
    {
     "data": {
      "text/plain": [
       "0    2691\n",
       "1     250\n",
       "2      45\n",
       "3      13\n",
       "4       1\n",
       "Name: level, dtype: int64"
      ]
     },
     "execution_count": 20,
     "metadata": {},
     "output_type": "execute_result"
    }
   ],
   "source": [
    "Xtest.level.value_counts()"
   ]
  },
  {
   "cell_type": "markdown",
   "metadata": {},
   "source": [
    "we can see that, after splitting, even the smallest group 'level=4' (i.e., Executive level), has representives in ** both ** groups. Hence, the splitting is valid to be used to train and evaluate."
   ]
  },
  {
   "cell_type": "code",
   "execution_count": 21,
   "metadata": {},
   "outputs": [
    {
     "name": "stderr",
     "output_type": "stream",
     "text": [
      "c:\\users\\danqi\\appdata\\local\\programs\\python\\python37\\lib\\site-packages\\xgboost\\core.py:587: FutureWarning: Series.base is deprecated and will be removed in a future version\n",
      "  if getattr(data, 'base', None) is not None and \\\n"
     ]
    }
   ],
   "source": [
    "train_matrix = xgb.DMatrix(Xtrain,ytrain)\n",
    "test_matrix = xgb.DMatrix(Xtest)"
   ]
  },
  {
   "cell_type": "code",
   "execution_count": 22,
   "metadata": {},
   "outputs": [
    {
     "name": "stdout",
     "output_type": "stream",
     "text": [
      "[0]\ttrain-rmse:4.18708+0.00291657\ttest-rmse:4.18706+0.0128712\n",
      "[1]\ttrain-rmse:3.77247+0.00268121\ttest-rmse:3.77249+0.0129416\n",
      "[2]\ttrain-rmse:3.39965+0.0025848\ttest-rmse:3.39961+0.0128474\n",
      "[3]\ttrain-rmse:3.06464+0.00241516\ttest-rmse:3.06455+0.0128518\n",
      "[4]\ttrain-rmse:2.76358+0.00217217\ttest-rmse:2.7635+0.0129976\n",
      "[5]\ttrain-rmse:2.49342+0.0023459\ttest-rmse:2.49332+0.0128046\n",
      "[6]\ttrain-rmse:2.25085+0.00210485\ttest-rmse:2.25072+0.0129124\n",
      "[7]\ttrain-rmse:2.03334+0.00194608\ttest-rmse:2.0332+0.0128494\n",
      "[8]\ttrain-rmse:1.83862+0.00203586\ttest-rmse:1.83846+0.0127647\n",
      "[9]\ttrain-rmse:1.66344+0.00178684\ttest-rmse:1.66334+0.0128875\n",
      "[10]\ttrain-rmse:1.50703+0.00163242\ttest-rmse:1.50696+0.0129595\n",
      "[11]\ttrain-rmse:1.36727+0.00141252\ttest-rmse:1.3672+0.0130023\n",
      "[12]\ttrain-rmse:1.24211+0.00121474\ttest-rmse:1.24208+0.0128895\n",
      "[13]\ttrain-rmse:1.13086+0.00117633\ttest-rmse:1.13086+0.0127116\n",
      "[14]\ttrain-rmse:1.03211+0.00103335\ttest-rmse:1.03218+0.0126788\n",
      "[15]\ttrain-rmse:0.944537+0.00116168\ttest-rmse:0.944712+0.0125441\n",
      "[16]\ttrain-rmse:0.867083+0.00121464\ttest-rmse:0.867511+0.0123785\n",
      "[17]\ttrain-rmse:0.79866+0.00107941\ttest-rmse:0.79921+0.0118707\n",
      "[18]\ttrain-rmse:0.738511+0.00105973\ttest-rmse:0.739186+0.0113088\n",
      "[19]\ttrain-rmse:0.68595+0.00118684\ttest-rmse:0.68688+0.0107595\n",
      "[20]\ttrain-rmse:0.640325+0.00122057\ttest-rmse:0.641506+0.010204\n",
      "[21]\ttrain-rmse:0.600808+0.00129407\ttest-rmse:0.602195+0.00974142\n",
      "[22]\ttrain-rmse:0.566525+0.00132436\ttest-rmse:0.568245+0.00921378\n",
      "[23]\ttrain-rmse:0.537232+0.00144148\ttest-rmse:0.539317+0.00874359\n",
      "[24]\ttrain-rmse:0.51206+0.00142389\ttest-rmse:0.514562+0.00823679\n",
      "[25]\ttrain-rmse:0.490605+0.00138856\ttest-rmse:0.493518+0.00787904\n",
      "[26]\ttrain-rmse:0.4725+0.00138276\ttest-rmse:0.475908+0.00732721\n",
      "[27]\ttrain-rmse:0.457287+0.00152104\ttest-rmse:0.46118+0.00702952\n",
      "[28]\ttrain-rmse:0.444467+0.00146666\ttest-rmse:0.44878+0.00663017\n",
      "[29]\ttrain-rmse:0.433926+0.00160278\ttest-rmse:0.438504+0.00617045\n",
      "[30]\ttrain-rmse:0.425001+0.00166006\ttest-rmse:0.429992+0.00588676\n",
      "[31]\ttrain-rmse:0.417668+0.00168643\ttest-rmse:0.423092+0.00559491\n",
      "[32]\ttrain-rmse:0.411529+0.00170528\ttest-rmse:0.41728+0.00540154\n",
      "[33]\ttrain-rmse:0.406442+0.00173327\ttest-rmse:0.412642+0.00535827\n",
      "[34]\ttrain-rmse:0.402222+0.00185631\ttest-rmse:0.408862+0.00521919\n",
      "[35]\ttrain-rmse:0.398645+0.00177123\ttest-rmse:0.405681+0.00523178\n",
      "[36]\ttrain-rmse:0.395693+0.00180069\ttest-rmse:0.403043+0.00522267\n",
      "[37]\ttrain-rmse:0.393236+0.00176938\ttest-rmse:0.400916+0.00530987\n",
      "[38]\ttrain-rmse:0.391168+0.00175822\ttest-rmse:0.399312+0.00534697\n",
      "[39]\ttrain-rmse:0.389395+0.0017533\ttest-rmse:0.397954+0.00536211\n",
      "[40]\ttrain-rmse:0.388015+0.00175034\ttest-rmse:0.396913+0.00555114\n",
      "[41]\ttrain-rmse:0.386811+0.00169688\ttest-rmse:0.396044+0.00558801\n",
      "[42]\ttrain-rmse:0.385767+0.00170894\ttest-rmse:0.39531+0.00565023\n",
      "[43]\ttrain-rmse:0.384882+0.0016965\ttest-rmse:0.394728+0.0057086\n",
      "[44]\ttrain-rmse:0.384081+0.00161219\ttest-rmse:0.394334+0.00578006\n",
      "[45]\ttrain-rmse:0.383463+0.0016379\ttest-rmse:0.394068+0.00583004\n",
      "[46]\ttrain-rmse:0.382868+0.00166374\ttest-rmse:0.393782+0.00591837\n",
      "[47]\ttrain-rmse:0.38234+0.00161194\ttest-rmse:0.393579+0.00599656\n",
      "[48]\ttrain-rmse:0.381852+0.00156754\ttest-rmse:0.393452+0.00597934\n",
      "[49]\ttrain-rmse:0.381314+0.00159395\ttest-rmse:0.393424+0.00603778\n",
      "[50]\ttrain-rmse:0.380862+0.00165375\ttest-rmse:0.39335+0.00613805\n",
      "[51]\ttrain-rmse:0.380473+0.00169344\ttest-rmse:0.393285+0.00612753\n",
      "[52]\ttrain-rmse:0.380061+0.00157918\ttest-rmse:0.393151+0.0062186\n",
      "[53]\ttrain-rmse:0.379684+0.00161215\ttest-rmse:0.393091+0.00629845\n",
      "[54]\ttrain-rmse:0.379305+0.00158243\ttest-rmse:0.393124+0.00633282\n",
      "[55]\ttrain-rmse:0.378884+0.00158983\ttest-rmse:0.393175+0.00644628\n",
      "[56]\ttrain-rmse:0.378588+0.00158505\ttest-rmse:0.393194+0.00647954\n",
      "[57]\ttrain-rmse:0.378287+0.00147829\ttest-rmse:0.393212+0.00636286\n",
      "[58]\ttrain-rmse:0.377948+0.00156746\ttest-rmse:0.393241+0.00643972\n",
      "[59]\ttrain-rmse:0.377625+0.00158361\ttest-rmse:0.393279+0.00654052\n",
      "[60]\ttrain-rmse:0.377369+0.00155982\ttest-rmse:0.393403+0.0065131\n",
      "[61]\ttrain-rmse:0.377148+0.00153699\ttest-rmse:0.393497+0.00660769\n",
      "[62]\ttrain-rmse:0.376871+0.00150857\ttest-rmse:0.39354+0.00660271\n",
      "[63]\ttrain-rmse:0.376637+0.00144867\ttest-rmse:0.393525+0.00657961\n",
      "[64]\ttrain-rmse:0.376353+0.0015023\ttest-rmse:0.393582+0.00652632\n",
      "[65]\ttrain-rmse:0.376109+0.00155225\ttest-rmse:0.393637+0.00647009\n",
      "[66]\ttrain-rmse:0.375823+0.00159921\ttest-rmse:0.393747+0.00652537\n",
      "[67]\ttrain-rmse:0.375631+0.00156583\ttest-rmse:0.393765+0.00658661\n",
      "[68]\ttrain-rmse:0.375332+0.00157619\ttest-rmse:0.393899+0.00666215\n",
      "[69]\ttrain-rmse:0.375037+0.00165029\ttest-rmse:0.393974+0.00668328\n",
      "[70]\ttrain-rmse:0.374772+0.00160498\ttest-rmse:0.394045+0.0066367\n",
      "[71]\ttrain-rmse:0.374521+0.00158275\ttest-rmse:0.394191+0.00662931\n",
      "[72]\ttrain-rmse:0.374307+0.00154587\ttest-rmse:0.394288+0.00668971\n",
      "[73]\ttrain-rmse:0.374024+0.00152104\ttest-rmse:0.394419+0.00662926\n",
      "[74]\ttrain-rmse:0.373754+0.00158431\ttest-rmse:0.39454+0.00663058\n",
      "[75]\ttrain-rmse:0.373532+0.00163788\ttest-rmse:0.394617+0.0066088\n",
      "[76]\ttrain-rmse:0.373302+0.00160593\ttest-rmse:0.394681+0.00658951\n",
      "[77]\ttrain-rmse:0.373097+0.00161459\ttest-rmse:0.394722+0.00667911\n",
      "[78]\ttrain-rmse:0.372887+0.00161644\ttest-rmse:0.394842+0.00669214\n",
      "[79]\ttrain-rmse:0.372659+0.00158502\ttest-rmse:0.39495+0.00664107\n",
      "[80]\ttrain-rmse:0.372479+0.00161458\ttest-rmse:0.394998+0.00665669\n",
      "[81]\ttrain-rmse:0.37226+0.00161259\ttest-rmse:0.395166+0.00660164\n",
      "[82]\ttrain-rmse:0.37207+0.00159922\ttest-rmse:0.395271+0.00656653\n"
     ]
    }
   ],
   "source": [
    "params = {}\n",
    "params['silent'] = 1\n",
    "params['objective'] = 'reg:linear'\n",
    "params['eval_metric'] = 'rmse'\n",
    "params[\"num_rounds\"] = 300\n",
    "params[\"early_stopping_rounds\"] = 30\n",
    "# params['min_child_weight'] = 2\n",
    "# params['max_depth'] = 6\n",
    "params['eta'] = 0.1\n",
    "params[\"subsample\"] = 0.8\n",
    "params[\"colsample_bytree\"] = 0.8\n",
    "\n",
    "cv_results = xgb.cv(params,train_matrix,\n",
    "                    num_boost_round = params[\"num_rounds\"],\n",
    "                    nfold = params.get('nfold',5),\n",
    "                    metrics = params['eval_metric'],\n",
    "                    early_stopping_rounds = params[\"early_stopping_rounds\"],\n",
    "                    verbose_eval = True,\n",
    "                    seed = seed)"
   ]
  },
  {
   "cell_type": "code",
   "execution_count": 23,
   "metadata": {},
   "outputs": [
    {
     "data": {
      "text/plain": [
       "54"
      ]
     },
     "execution_count": 23,
     "metadata": {},
     "output_type": "execute_result"
    }
   ],
   "source": [
    "n_best_trees = cv_results.shape[0]\n",
    "n_best_trees"
   ]
  },
  {
   "cell_type": "code",
   "execution_count": 24,
   "metadata": {},
   "outputs": [
    {
     "name": "stdout",
     "output_type": "stream",
     "text": [
      "[0]\ttrain-rmse:4.18674\n",
      "[1]\ttrain-rmse:3.77215\n",
      "[2]\ttrain-rmse:3.40092\n",
      "[3]\ttrain-rmse:3.06592\n",
      "[4]\ttrain-rmse:2.76476\n",
      "[5]\ttrain-rmse:2.49422\n",
      "[6]\ttrain-rmse:2.25221\n",
      "[7]\ttrain-rmse:2.03396\n",
      "[8]\ttrain-rmse:1.83873\n",
      "[9]\ttrain-rmse:1.66388\n",
      "[10]\ttrain-rmse:1.50734\n",
      "[11]\ttrain-rmse:1.3674\n",
      "[12]\ttrain-rmse:1.24225\n",
      "[13]\ttrain-rmse:1.13127\n",
      "[14]\ttrain-rmse:1.03231\n",
      "[15]\ttrain-rmse:0.944156\n",
      "[16]\ttrain-rmse:0.866299\n",
      "[17]\ttrain-rmse:0.797942\n",
      "[18]\ttrain-rmse:0.73805\n",
      "[19]\ttrain-rmse:0.685284\n",
      "[20]\ttrain-rmse:0.639375\n",
      "[21]\ttrain-rmse:0.599668\n",
      "[22]\ttrain-rmse:0.565491\n",
      "[23]\ttrain-rmse:0.536255\n",
      "[24]\ttrain-rmse:0.511374\n",
      "[25]\ttrain-rmse:0.490136\n",
      "[26]\ttrain-rmse:0.472235\n",
      "[27]\ttrain-rmse:0.457113\n",
      "[28]\ttrain-rmse:0.444342\n",
      "[29]\ttrain-rmse:0.433796\n",
      "[30]\ttrain-rmse:0.425103\n",
      "[31]\ttrain-rmse:0.41784\n",
      "[32]\ttrain-rmse:0.4118\n",
      "[33]\ttrain-rmse:0.406865\n",
      "[34]\ttrain-rmse:0.402641\n",
      "[35]\ttrain-rmse:0.399318\n",
      "[36]\ttrain-rmse:0.396544\n",
      "[37]\ttrain-rmse:0.394156\n",
      "[38]\ttrain-rmse:0.392113\n",
      "[39]\ttrain-rmse:0.390573\n",
      "[40]\ttrain-rmse:0.389196\n",
      "[41]\ttrain-rmse:0.387993\n",
      "[42]\ttrain-rmse:0.386944\n",
      "[43]\ttrain-rmse:0.385952\n",
      "[44]\ttrain-rmse:0.385308\n",
      "[45]\ttrain-rmse:0.384623\n",
      "[46]\ttrain-rmse:0.384029\n",
      "[47]\ttrain-rmse:0.383577\n",
      "[48]\ttrain-rmse:0.3832\n",
      "[49]\ttrain-rmse:0.382815\n",
      "[50]\ttrain-rmse:0.382484\n",
      "[51]\ttrain-rmse:0.381988\n",
      "[52]\ttrain-rmse:0.381749\n",
      "[53]\ttrain-rmse:0.381286\n"
     ]
    }
   ],
   "source": [
    "# re-train on all the data\n",
    "watchlist = [(train_matrix, 'train')]\n",
    "gbt = xgb.train(params, train_matrix, n_best_trees,watchlist)"
   ]
  },
  {
   "cell_type": "markdown",
   "metadata": {},
   "source": [
    "### Evaluate"
   ]
  },
  {
   "cell_type": "code",
   "execution_count": 25,
   "metadata": {},
   "outputs": [
    {
     "data": {
      "text/plain": [
       "0.392425650022094"
      ]
     },
     "execution_count": 25,
     "metadata": {},
     "output_type": "execute_result"
    }
   ],
   "source": [
    "ytest_pred = gbt.predict(test_matrix, ntree_limit=n_best_trees)\n",
    "np.sqrt(mean_squared_error(ytest,ytest_pred))"
   ]
  },
  {
   "cell_type": "markdown",
   "metadata": {},
   "source": [
    "we can see that, training RMSE is 0.38, and test set has RMSE 0.39, the difference isn't very high."
   ]
  },
  {
   "cell_type": "code",
   "execution_count": 26,
   "metadata": {},
   "outputs": [
    {
     "data": {
      "text/plain": [
       "<matplotlib.axes._subplots.AxesSubplot at 0x1ad216a1dc8>"
      ]
     },
     "execution_count": 26,
     "metadata": {},
     "output_type": "execute_result"
    },
    {
     "data": {
      "image/png": "[encoded data removed]",
      "text/plain": [
       "<Figure size 432x288 with 1 Axes>"
      ]
     },
     "metadata": {
      "needs_background": "light"
     },
     "output_type": "display_data"
    }
   ],
   "source": [
    "# check residual's distribution\n",
    "(ytest - ytest_pred).hist(bins=60)"
   ]
  },
  {
   "cell_type": "markdown",
   "metadata": {},
   "source": [
    "from above plot, we can see residuals' distribution is nearly normal, although a little skewed. Hence, the trained model is acceptable."
   ]
  },
  {
   "cell_type": "code",
   "execution_count": 27,
   "metadata": {},
   "outputs": [],
   "source": [
    "gbt.save_model('gbt.model')"
   ]
  },
  {
   "cell_type": "markdown",
   "metadata": {},
   "source": [
    "## Question 4"
   ]
  },
  {
   "cell_type": "markdown",
   "metadata": {},
   "source": [
    "Describe the main factors impacting employee salaries.\n",
    "\n",
    "Do you think the company has been treating its employees fairly? Do you see any bias?\n",
    "\n",
    "What are the next steps you would suggest to the Head of HR?"
   ]
  },
  {
   "cell_type": "markdown",
   "metadata": {},
   "source": [
    "### Main factors impacting salaries"
   ]
  },
  {
   "cell_type": "code",
   "execution_count": 28,
   "metadata": {},
   "outputs": [
    {
     "data": {
      "text/plain": [
       "<matplotlib.axes._subplots.AxesSubplot at 0x1ad2fe7e7c8>"
      ]
     },
     "execution_count": 28,
     "metadata": {},
     "output_type": "execute_result"
    },
    {
     "data": {
      "image/png": "[encoded data removed]",
      "text/plain": [
       "<Figure size 432x288 with 1 Axes>"
      ]
     },
     "metadata": {
      "needs_background": "light"
     },
     "output_type": "display_data"
    }
   ],
   "source": [
    "xgb.plot_importance(gbt)"
   ]
  },
  {
   "cell_type": "markdown",
   "metadata": {},
   "source": [
    "from above plot of feature importance, we can see the main factors impacting salaries includes:\n",
    "\n",
    "1. \"years of experience\". this is fair, more experienced deserve high salary\n",
    "2. 'n_subordinates'. #subordinates has some relationship with level. higher level, more subordinates, more salary"
   ]
  },
  {
   "cell_type": "markdown",
   "metadata": {},
   "source": [
    "## Residuals Analysis"
   ]
  },
  {
   "cell_type": "code",
   "execution_count": 29,
   "metadata": {},
   "outputs": [],
   "source": [
    "# predict on all data (except CEO) and calculate the bias\n",
    "whole_matrix = xgb.DMatrix(X)\n",
    "ypred = gbt.predict(whole_matrix)\n",
    "\n",
    "# since our prediction is log(salary), so we need to exp it to get the original salary (unit: k)\n",
    "predresult = pd.DataFrame({'ytrue': np.exp(y),'ypred': np.exp(ypred)})\n",
    "\n",
    "# if bias >0, means, that employee is over paid\n",
    "# otherwise, bias<0, means that employee is under paid\n",
    "predresult['bias'] = predresult.ytrue - predresult.ypred"
   ]
  },
  {
   "cell_type": "code",
   "execution_count": 30,
   "metadata": {},
   "outputs": [
    {
     "data": {
      "text/html": [
       "<div>\n",
       "<style scoped>\n",
       "    .dataframe tbody tr th:only-of-type {\n",
       "        vertical-align: middle;\n",
       "    }\n",
       "\n",
       "    .dataframe tbody tr th {\n",
       "        vertical-align: top;\n",
       "    }\n",
       "\n",
       "    .dataframe thead th {\n",
       "        text-align: right;\n",
       "    }\n",
       "</style>\n",
       "<table border=\"1\" class=\"dataframe\">\n",
       "  <thead>\n",
       "    <tr style=\"text-align: right;\">\n",
       "      <th></th>\n",
       "      <th>ytrue</th>\n",
       "      <th>ypred</th>\n",
       "      <th>bias</th>\n",
       "      <th>signing_bonus</th>\n",
       "      <th>salary</th>\n",
       "      <th>degree_level</th>\n",
       "      <th>sex</th>\n",
       "      <th>yrs_experience</th>\n",
       "      <th>boss_id</th>\n",
       "      <th>dept</th>\n",
       "      <th>level</th>\n",
       "      <th>n_subordinates</th>\n",
       "    </tr>\n",
       "    <tr>\n",
       "      <th>employee_id</th>\n",
       "      <th></th>\n",
       "      <th></th>\n",
       "      <th></th>\n",
       "      <th></th>\n",
       "      <th></th>\n",
       "      <th></th>\n",
       "      <th></th>\n",
       "      <th></th>\n",
       "      <th></th>\n",
       "      <th></th>\n",
       "      <th></th>\n",
       "      <th></th>\n",
       "    </tr>\n",
       "  </thead>\n",
       "  <tbody>\n",
       "    <tr>\n",
       "      <th>138719</th>\n",
       "      <td>273.0</td>\n",
       "      <td>216.746994</td>\n",
       "      <td>56.253006</td>\n",
       "      <td>0</td>\n",
       "      <td>273.0</td>\n",
       "      <td>Master</td>\n",
       "      <td>M</td>\n",
       "      <td>2</td>\n",
       "      <td>43602</td>\n",
       "      <td>engineering</td>\n",
       "      <td>IC</td>\n",
       "      <td>0</td>\n",
       "    </tr>\n",
       "    <tr>\n",
       "      <th>3192</th>\n",
       "      <td>301.0</td>\n",
       "      <td>168.526306</td>\n",
       "      <td>132.473694</td>\n",
       "      <td>0</td>\n",
       "      <td>301.0</td>\n",
       "      <td>Bachelor</td>\n",
       "      <td>F</td>\n",
       "      <td>1</td>\n",
       "      <td>87847</td>\n",
       "      <td>sales</td>\n",
       "      <td>IC</td>\n",
       "      <td>0</td>\n",
       "    </tr>\n",
       "    <tr>\n",
       "      <th>114657</th>\n",
       "      <td>261.0</td>\n",
       "      <td>169.930389</td>\n",
       "      <td>91.069611</td>\n",
       "      <td>0</td>\n",
       "      <td>261.0</td>\n",
       "      <td>Master</td>\n",
       "      <td>F</td>\n",
       "      <td>2</td>\n",
       "      <td>180854</td>\n",
       "      <td>sales</td>\n",
       "      <td>IC</td>\n",
       "      <td>0</td>\n",
       "    </tr>\n",
       "    <tr>\n",
       "      <th>29039</th>\n",
       "      <td>86.0</td>\n",
       "      <td>80.813164</td>\n",
       "      <td>5.186836</td>\n",
       "      <td>0</td>\n",
       "      <td>86.0</td>\n",
       "      <td>High_School</td>\n",
       "      <td>F</td>\n",
       "      <td>4</td>\n",
       "      <td>88370</td>\n",
       "      <td>HR</td>\n",
       "      <td>IC</td>\n",
       "      <td>0</td>\n",
       "    </tr>\n",
       "    <tr>\n",
       "      <th>118607</th>\n",
       "      <td>126.0</td>\n",
       "      <td>172.799835</td>\n",
       "      <td>-46.799835</td>\n",
       "      <td>0</td>\n",
       "      <td>126.0</td>\n",
       "      <td>Bachelor</td>\n",
       "      <td>F</td>\n",
       "      <td>3</td>\n",
       "      <td>23565</td>\n",
       "      <td>sales</td>\n",
       "      <td>IC</td>\n",
       "      <td>0</td>\n",
       "    </tr>\n",
       "  </tbody>\n",
       "</table>\n",
       "</div>"
      ],
      "text/plain": [
       "             ytrue       ypred        bias  signing_bonus  salary  \\\n",
       "employee_id                                                         \n",
       "138719       273.0  216.746994   56.253006              0   273.0   \n",
       "3192         301.0  168.526306  132.473694              0   301.0   \n",
       "114657       261.0  169.930389   91.069611              0   261.0   \n",
       "29039         86.0   80.813164    5.186836              0    86.0   \n",
       "118607       126.0  172.799835  -46.799835              0   126.0   \n",
       "\n",
       "            degree_level sex  yrs_experience  boss_id         dept level  \\\n",
       "employee_id                                                                \n",
       "138719            Master   M               2    43602  engineering    IC   \n",
       "3192            Bachelor   F               1    87847        sales    IC   \n",
       "114657            Master   F               2   180854        sales    IC   \n",
       "29039        High_School   F               4    88370           HR    IC   \n",
       "118607          Bachelor   F               3    23565        sales    IC   \n",
       "\n",
       "             n_subordinates  \n",
       "employee_id                  \n",
       "138719                    0  \n",
       "3192                      0  \n",
       "114657                    0  \n",
       "29039                     0  \n",
       "118607                    0  "
      ]
     },
     "execution_count": 30,
     "metadata": {},
     "output_type": "execute_result"
    }
   ],
   "source": [
    "# join with employee's features\n",
    "predresult = predresult.join(employees)\n",
    "predresult.head() # glance"
   ]
  },
  {
   "cell_type": "code",
   "execution_count": 31,
   "metadata": {},
   "outputs": [],
   "source": [
    "del predresult['ytrue'] # redundant with salary"
   ]
  },
  {
   "cell_type": "code",
   "execution_count": 32,
   "metadata": {},
   "outputs": [
    {
     "data": {
      "text/plain": [
       "<matplotlib.axes._subplots.AxesSubplot at 0x1ad2fefee88>"
      ]
     },
     "execution_count": 32,
     "metadata": {},
     "output_type": "execute_result"
    },
    {
     "data": {
      "image/png": "[encoded data removed]",
      "text/plain": [
       "<Figure size 432x288 with 1 Axes>"
      ]
     },
     "metadata": {
      "needs_background": "light"
     },
     "output_type": "display_data"
    }
   ],
   "source": [
    "predresult.bias.hist(bins=60)"
   ]
  },
  {
   "cell_type": "code",
   "execution_count": 33,
   "metadata": {},
   "outputs": [
    {
     "data": {
      "text/plain": [
       "Text(0, 0.5, 'bias')"
      ]
     },
     "execution_count": 33,
     "metadata": {},
     "output_type": "execute_result"
    },
    {
     "data": {
      "image/png": "[encoded data removed]",
      "text/plain": [
       "<Figure size 432x288 with 1 Axes>"
      ]
     },
     "metadata": {
      "needs_background": "light"
     },
     "output_type": "display_data"
    }
   ],
   "source": [
    "plt.scatter(predresult.salary,predresult.bias)\n",
    "plt.xlabel(\"true salary\")\n",
    "plt.ylabel(\"bias\")"
   ]
  },
  {
   "cell_type": "code",
   "execution_count": 34,
   "metadata": {},
   "outputs": [],
   "source": [
    "def chisquare_test_on_bias():\n",
    "    X = predresult.copy()\n",
    "    del X['ypred']\n",
    "    del X['salary']\n",
    "    del X['boss_id']\n",
    "\n",
    "    X['degree_level'] = X.degree_level.map(degree2index)\n",
    "    X['level'] = X.level.map(level2index)\n",
    "\n",
    "    X['is_male'] = (X.sex == 'M').astype(int)\n",
    "    del X['sex']\n",
    "\n",
    "    dept_lb_encoder = LabelEncoder()\n",
    "    X['dept'] = dept_lb_encoder.fit_transform(X.dept)\n",
    "    \n",
    "    y = (X.bias > 0)\n",
    "    del X['bias']\n",
    "    \n",
    "    scores,pvalues = chi2(X,y)\n",
    "    return pd.DataFrame({'score': scores, 'pvalue': pvalues},index = X.columns).sort_values(by='pvalue')"
   ]
  },
  {
   "cell_type": "code",
   "execution_count": 35,
   "metadata": {},
   "outputs": [
    {
     "data": {
      "text/html": [
       "<div>\n",
       "<style scoped>\n",
       "    .dataframe tbody tr th:only-of-type {\n",
       "        vertical-align: middle;\n",
       "    }\n",
       "\n",
       "    .dataframe tbody tr th {\n",
       "        vertical-align: top;\n",
       "    }\n",
       "\n",
       "    .dataframe thead th {\n",
       "        text-align: right;\n",
       "    }\n",
       "</style>\n",
       "<table border=\"1\" class=\"dataframe\">\n",
       "  <thead>\n",
       "    <tr style=\"text-align: right;\">\n",
       "      <th></th>\n",
       "      <th>score</th>\n",
       "      <th>pvalue</th>\n",
       "    </tr>\n",
       "  </thead>\n",
       "  <tbody>\n",
       "    <tr>\n",
       "      <th>n_subordinates</th>\n",
       "      <td>8260.401345</td>\n",
       "      <td>0.000000</td>\n",
       "    </tr>\n",
       "    <tr>\n",
       "      <th>dept</th>\n",
       "      <td>12.022876</td>\n",
       "      <td>0.000526</td>\n",
       "    </tr>\n",
       "    <tr>\n",
       "      <th>signing_bonus</th>\n",
       "      <td>1.882332</td>\n",
       "      <td>0.170069</td>\n",
       "    </tr>\n",
       "    <tr>\n",
       "      <th>is_male</th>\n",
       "      <td>1.105385</td>\n",
       "      <td>0.293087</td>\n",
       "    </tr>\n",
       "    <tr>\n",
       "      <th>level</th>\n",
       "      <td>0.546418</td>\n",
       "      <td>0.459785</td>\n",
       "    </tr>\n",
       "    <tr>\n",
       "      <th>degree_level</th>\n",
       "      <td>0.380289</td>\n",
       "      <td>0.537449</td>\n",
       "    </tr>\n",
       "    <tr>\n",
       "      <th>yrs_experience</th>\n",
       "      <td>0.005327</td>\n",
       "      <td>0.941818</td>\n",
       "    </tr>\n",
       "  </tbody>\n",
       "</table>\n",
       "</div>"
      ],
      "text/plain": [
       "                      score    pvalue\n",
       "n_subordinates  8260.401345  0.000000\n",
       "dept              12.022876  0.000526\n",
       "signing_bonus      1.882332  0.170069\n",
       "is_male            1.105385  0.293087\n",
       "level              0.546418  0.459785\n",
       "degree_level       0.380289  0.537449\n",
       "yrs_experience     0.005327  0.941818"
      ]
     },
     "execution_count": 35,
     "metadata": {},
     "output_type": "execute_result"
    }
   ],
   "source": [
    "chisquare_test_on_bias()"
   ]
  },
  {
   "cell_type": "markdown",
   "metadata": {},
   "source": [
    "n_subordinates, department, level are three factors impacting whether the employee is overpaid or underpaid."
   ]
  },
  {
   "cell_type": "code",
   "execution_count": 36,
   "metadata": {},
   "outputs": [
    {
     "data": {
      "text/plain": [
       "Text(0, 0.5, 'bias')"
      ]
     },
     "execution_count": 36,
     "metadata": {},
     "output_type": "execute_result"
    },
    {
     "data": {
      "image/png": "[encoded data removed]",
      "text/plain": [
       "<Figure size 720x360 with 1 Axes>"
      ]
     },
     "metadata": {
      "needs_background": "light"
     },
     "output_type": "display_data"
    }
   ],
   "source": [
    "plt.figure(figsize=(10,5))\n",
    "plt.scatter(predresult.n_subordinates,predresult.bias)\n",
    "plt.xlabel(\"#subordinates\")\n",
    "plt.ylabel(\"bias\")"
   ]
  },
  {
   "cell_type": "markdown",
   "metadata": {},
   "source": [
    "Is it fair? Any bias?\n",
    "\n",
    "I think, in large scope, the company treat its employee fairly. the difference among different sex and departments seems normal and fair enough.\n",
    "\n",
    "\n",
    "the only bias I can see is that, the management level is likely to be overpaid. Higher the level, more likely to be overpaid.\n",
    "\n",
    "\n",
    "Suggestions to HR header\n",
    "I may suggest him/her considering lower down the salaries in high management level , which may be more fair to the workforce.\n"
   ]
  },
  {
   "cell_type": "code",
   "execution_count": null,
   "metadata": {},
   "outputs": [],
   "source": []
  }
 ],
 "metadata": {
  "kernelspec": {
   "display_name": "Python 3",
   "language": "python",
   "name": "python3"
  },
  "language_info": {
   "codemirror_mode": {
    "name": "ipython",
    "version": 3
   },
   "file_extension": ".py",
   "mimetype": "text/x-python",
   "name": "python",
   "nbconvert_exporter": "python",
   "pygments_lexer": "ipython3",
   "version": "3.7.5"
  }
 },
 "nbformat": 4,
 "nbformat_minor": 2
}
