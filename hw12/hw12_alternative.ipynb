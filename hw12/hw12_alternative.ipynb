{
 "cells": [
  {
   "cell_type": "markdown",
   "metadata": {},
   "source": [
    "# Applying for a loan"
   ]
  },
  {
   "cell_type": "code",
   "execution_count": 1,
   "metadata": {},
   "outputs": [],
   "source": [
    "import itertools\n",
    "import numpy as np\n",
    "import pandas as pd\n",
    "\n",
    "from sklearn.model_selection import train_test_split\n",
    "from sklearn.metrics import classification_report,accuracy_score\n",
    "from sklearn.metrics import roc_curve\n",
    "import xgboost as xgb\n",
    "\n",
    "import matplotlib.pyplot as plt\n",
    "plt.style.use('ggplot')\n",
    "%matplotlib inline"
   ]
  },
  {
   "cell_type": "code",
   "execution_count": 2,
   "metadata": {},
   "outputs": [],
   "source": [
    "seed = 999 # seed to generate random numbers"
   ]
  },
  {
   "cell_type": "markdown",
   "metadata": {},
   "source": [
    "# Load the data"
   ]
  },
  {
   "cell_type": "code",
   "execution_count": 3,
   "metadata": {},
   "outputs": [],
   "source": [
    "loan = pd.read_csv(\"loan_table.csv\",index_col='loan_id')\n",
    "# rename columns to short name, which is easier to visualize\n",
    "loan.rename(columns={'loan_purpose':'purpose',\n",
    "                     'loan_granted':'granted',\n",
    "                     'loan_repaid':'repaid'},inplace=True)\n",
    "loan['date'] = pd.to_datetime(loan.date)"
   ]
  },
  {
   "cell_type": "code",
   "execution_count": 4,
   "metadata": {},
   "outputs": [],
   "source": [
    "borrower = pd.read_csv(\"borrower_table.csv\",index_col='loan_id')\n",
    "# rename columns to short name, which is easier to visualize\n",
    "borrower.rename(columns={'is_first_loan':'is_first',\n",
    "                         'fully_repaid_previous_loans':'repay_prev',\n",
    "                         'currently_repaying_other_loans':'paying_others',\n",
    "                         'total_credit_card_limit':'credit_limit',\n",
    "                         'avg_percentage_credit_card_limit_used_last_year':'credit_used',\n",
    "                         'saving_amount':'saving',\n",
    "                         'checking_amount':'checking',\n",
    "                         'yearly_salary':'salary',\n",
    "                         'dependent_number':'n_depends'},inplace=True)"
   ]
  },
  {
   "cell_type": "code",
   "execution_count": 5,
   "metadata": {},
   "outputs": [],
   "source": [
    "# merge loan information and borrow information together\n",
    "loan = borrower.join(loan)"
   ]
  },
  {
   "cell_type": "code",
   "execution_count": 6,
   "metadata": {},
   "outputs": [
    {
     "data": {
      "text/html": [
       "<div>\n",
       "<style scoped>\n",
       "    .dataframe tbody tr th:only-of-type {\n",
       "        vertical-align: middle;\n",
       "    }\n",
       "\n",
       "    .dataframe tbody tr th {\n",
       "        vertical-align: top;\n",
       "    }\n",
       "\n",
       "    .dataframe thead th {\n",
       "        text-align: right;\n",
       "    }\n",
       "</style>\n",
       "<table border=\"1\" class=\"dataframe\">\n",
       "  <thead>\n",
       "    <tr style=\"text-align: right;\">\n",
       "      <th></th>\n",
       "      <th>is_first</th>\n",
       "      <th>repay_prev</th>\n",
       "      <th>paying_others</th>\n",
       "      <th>credit_limit</th>\n",
       "      <th>credit_used</th>\n",
       "      <th>saving</th>\n",
       "      <th>checking</th>\n",
       "      <th>is_employed</th>\n",
       "      <th>salary</th>\n",
       "      <th>age</th>\n",
       "      <th>n_depends</th>\n",
       "      <th>purpose</th>\n",
       "      <th>date</th>\n",
       "      <th>granted</th>\n",
       "      <th>repaid</th>\n",
       "    </tr>\n",
       "    <tr>\n",
       "      <th>loan_id</th>\n",
       "      <th></th>\n",
       "      <th></th>\n",
       "      <th></th>\n",
       "      <th></th>\n",
       "      <th></th>\n",
       "      <th></th>\n",
       "      <th></th>\n",
       "      <th></th>\n",
       "      <th></th>\n",
       "      <th></th>\n",
       "      <th></th>\n",
       "      <th></th>\n",
       "      <th></th>\n",
       "      <th></th>\n",
       "      <th></th>\n",
       "    </tr>\n",
       "  </thead>\n",
       "  <tbody>\n",
       "    <tr>\n",
       "      <th>770267</th>\n",
       "      <td>1</td>\n",
       "      <td>NaN</td>\n",
       "      <td>NaN</td>\n",
       "      <td>2900</td>\n",
       "      <td>0.82</td>\n",
       "      <td>1003</td>\n",
       "      <td>2682</td>\n",
       "      <td>0</td>\n",
       "      <td>0</td>\n",
       "      <td>23</td>\n",
       "      <td>2</td>\n",
       "      <td>other</td>\n",
       "      <td>2012-04-04</td>\n",
       "      <td>0</td>\n",
       "      <td>NaN</td>\n",
       "    </tr>\n",
       "    <tr>\n",
       "      <th>672165</th>\n",
       "      <td>1</td>\n",
       "      <td>NaN</td>\n",
       "      <td>NaN</td>\n",
       "      <td>4900</td>\n",
       "      <td>0.52</td>\n",
       "      <td>6</td>\n",
       "      <td>5470</td>\n",
       "      <td>1</td>\n",
       "      <td>19300</td>\n",
       "      <td>54</td>\n",
       "      <td>2</td>\n",
       "      <td>home</td>\n",
       "      <td>2012-07-26</td>\n",
       "      <td>0</td>\n",
       "      <td>NaN</td>\n",
       "    </tr>\n",
       "    <tr>\n",
       "      <th>625877</th>\n",
       "      <td>1</td>\n",
       "      <td>NaN</td>\n",
       "      <td>NaN</td>\n",
       "      <td>3400</td>\n",
       "      <td>0.70</td>\n",
       "      <td>1151</td>\n",
       "      <td>7442</td>\n",
       "      <td>1</td>\n",
       "      <td>32700</td>\n",
       "      <td>32</td>\n",
       "      <td>1</td>\n",
       "      <td>investment</td>\n",
       "      <td>2012-10-08</td>\n",
       "      <td>0</td>\n",
       "      <td>NaN</td>\n",
       "    </tr>\n",
       "    <tr>\n",
       "      <th>695125</th>\n",
       "      <td>0</td>\n",
       "      <td>1.0</td>\n",
       "      <td>0.0</td>\n",
       "      <td>4000</td>\n",
       "      <td>0.45</td>\n",
       "      <td>1000</td>\n",
       "      <td>4453</td>\n",
       "      <td>1</td>\n",
       "      <td>22300</td>\n",
       "      <td>37</td>\n",
       "      <td>2</td>\n",
       "      <td>business</td>\n",
       "      <td>2012-03-13</td>\n",
       "      <td>1</td>\n",
       "      <td>1.0</td>\n",
       "    </tr>\n",
       "    <tr>\n",
       "      <th>496295</th>\n",
       "      <td>0</td>\n",
       "      <td>1.0</td>\n",
       "      <td>0.0</td>\n",
       "      <td>3900</td>\n",
       "      <td>0.62</td>\n",
       "      <td>1688</td>\n",
       "      <td>5313</td>\n",
       "      <td>1</td>\n",
       "      <td>21500</td>\n",
       "      <td>41</td>\n",
       "      <td>1</td>\n",
       "      <td>business</td>\n",
       "      <td>2012-01-03</td>\n",
       "      <td>1</td>\n",
       "      <td>1.0</td>\n",
       "    </tr>\n",
       "  </tbody>\n",
       "</table>\n",
       "</div>"
      ],
      "text/plain": [
       "         is_first  repay_prev  paying_others  credit_limit  credit_used  \\\n",
       "loan_id                                                                   \n",
       "770267          1         NaN            NaN          2900         0.82   \n",
       "672165          1         NaN            NaN          4900         0.52   \n",
       "625877          1         NaN            NaN          3400         0.70   \n",
       "695125          0         1.0            0.0          4000         0.45   \n",
       "496295          0         1.0            0.0          3900         0.62   \n",
       "\n",
       "         saving  checking  is_employed  salary  age  n_depends     purpose  \\\n",
       "loan_id                                                                      \n",
       "770267     1003      2682            0       0   23          2       other   \n",
       "672165        6      5470            1   19300   54          2        home   \n",
       "625877     1151      7442            1   32700   32          1  investment   \n",
       "695125     1000      4453            1   22300   37          2    business   \n",
       "496295     1688      5313            1   21500   41          1    business   \n",
       "\n",
       "              date  granted  repaid  \n",
       "loan_id                              \n",
       "770267  2012-04-04        0     NaN  \n",
       "672165  2012-07-26        0     NaN  \n",
       "625877  2012-10-08        0     NaN  \n",
       "695125  2012-03-13        1     1.0  \n",
       "496295  2012-01-03        1     1.0  "
      ]
     },
     "execution_count": 6,
     "metadata": {},
     "output_type": "execute_result"
    }
   ],
   "source": [
    "loan.sample(5)# get a feeling about the data"
   ]
  },
  {
   "cell_type": "markdown",
   "metadata": {},
   "source": [
    "# Generate target"
   ]
  },
  {
   "cell_type": "code",
   "execution_count": 7,
   "metadata": {},
   "outputs": [],
   "source": [
    "def calc_profit_and_should_grant(row):\n",
    "    \"\"\"\n",
    "    generate 'profit' and 'should_grant' target column according to rule:\n",
    "    1. if not granted, profit=0, should_grant=0\n",
    "    2. if granted and repaid, profit=1, should_grant=1\n",
    "    3. if granted and not repaid, profit=-1, should_grant=0\n",
    "    \"\"\"\n",
    "    granted = row['granted']\n",
    "    repaid = row['repaid']\n",
    "\n",
    "    profit = 0\n",
    "    should_grant = 0\n",
    "\n",
    "    if granted == 0:\n",
    "        profit = 0\n",
    "        should_grant = 0\n",
    "    else: # granted == 1\n",
    "        assert pd.notnull(repaid)\n",
    "        profit = 1 if repaid == 1 else -1\n",
    "        should_grant = 1 if repaid == 1 else 0\n",
    "\n",
    "    return pd.Series({'profit':profit,'should_grant':should_grant})"
   ]
  },
  {
   "cell_type": "code",
   "execution_count": 8,
   "metadata": {},
   "outputs": [
    {
     "data": {
      "text/html": [
       "<div>\n",
       "<style scoped>\n",
       "    .dataframe tbody tr th:only-of-type {\n",
       "        vertical-align: middle;\n",
       "    }\n",
       "\n",
       "    .dataframe tbody tr th {\n",
       "        vertical-align: top;\n",
       "    }\n",
       "\n",
       "    .dataframe thead th {\n",
       "        text-align: right;\n",
       "    }\n",
       "</style>\n",
       "<table border=\"1\" class=\"dataframe\">\n",
       "  <thead>\n",
       "    <tr style=\"text-align: right;\">\n",
       "      <th></th>\n",
       "      <th>is_first</th>\n",
       "      <th>repay_prev</th>\n",
       "      <th>paying_others</th>\n",
       "      <th>credit_limit</th>\n",
       "      <th>credit_used</th>\n",
       "      <th>saving</th>\n",
       "      <th>checking</th>\n",
       "      <th>is_employed</th>\n",
       "      <th>salary</th>\n",
       "      <th>age</th>\n",
       "      <th>n_depends</th>\n",
       "      <th>purpose</th>\n",
       "      <th>date</th>\n",
       "      <th>granted</th>\n",
       "      <th>repaid</th>\n",
       "      <th>profit</th>\n",
       "      <th>should_grant</th>\n",
       "    </tr>\n",
       "    <tr>\n",
       "      <th>loan_id</th>\n",
       "      <th></th>\n",
       "      <th></th>\n",
       "      <th></th>\n",
       "      <th></th>\n",
       "      <th></th>\n",
       "      <th></th>\n",
       "      <th></th>\n",
       "      <th></th>\n",
       "      <th></th>\n",
       "      <th></th>\n",
       "      <th></th>\n",
       "      <th></th>\n",
       "      <th></th>\n",
       "      <th></th>\n",
       "      <th></th>\n",
       "      <th></th>\n",
       "      <th></th>\n",
       "    </tr>\n",
       "  </thead>\n",
       "  <tbody>\n",
       "    <tr>\n",
       "      <th>289774</th>\n",
       "      <td>1</td>\n",
       "      <td>NaN</td>\n",
       "      <td>NaN</td>\n",
       "      <td>8000</td>\n",
       "      <td>0.49</td>\n",
       "      <td>3285</td>\n",
       "      <td>1073</td>\n",
       "      <td>0</td>\n",
       "      <td>0</td>\n",
       "      <td>47</td>\n",
       "      <td>3</td>\n",
       "      <td>business</td>\n",
       "      <td>2012-01-31</td>\n",
       "      <td>0</td>\n",
       "      <td>NaN</td>\n",
       "      <td>0</td>\n",
       "      <td>0</td>\n",
       "    </tr>\n",
       "    <tr>\n",
       "      <th>482590</th>\n",
       "      <td>0</td>\n",
       "      <td>1.0</td>\n",
       "      <td>0.0</td>\n",
       "      <td>4500</td>\n",
       "      <td>1.03</td>\n",
       "      <td>636</td>\n",
       "      <td>5299</td>\n",
       "      <td>1</td>\n",
       "      <td>13500</td>\n",
       "      <td>33</td>\n",
       "      <td>1</td>\n",
       "      <td>investment</td>\n",
       "      <td>2012-11-02</td>\n",
       "      <td>0</td>\n",
       "      <td>NaN</td>\n",
       "      <td>0</td>\n",
       "      <td>0</td>\n",
       "    </tr>\n",
       "    <tr>\n",
       "      <th>135565</th>\n",
       "      <td>1</td>\n",
       "      <td>NaN</td>\n",
       "      <td>NaN</td>\n",
       "      <td>6900</td>\n",
       "      <td>0.82</td>\n",
       "      <td>2085</td>\n",
       "      <td>3422</td>\n",
       "      <td>1</td>\n",
       "      <td>24500</td>\n",
       "      <td>38</td>\n",
       "      <td>8</td>\n",
       "      <td>other</td>\n",
       "      <td>2012-07-16</td>\n",
       "      <td>1</td>\n",
       "      <td>1.0</td>\n",
       "      <td>1</td>\n",
       "      <td>1</td>\n",
       "    </tr>\n",
       "    <tr>\n",
       "      <th>207797</th>\n",
       "      <td>0</td>\n",
       "      <td>1.0</td>\n",
       "      <td>0.0</td>\n",
       "      <td>1200</td>\n",
       "      <td>0.82</td>\n",
       "      <td>358</td>\n",
       "      <td>3388</td>\n",
       "      <td>0</td>\n",
       "      <td>0</td>\n",
       "      <td>24</td>\n",
       "      <td>1</td>\n",
       "      <td>investment</td>\n",
       "      <td>2012-06-05</td>\n",
       "      <td>0</td>\n",
       "      <td>NaN</td>\n",
       "      <td>0</td>\n",
       "      <td>0</td>\n",
       "    </tr>\n",
       "    <tr>\n",
       "      <th>828078</th>\n",
       "      <td>0</td>\n",
       "      <td>0.0</td>\n",
       "      <td>0.0</td>\n",
       "      <td>6900</td>\n",
       "      <td>0.80</td>\n",
       "      <td>2138</td>\n",
       "      <td>4282</td>\n",
       "      <td>1</td>\n",
       "      <td>18100</td>\n",
       "      <td>36</td>\n",
       "      <td>1</td>\n",
       "      <td>emergency_funds</td>\n",
       "      <td>2012-11-28</td>\n",
       "      <td>0</td>\n",
       "      <td>NaN</td>\n",
       "      <td>0</td>\n",
       "      <td>0</td>\n",
       "    </tr>\n",
       "  </tbody>\n",
       "</table>\n",
       "</div>"
      ],
      "text/plain": [
       "         is_first  repay_prev  paying_others  credit_limit  credit_used  \\\n",
       "loan_id                                                                   \n",
       "289774          1         NaN            NaN          8000         0.49   \n",
       "482590          0         1.0            0.0          4500         1.03   \n",
       "135565          1         NaN            NaN          6900         0.82   \n",
       "207797          0         1.0            0.0          1200         0.82   \n",
       "828078          0         0.0            0.0          6900         0.80   \n",
       "\n",
       "         saving  checking  is_employed  salary  age  n_depends  \\\n",
       "loan_id                                                          \n",
       "289774     3285      1073            0       0   47          3   \n",
       "482590      636      5299            1   13500   33          1   \n",
       "135565     2085      3422            1   24500   38          8   \n",
       "207797      358      3388            0       0   24          1   \n",
       "828078     2138      4282            1   18100   36          1   \n",
       "\n",
       "                 purpose       date  granted  repaid  profit  should_grant  \n",
       "loan_id                                                                     \n",
       "289774          business 2012-01-31        0     NaN       0             0  \n",
       "482590        investment 2012-11-02        0     NaN       0             0  \n",
       "135565             other 2012-07-16        1     1.0       1             1  \n",
       "207797        investment 2012-06-05        0     NaN       0             0  \n",
       "828078   emergency_funds 2012-11-28        0     NaN       0             0  "
      ]
     },
     "execution_count": 8,
     "metadata": {},
     "output_type": "execute_result"
    }
   ],
   "source": [
    "profits = loan.apply(calc_profit_and_should_grant,axis=1)\n",
    "loan = loan.join(profits)# merget together\n",
    "loan.head()"
   ]
  },
  {
   "cell_type": "markdown",
   "metadata": {},
   "source": [
    "# Feature Engineering"
   ]
  },
  {
   "cell_type": "code",
   "execution_count": 9,
   "metadata": {},
   "outputs": [],
   "source": [
    "X = loan.copy()"
   ]
  },
  {
   "cell_type": "markdown",
   "metadata": {},
   "source": [
    "### Dealing previous loan history"
   ]
  },
  {
   "cell_type": "markdown",
   "metadata": {},
   "source": [
    "there is some redundacy between 'is_first', 'repay_prev' and 'paying_other' features. if 'is_first'==1, then 'repay_prev' and 'paying_others' are both NaN for sure.\n",
    "\n",
    "\n",
    "since I am going to use tree model, which is good at dealing with 'categorical feature', so I will treat the tree features like below:\n",
    "\n",
    "\n",
    "set 'NaN' in 'reay_prev' and 'paying_others' as -1, which indicates the brower is asking for loan the first time\n",
    "discard 'is_first' feature, since its information has already been included in '-1' in 'repay_prev' and 'paying_others'\n",
    "in other words, I treat 'repay_others' and 'paying_others' as categorical feature, and just use ordinary Ordinal Encoding other than more-often used One-Hot-Encoding. why? because tree model looks for cutoff in numeric feature other than calculating the distance , and there is only 3 unique values in the feature (-1,0,1), which is very easy to find cutoff to distinguish each category."
   ]
  },
  {
   "cell_type": "code",
   "execution_count": 10,
   "metadata": {},
   "outputs": [],
   "source": [
    "X.fillna({'repay_prev':-1,'paying_others':-1},inplace=True)\n",
    "del X['is_first'] # redundant after filling missing in 'repay_prev' and 'paying_others'"
   ]
  },
  {
   "cell_type": "markdown",
   "metadata": {},
   "source": [
    "### Employment status and salary"
   ]
  },
  {
   "cell_type": "code",
   "execution_count": 12,
   "metadata": {},
   "outputs": [
    {
     "data": {
      "text/plain": [
       "0    34508\n",
       "Name: salary, dtype: int64"
      ]
     },
     "execution_count": 12,
     "metadata": {},
     "output_type": "execute_result"
    }
   ],
   "source": [
    "X.loc[X.is_employed==0,'salary'].value_counts()\n"
   ]
  },
  {
   "cell_type": "code",
   "execution_count": 13,
   "metadata": {},
   "outputs": [
    {
     "data": {
      "text/plain": [
       "0    34508\n",
       "1       13\n",
       "Name: is_employed, dtype: int64"
      ]
     },
     "execution_count": 13,
     "metadata": {},
     "output_type": "execute_result"
    }
   ],
   "source": [
    "X.loc[X.salary==0,'is_employed'].value_counts()"
   ]
  },
  {
   "cell_type": "markdown",
   "metadata": {},
   "source": [
    "from above result, we can know that:\n",
    "\n",
    "all unemployed has 0 salary\n",
    "\n",
    "most of the brower who doesn't have salary are unemployed\n",
    "\n",
    "so there is redundancy between 'is_employed' and 'salary ==0 or not'. more features, more easier to get over-fitting. so I keep 'salary' and decide to drop 'is_employed'"
   ]
  },
  {
   "cell_type": "code",
   "execution_count": 14,
   "metadata": {},
   "outputs": [],
   "source": [
    "# redudant, since 'not employed' has salary=0\n",
    "# and, most employed has salary>0\n",
    "del X['is_employed']"
   ]
  },
  {
   "cell_type": "markdown",
   "metadata": {},
   "source": [
    "### One-Hot-Encoding purpose"
   ]
  },
  {
   "cell_type": "markdown",
   "metadata": {},
   "source": [
    "since I am going to use train model, which can accept Ordinal Encoding of the categorical feature. However, since 'purpose' has 5 unique values, I think OHE can reduce the burden of tree."
   ]
  },
  {
   "cell_type": "code",
   "execution_count": 15,
   "metadata": {},
   "outputs": [
    {
     "data": {
      "text/plain": [
       "home               24314\n",
       "business           21707\n",
       "investment         21484\n",
       "emergency_funds    18091\n",
       "other              15504\n",
       "Name: purpose, dtype: int64"
      ]
     },
     "execution_count": 15,
     "metadata": {},
     "output_type": "execute_result"
    }
   ],
   "source": [
    "X.purpose.value_counts()"
   ]
  },
  {
   "cell_type": "code",
   "execution_count": 16,
   "metadata": {},
   "outputs": [],
   "source": [
    "# since 'purpose' is the only text column, get_dummies only OHE 'purpose'\n",
    "X = pd.get_dummies(X)\n",
    "\n",
    "# K unique values, only need K-1 features, so remove one redundant feature\n",
    "del X['purpose_other'] # redudant\n",
    "\n",
    "# rename to short names, which is easier to read\n",
    "X.rename(columns={'purpose_emergency_funds':'purpose_emergency'},inplace=True)"
   ]
  },
  {
   "cell_type": "code",
   "execution_count": 17,
   "metadata": {},
   "outputs": [
    {
     "data": {
      "text/html": [
       "<div>\n",
       "<style scoped>\n",
       "    .dataframe tbody tr th:only-of-type {\n",
       "        vertical-align: middle;\n",
       "    }\n",
       "\n",
       "    .dataframe tbody tr th {\n",
       "        vertical-align: top;\n",
       "    }\n",
       "\n",
       "    .dataframe thead th {\n",
       "        text-align: right;\n",
       "    }\n",
       "</style>\n",
       "<table border=\"1\" class=\"dataframe\">\n",
       "  <thead>\n",
       "    <tr style=\"text-align: right;\">\n",
       "      <th></th>\n",
       "      <th>repay_prev</th>\n",
       "      <th>paying_others</th>\n",
       "      <th>credit_limit</th>\n",
       "      <th>credit_used</th>\n",
       "      <th>saving</th>\n",
       "      <th>checking</th>\n",
       "      <th>salary</th>\n",
       "      <th>age</th>\n",
       "      <th>n_depends</th>\n",
       "      <th>date</th>\n",
       "      <th>granted</th>\n",
       "      <th>repaid</th>\n",
       "      <th>profit</th>\n",
       "      <th>should_grant</th>\n",
       "      <th>purpose_business</th>\n",
       "      <th>purpose_emergency</th>\n",
       "      <th>purpose_home</th>\n",
       "      <th>purpose_investment</th>\n",
       "    </tr>\n",
       "    <tr>\n",
       "      <th>loan_id</th>\n",
       "      <th></th>\n",
       "      <th></th>\n",
       "      <th></th>\n",
       "      <th></th>\n",
       "      <th></th>\n",
       "      <th></th>\n",
       "      <th></th>\n",
       "      <th></th>\n",
       "      <th></th>\n",
       "      <th></th>\n",
       "      <th></th>\n",
       "      <th></th>\n",
       "      <th></th>\n",
       "      <th></th>\n",
       "      <th></th>\n",
       "      <th></th>\n",
       "      <th></th>\n",
       "      <th></th>\n",
       "    </tr>\n",
       "  </thead>\n",
       "  <tbody>\n",
       "    <tr>\n",
       "      <th>289774</th>\n",
       "      <td>-1.0</td>\n",
       "      <td>-1.0</td>\n",
       "      <td>8000</td>\n",
       "      <td>0.49</td>\n",
       "      <td>3285</td>\n",
       "      <td>1073</td>\n",
       "      <td>0</td>\n",
       "      <td>47</td>\n",
       "      <td>3</td>\n",
       "      <td>2012-01-31</td>\n",
       "      <td>0</td>\n",
       "      <td>NaN</td>\n",
       "      <td>0</td>\n",
       "      <td>0</td>\n",
       "      <td>1</td>\n",
       "      <td>0</td>\n",
       "      <td>0</td>\n",
       "      <td>0</td>\n",
       "    </tr>\n",
       "    <tr>\n",
       "      <th>482590</th>\n",
       "      <td>1.0</td>\n",
       "      <td>0.0</td>\n",
       "      <td>4500</td>\n",
       "      <td>1.03</td>\n",
       "      <td>636</td>\n",
       "      <td>5299</td>\n",
       "      <td>13500</td>\n",
       "      <td>33</td>\n",
       "      <td>1</td>\n",
       "      <td>2012-11-02</td>\n",
       "      <td>0</td>\n",
       "      <td>NaN</td>\n",
       "      <td>0</td>\n",
       "      <td>0</td>\n",
       "      <td>0</td>\n",
       "      <td>0</td>\n",
       "      <td>0</td>\n",
       "      <td>1</td>\n",
       "    </tr>\n",
       "    <tr>\n",
       "      <th>135565</th>\n",
       "      <td>-1.0</td>\n",
       "      <td>-1.0</td>\n",
       "      <td>6900</td>\n",
       "      <td>0.82</td>\n",
       "      <td>2085</td>\n",
       "      <td>3422</td>\n",
       "      <td>24500</td>\n",
       "      <td>38</td>\n",
       "      <td>8</td>\n",
       "      <td>2012-07-16</td>\n",
       "      <td>1</td>\n",
       "      <td>1.0</td>\n",
       "      <td>1</td>\n",
       "      <td>1</td>\n",
       "      <td>0</td>\n",
       "      <td>0</td>\n",
       "      <td>0</td>\n",
       "      <td>0</td>\n",
       "    </tr>\n",
       "    <tr>\n",
       "      <th>207797</th>\n",
       "      <td>1.0</td>\n",
       "      <td>0.0</td>\n",
       "      <td>1200</td>\n",
       "      <td>0.82</td>\n",
       "      <td>358</td>\n",
       "      <td>3388</td>\n",
       "      <td>0</td>\n",
       "      <td>24</td>\n",
       "      <td>1</td>\n",
       "      <td>2012-06-05</td>\n",
       "      <td>0</td>\n",
       "      <td>NaN</td>\n",
       "      <td>0</td>\n",
       "      <td>0</td>\n",
       "      <td>0</td>\n",
       "      <td>0</td>\n",
       "      <td>0</td>\n",
       "      <td>1</td>\n",
       "    </tr>\n",
       "    <tr>\n",
       "      <th>828078</th>\n",
       "      <td>0.0</td>\n",
       "      <td>0.0</td>\n",
       "      <td>6900</td>\n",
       "      <td>0.80</td>\n",
       "      <td>2138</td>\n",
       "      <td>4282</td>\n",
       "      <td>18100</td>\n",
       "      <td>36</td>\n",
       "      <td>1</td>\n",
       "      <td>2012-11-28</td>\n",
       "      <td>0</td>\n",
       "      <td>NaN</td>\n",
       "      <td>0</td>\n",
       "      <td>0</td>\n",
       "      <td>0</td>\n",
       "      <td>1</td>\n",
       "      <td>0</td>\n",
       "      <td>0</td>\n",
       "    </tr>\n",
       "  </tbody>\n",
       "</table>\n",
       "</div>"
      ],
      "text/plain": [
       "         repay_prev  paying_others  credit_limit  credit_used  saving  \\\n",
       "loan_id                                                                 \n",
       "289774         -1.0           -1.0          8000         0.49    3285   \n",
       "482590          1.0            0.0          4500         1.03     636   \n",
       "135565         -1.0           -1.0          6900         0.82    2085   \n",
       "207797          1.0            0.0          1200         0.82     358   \n",
       "828078          0.0            0.0          6900         0.80    2138   \n",
       "\n",
       "         checking  salary  age  n_depends       date  granted  repaid  profit  \\\n",
       "loan_id                                                                         \n",
       "289774       1073       0   47          3 2012-01-31        0     NaN       0   \n",
       "482590       5299   13500   33          1 2012-11-02        0     NaN       0   \n",
       "135565       3422   24500   38          8 2012-07-16        1     1.0       1   \n",
       "207797       3388       0   24          1 2012-06-05        0     NaN       0   \n",
       "828078       4282   18100   36          1 2012-11-28        0     NaN       0   \n",
       "\n",
       "         should_grant  purpose_business  purpose_emergency  purpose_home  \\\n",
       "loan_id                                                                    \n",
       "289774              0                 1                  0             0   \n",
       "482590              0                 0                  0             0   \n",
       "135565              1                 0                  0             0   \n",
       "207797              0                 0                  0             0   \n",
       "828078              0                 0                  1             0   \n",
       "\n",
       "         purpose_investment  \n",
       "loan_id                      \n",
       "289774                    0  \n",
       "482590                    1  \n",
       "135565                    0  \n",
       "207797                    1  \n",
       "828078                    0  "
      ]
     },
     "execution_count": 17,
     "metadata": {},
     "output_type": "execute_result"
    }
   ],
   "source": [
    "X.head()"
   ]
  },
  {
   "cell_type": "code",
   "execution_count": 19,
   "metadata": {},
   "outputs": [],
   "source": [
    "X.to_csv(\"cleaned_loan.csv\",index_label='loan_id')"
   ]
  },
  {
   "cell_type": "markdown",
   "metadata": {},
   "source": [
    "## Train the model"
   ]
  },
  {
   "cell_type": "code",
   "execution_count": 20,
   "metadata": {},
   "outputs": [],
   "source": [
    "y = X.loc[:,'should_grant']\n",
    "\n",
    "feature_names = ['repay_prev', 'paying_others', 'credit_limit', 'credit_used',\n",
    "                 'saving', 'checking', 'salary', 'age', 'n_depends', \n",
    "                 'purpose_business','purpose_emergency', 'purpose_home', 'purpose_investment']\n",
    "X = X.loc[:,feature_names]"
   ]
  },
  {
   "cell_type": "code",
   "execution_count": 21,
   "metadata": {},
   "outputs": [
    {
     "data": {
      "text/plain": [
       "0    0.696281\n",
       "1    0.303719\n",
       "Name: should_grant, dtype: float64"
      ]
     },
     "execution_count": 21,
     "metadata": {},
     "output_type": "execute_result"
    }
   ],
   "source": [
    "y.value_counts(normalize=True)"
   ]
  },
  {
   "cell_type": "markdown",
   "metadata": {},
   "source": [
    "positive class 'should_grant=1' consists of about 30% of all examples, there is some imbalance in the dataset. so\n",
    "\n",
    "we should use AUC other than accuracy when learning the model, and\n",
    "\n",
    "we need to choose a better 'probability cutoff' instead of using the default 0.5\n",
    "\n",
    "\n",
    "split the whole dataset into Training, Validation, Test three parts, and build DMatrix which will be used in xgboost"
   ]
  },
  {
   "cell_type": "code",
   "execution_count": 22,
   "metadata": {},
   "outputs": [],
   "source": [
    "# split as training and test\n",
    "Xtrain,Xtest,ytrain,ytest = train_test_split(X,y,test_size=0.3,random_state=seed)\n",
    "\n",
    "# split the training data as training and test\n",
    "Xtrain,Xvalid,ytrain,yvalid =  train_test_split(Xtrain,ytrain,test_size=0.3,random_state=seed)"
   ]
  },
  {
   "cell_type": "code",
   "execution_count": 23,
   "metadata": {},
   "outputs": [
    {
     "name": "stderr",
     "output_type": "stream",
     "text": [
      "c:\\users\\danqi\\appdata\\local\\programs\\python\\python37\\lib\\site-packages\\xgboost\\core.py:587: FutureWarning: Series.base is deprecated and will be removed in a future version\n",
      "  if getattr(data, 'base', None) is not None and \\\n"
     ]
    }
   ],
   "source": [
    "train_matrix = xgb.DMatrix(Xtrain,ytrain)\n",
    "valid_matrix = xgb.DMatrix(Xvalid,yvalid)\n",
    "test_matrix = xgb.DMatrix(Xtest,ytest)"
   ]
  },
  {
   "cell_type": "code",
   "execution_count": 25,
   "metadata": {},
   "outputs": [],
   "source": [
    "def train(params):\n",
    "    params['silent'] = 1\n",
    "    params['objective'] = 'binary:logistic'  # output probabilities\n",
    "    params['eval_metric'] = 'auc'\n",
    "\n",
    "    num_rounds = params[\"num_rounds\"]\n",
    "    early_stopping_rounds = params[\"early_stop_rounds\"]\n",
    "\n",
    "    # early stop will check on the last dataset\n",
    "    watchlist = [(train_matrix, 'train'), (valid_matrix, 'validate')]\n",
    "    bst = xgb.train(params, train_matrix, num_rounds, watchlist, early_stopping_rounds=early_stopping_rounds)\n",
    "\n",
    "    print (\"parameters: {}\".format(params))\n",
    "    print (\"best {}: {:.2f}\".format(params[\"eval_metric\"], bst.best_score))\n",
    "    print (\"best #trees: %d\" % (bst.best_ntree_limit))\n",
    "\n",
    "    return bst"
   ]
  },
  {
   "cell_type": "code",
   "execution_count": 26,
   "metadata": {},
   "outputs": [
    {
     "name": "stdout",
     "output_type": "stream",
     "text": [
      "[0]\ttrain-auc:0.889014\tvalidate-auc:0.887761\n",
      "Multiple eval metrics have been passed: 'validate-auc' will be used for early stopping.\n",
      "\n",
      "Will train until validate-auc hasn't improved in 30 rounds.\n",
      "[1]\ttrain-auc:0.888397\tvalidate-auc:0.884672\n",
      "[2]\ttrain-auc:0.893649\tvalidate-auc:0.888734\n",
      "[3]\ttrain-auc:0.895107\tvalidate-auc:0.890933\n",
      "[4]\ttrain-auc:0.896239\tvalidate-auc:0.891996\n",
      "[5]\ttrain-auc:0.897275\tvalidate-auc:0.893543\n",
      "[6]\ttrain-auc:0.898006\tvalidate-auc:0.893653\n",
      "[7]\ttrain-auc:0.899159\tvalidate-auc:0.894512\n",
      "[8]\ttrain-auc:0.899655\tvalidate-auc:0.894487\n",
      "[9]\ttrain-auc:0.89997\tvalidate-auc:0.894676\n",
      "[10]\ttrain-auc:0.900338\tvalidate-auc:0.895069\n",
      "[11]\ttrain-auc:0.901066\tvalidate-auc:0.895192\n",
      "[12]\ttrain-auc:0.901132\tvalidate-auc:0.895232\n",
      "[13]\ttrain-auc:0.90133\tvalidate-auc:0.895025\n",
      "[14]\ttrain-auc:0.90178\tvalidate-auc:0.895004\n",
      "[15]\ttrain-auc:0.901981\tvalidate-auc:0.895194\n",
      "[16]\ttrain-auc:0.902368\tvalidate-auc:0.895165\n",
      "[17]\ttrain-auc:0.902759\tvalidate-auc:0.895053\n",
      "[18]\ttrain-auc:0.902931\tvalidate-auc:0.895128\n",
      "[19]\ttrain-auc:0.903202\tvalidate-auc:0.895268\n",
      "[20]\ttrain-auc:0.903344\tvalidate-auc:0.895191\n",
      "[21]\ttrain-auc:0.903667\tvalidate-auc:0.895253\n",
      "[22]\ttrain-auc:0.904038\tvalidate-auc:0.895299\n",
      "[23]\ttrain-auc:0.904611\tvalidate-auc:0.895537\n",
      "[24]\ttrain-auc:0.904811\tvalidate-auc:0.895681\n",
      "[25]\ttrain-auc:0.905238\tvalidate-auc:0.895721\n",
      "[26]\ttrain-auc:0.905426\tvalidate-auc:0.895819\n",
      "[27]\ttrain-auc:0.906159\tvalidate-auc:0.895827\n",
      "[28]\ttrain-auc:0.906591\tvalidate-auc:0.896007\n",
      "[29]\ttrain-auc:0.906864\tvalidate-auc:0.895978\n",
      "[30]\ttrain-auc:0.907014\tvalidate-auc:0.895949\n",
      "[31]\ttrain-auc:0.907196\tvalidate-auc:0.895934\n",
      "[32]\ttrain-auc:0.907416\tvalidate-auc:0.895958\n",
      "[33]\ttrain-auc:0.907587\tvalidate-auc:0.89615\n",
      "[34]\ttrain-auc:0.907724\tvalidate-auc:0.896055\n",
      "[35]\ttrain-auc:0.908168\tvalidate-auc:0.895939\n",
      "[36]\ttrain-auc:0.908372\tvalidate-auc:0.895962\n",
      "[37]\ttrain-auc:0.908814\tvalidate-auc:0.895874\n",
      "[38]\ttrain-auc:0.908986\tvalidate-auc:0.89582\n",
      "[39]\ttrain-auc:0.909153\tvalidate-auc:0.895825\n",
      "[40]\ttrain-auc:0.909504\tvalidate-auc:0.896003\n",
      "[41]\ttrain-auc:0.909939\tvalidate-auc:0.896069\n",
      "[42]\ttrain-auc:0.910443\tvalidate-auc:0.896146\n",
      "[43]\ttrain-auc:0.910703\tvalidate-auc:0.896111\n",
      "[44]\ttrain-auc:0.91096\tvalidate-auc:0.896195\n",
      "[45]\ttrain-auc:0.911364\tvalidate-auc:0.896197\n",
      "[46]\ttrain-auc:0.912201\tvalidate-auc:0.896332\n",
      "[47]\ttrain-auc:0.912583\tvalidate-auc:0.896413\n",
      "[48]\ttrain-auc:0.912947\tvalidate-auc:0.8963\n",
      "[49]\ttrain-auc:0.913192\tvalidate-auc:0.896406\n",
      "[50]\ttrain-auc:0.913374\tvalidate-auc:0.896356\n",
      "[51]\ttrain-auc:0.913521\tvalidate-auc:0.896349\n",
      "[52]\ttrain-auc:0.913772\tvalidate-auc:0.896318\n",
      "[53]\ttrain-auc:0.914045\tvalidate-auc:0.896238\n",
      "[54]\ttrain-auc:0.914578\tvalidate-auc:0.896475\n",
      "[55]\ttrain-auc:0.914757\tvalidate-auc:0.896462\n",
      "[56]\ttrain-auc:0.915402\tvalidate-auc:0.896386\n",
      "[57]\ttrain-auc:0.915985\tvalidate-auc:0.896335\n",
      "[58]\ttrain-auc:0.916124\tvalidate-auc:0.896335\n",
      "[59]\ttrain-auc:0.916837\tvalidate-auc:0.896179\n",
      "[60]\ttrain-auc:0.917113\tvalidate-auc:0.896224\n",
      "[61]\ttrain-auc:0.91741\tvalidate-auc:0.896206\n",
      "[62]\ttrain-auc:0.917753\tvalidate-auc:0.896153\n",
      "[63]\ttrain-auc:0.918356\tvalidate-auc:0.896057\n",
      "[64]\ttrain-auc:0.91873\tvalidate-auc:0.896091\n",
      "[65]\ttrain-auc:0.918937\tvalidate-auc:0.896072\n",
      "[66]\ttrain-auc:0.919512\tvalidate-auc:0.896189\n",
      "[67]\ttrain-auc:0.919856\tvalidate-auc:0.896231\n",
      "[68]\ttrain-auc:0.920136\tvalidate-auc:0.896359\n",
      "[69]\ttrain-auc:0.920661\tvalidate-auc:0.896247\n",
      "[70]\ttrain-auc:0.921031\tvalidate-auc:0.896257\n",
      "[71]\ttrain-auc:0.921416\tvalidate-auc:0.89617\n",
      "[72]\ttrain-auc:0.921739\tvalidate-auc:0.896065\n",
      "[73]\ttrain-auc:0.922057\tvalidate-auc:0.896059\n",
      "[74]\ttrain-auc:0.922455\tvalidate-auc:0.896112\n",
      "[75]\ttrain-auc:0.922833\tvalidate-auc:0.896227\n",
      "[76]\ttrain-auc:0.923084\tvalidate-auc:0.89618\n",
      "[77]\ttrain-auc:0.923354\tvalidate-auc:0.89615\n",
      "[78]\ttrain-auc:0.923598\tvalidate-auc:0.896154\n",
      "[79]\ttrain-auc:0.92372\tvalidate-auc:0.896175\n",
      "[80]\ttrain-auc:0.924005\tvalidate-auc:0.896221\n",
      "[81]\ttrain-auc:0.924186\tvalidate-auc:0.896206\n",
      "[82]\ttrain-auc:0.924342\tvalidate-auc:0.89628\n",
      "[83]\ttrain-auc:0.924688\tvalidate-auc:0.896164\n",
      "[84]\ttrain-auc:0.92484\tvalidate-auc:0.896181\n",
      "Stopping. Best iteration:\n",
      "[54]\ttrain-auc:0.914578\tvalidate-auc:0.896475\n",
      "\n",
      "parameters: {'num_rounds': 300, 'early_stop_rounds': 30, 'max_depth': 6, 'eta': 0.1, 'subsample': 0.8, 'colsample_bytree': 0.8, 'silent': 1, 'objective': 'binary:logistic', 'eval_metric': 'auc'}\n",
      "best auc: 0.90\n",
      "best #trees: 55\n"
     ]
    }
   ],
   "source": [
    "#------------- prepare parameters\n",
    "params = {}\n",
    "params[\"num_rounds\"] = 300\n",
    "params[\"early_stop_rounds\"] = 30\n",
    "# params['min_child_weight'] = 2\n",
    "params['max_depth'] = 6\n",
    "params['eta'] = 0.1\n",
    "params[\"subsample\"] = 0.8\n",
    "params[\"colsample_bytree\"] = 0.8\n",
    "\n",
    "# ------------- train with xgboost\n",
    "bst = train(params)"
   ]
  },
  {
   "cell_type": "code",
   "execution_count": 27,
   "metadata": {},
   "outputs": [
    {
     "data": {
      "text/plain": [
       "55"
      ]
     },
     "execution_count": 27,
     "metadata": {},
     "output_type": "execute_result"
    }
   ],
   "source": [
    "n_trees = bst.best_ntree_limit\n",
    "n_trees"
   ]
  },
  {
   "cell_type": "markdown",
   "metadata": {},
   "source": [
    "### Choose best probablity cutoff"
   ]
  },
  {
   "cell_type": "code",
   "execution_count": 28,
   "metadata": {},
   "outputs": [],
   "source": [
    "yvalid_true = valid_matrix.get_label()\n",
    "yvalid_pred_probas = bst.predict(valid_matrix, ntree_limit=bst.best_ntree_limit)\n",
    "\n",
    "fpr,tpr,thresholds = roc_curve(yvalid_true,yvalid_pred_probas)\n",
    "roc = pd.DataFrame({'FPR':fpr,'TPR':tpr,'Thresholds':thresholds})"
   ]
  },
  {
   "cell_type": "markdown",
   "metadata": {},
   "source": [
    "I am going to loop every possible threshold, and find the one which returns the highest profit."
   ]
  },
  {
   "cell_type": "code",
   "execution_count": 31,
   "metadata": {},
   "outputs": [],
   "source": [
    "def calc_profits(repaids,probas,threshold):\n",
    "    total_profit = 0\n",
    "    for (repaid,proba) in zip(repaids,probas):\n",
    "        if proba > threshold:\n",
    "            # it is possible for repaid=NaN\n",
    "            # which means, my model grant loan to a borrower whose application was rejected under old model\n",
    "            # the question doesn't clarify how to calculate profit for such case.\n",
    "            # however, since most 'rejected borrowers' were considered unlikely to repay by old model\n",
    "            # so I also think such people are very unlikely to repay even were granted\n",
    "            # so their profit are also -1, the same as 'granted but unable to repay'\n",
    "            total_profit += (1 if repaid == 1 else -1)\n",
    "    return total_profit"
   ]
  },
  {
   "cell_type": "code",
   "execution_count": 32,
   "metadata": {},
   "outputs": [],
   "source": [
    "# all examples in validation sets\n",
    "loan_valid = loan.loc[yvalid.index,:]\n",
    "\n",
    "# calculate profits under each candidate cutoff\n",
    "valid_profits = [ calc_profits(loan_valid.repaid,yvalid_pred_probas,threshold) for threshold in roc.Thresholds]"
   ]
  },
  {
   "cell_type": "code",
   "execution_count": 34,
   "metadata": {},
   "outputs": [
    {
     "data": {
      "image/png": "[encoded data removed]",
      "text/plain": [
       "<Figure size 432x288 with 1 Axes>"
      ]
     },
     "metadata": {
      "needs_background": "light"
     },
     "output_type": "display_data"
    }
   ],
   "source": [
    "plt.plot(roc.Thresholds,valid_profits)\n",
    "plt.yticks(range(-10000,4000,1000))\n",
    "_ = plt.xticks(np.linspace(0,1,11))\n",
    "plt.rc('figure',figsize=(5,5))"
   ]
  },
  {
   "cell_type": "markdown",
   "metadata": {},
   "source": [
    "from above plot, we know that, the best probability cutoff should be around 0.4, which can proved by following codes"
   ]
  },
  {
   "cell_type": "code",
   "execution_count": 36,
   "metadata": {},
   "outputs": [
    {
     "data": {
      "text/plain": [
       "threshold       0.424831\n",
       "profit       3121.000000\n",
       "Name: 3299, dtype: float64"
      ]
     },
     "execution_count": 36,
     "metadata": {},
     "output_type": "execute_result"
    }
   ],
   "source": [
    "valid_threshold_profits = pd.DataFrame({'threshold':roc.Thresholds,'profit':valid_profits})\n",
    "temp = valid_threshold_profits.loc[  valid_threshold_profits.profit.idxmax()   ,:]\n",
    "temp"
   ]
  },
  {
   "cell_type": "code",
   "execution_count": 37,
   "metadata": {},
   "outputs": [
    {
     "data": {
      "text/plain": [
       "0.4248310625553131"
      ]
     },
     "execution_count": 37,
     "metadata": {},
     "output_type": "execute_result"
    }
   ],
   "source": [
    "proba_threshold = temp['threshold']\n",
    "proba_threshold"
   ]
  },
  {
   "cell_type": "code",
   "execution_count": 38,
   "metadata": {},
   "outputs": [
    {
     "data": {
      "text/plain": [
       "<matplotlib.legend.Legend at 0x241c0385408>"
      ]
     },
     "execution_count": 38,
     "metadata": {},
     "output_type": "execute_result"
    },
    {
     "data": {
      "image/png": "[encoded data removed]",
      "text/plain": [
       "<Figure size 360x360 with 1 Axes>"
      ]
     },
     "metadata": {
      "needs_background": "light"
     },
     "output_type": "display_data"
    }
   ],
   "source": [
    "# plot ROC\n",
    "plt.plot(roc.FPR,roc.TPR,label='ROC')\n",
    "plt.xlabel(\"FPR\")\n",
    "plt.ylabel('TPR')\n",
    "\n",
    "ticks = np.linspace(0,1,11)\n",
    "plt.yticks(ticks)\n",
    "plt.xticks(ticks)\n",
    "\n",
    "# plot best thresholds\n",
    "best_cutoffs = roc.loc[ (roc.Thresholds > 0.43) & (roc.Thresholds < 0.44),:]\n",
    "plt.scatter(best_cutoffs.FPR,best_cutoffs.TPR,c='k',s=50,label='best cutoff')\n",
    "\n",
    "plt.rc('figure',figsize=(10,5))\n",
    "plt.legend(loc='best')"
   ]
  },
  {
   "cell_type": "markdown",
   "metadata": {},
   "source": [
    "### Re-train the model with all training data"
   ]
  },
  {
   "cell_type": "markdown",
   "metadata": {},
   "source": [
    "combine training data and validation set together, train with the best parameters found. this can improve the model."
   ]
  },
  {
   "cell_type": "code",
   "execution_count": 39,
   "metadata": {},
   "outputs": [],
   "source": [
    "# combine training set and validation set together\n",
    "Xalltrain = pd.concat([Xtrain,Xvalid],axis=0)\n",
    "yalltrain = pd.concat([ytrain,yvalid],axis=0)\n",
    "alltrain_matrix = xgb.DMatrix(Xalltrain,yalltrain)"
   ]
  },
  {
   "cell_type": "code",
   "execution_count": 40,
   "metadata": {},
   "outputs": [
    {
     "data": {
      "text/plain": [
       "{'num_rounds': 300,\n",
       " 'early_stop_rounds': 30,\n",
       " 'max_depth': 6,\n",
       " 'eta': 0.1,\n",
       " 'subsample': 0.8,\n",
       " 'colsample_bytree': 0.8,\n",
       " 'silent': 1,\n",
       " 'objective': 'binary:logistic',\n",
       " 'eval_metric': 'auc'}"
      ]
     },
     "execution_count": 40,
     "metadata": {},
     "output_type": "execute_result"
    }
   ],
   "source": [
    "# check the parameters\n",
    "params"
   ]
  },
  {
   "cell_type": "code",
   "execution_count": 41,
   "metadata": {},
   "outputs": [
    {
     "data": {
      "text/plain": [
       "55"
      ]
     },
     "execution_count": 41,
     "metadata": {},
     "output_type": "execute_result"
    }
   ],
   "source": [
    "# best number of trees\n",
    "n_trees"
   ]
  },
  {
   "cell_type": "code",
   "execution_count": 42,
   "metadata": {},
   "outputs": [
    {
     "name": "stdout",
     "output_type": "stream",
     "text": [
      "[0]\ttrain-auc:0.890156\n",
      "[1]\ttrain-auc:0.891988\n",
      "[2]\ttrain-auc:0.893645\n",
      "[3]\ttrain-auc:0.89445\n",
      "[4]\ttrain-auc:0.895943\n",
      "[5]\ttrain-auc:0.8972\n",
      "[6]\ttrain-auc:0.897562\n",
      "[7]\ttrain-auc:0.897262\n",
      "[8]\ttrain-auc:0.898579\n",
      "[9]\ttrain-auc:0.899514\n",
      "[10]\ttrain-auc:0.899806\n",
      "[11]\ttrain-auc:0.900039\n",
      "[12]\ttrain-auc:0.900238\n",
      "[13]\ttrain-auc:0.900535\n",
      "[14]\ttrain-auc:0.900672\n",
      "[15]\ttrain-auc:0.901194\n",
      "[16]\ttrain-auc:0.901384\n",
      "[17]\ttrain-auc:0.901734\n",
      "[18]\ttrain-auc:0.901877\n",
      "[19]\ttrain-auc:0.902059\n",
      "[20]\ttrain-auc:0.902291\n",
      "[21]\ttrain-auc:0.902569\n",
      "[22]\ttrain-auc:0.902966\n",
      "[23]\ttrain-auc:0.903265\n",
      "[24]\ttrain-auc:0.903535\n",
      "[25]\ttrain-auc:0.903634\n",
      "[26]\ttrain-auc:0.90369\n",
      "[27]\ttrain-auc:0.903824\n",
      "[28]\ttrain-auc:0.903975\n",
      "[29]\ttrain-auc:0.904113\n",
      "[30]\ttrain-auc:0.904216\n",
      "[31]\ttrain-auc:0.904509\n",
      "[32]\ttrain-auc:0.904732\n",
      "[33]\ttrain-auc:0.90487\n",
      "[34]\ttrain-auc:0.905049\n",
      "[35]\ttrain-auc:0.905249\n",
      "[36]\ttrain-auc:0.905352\n",
      "[37]\ttrain-auc:0.905542\n",
      "[38]\ttrain-auc:0.905765\n",
      "[39]\ttrain-auc:0.905968\n",
      "[40]\ttrain-auc:0.906211\n",
      "[41]\ttrain-auc:0.906577\n",
      "[42]\ttrain-auc:0.907055\n",
      "[43]\ttrain-auc:0.907554\n",
      "[44]\ttrain-auc:0.907808\n",
      "[45]\ttrain-auc:0.907963\n",
      "[46]\ttrain-auc:0.908187\n",
      "[47]\ttrain-auc:0.908472\n",
      "[48]\ttrain-auc:0.90894\n",
      "[49]\ttrain-auc:0.909147\n",
      "[50]\ttrain-auc:0.909321\n",
      "[51]\ttrain-auc:0.909751\n",
      "[52]\ttrain-auc:0.909911\n",
      "[53]\ttrain-auc:0.910229\n",
      "[54]\ttrain-auc:0.910603\n"
     ]
    }
   ],
   "source": [
    "watchlist = [(alltrain_matrix, 'train')]\n",
    "all_bst = xgb.train(params, alltrain_matrix, n_trees,watchlist)"
   ]
  },
  {
   "cell_type": "code",
   "execution_count": 43,
   "metadata": {},
   "outputs": [],
   "source": [
    "ytest_pred_probas = all_bst.predict(test_matrix, ntree_limit=n_trees)\n",
    "ytest_pred = (ytest_pred_probas > proba_threshold).astype(int)"
   ]
  },
  {
   "cell_type": "code",
   "execution_count": 44,
   "metadata": {},
   "outputs": [
    {
     "name": "stdout",
     "output_type": "stream",
     "text": [
      "test accuracy:  0.8432575008242664\n"
     ]
    }
   ],
   "source": [
    "print( \"test accuracy: \",accuracy_score(ytest,ytest_pred))"
   ]
  },
  {
   "cell_type": "code",
   "execution_count": 45,
   "metadata": {},
   "outputs": [
    {
     "name": "stdout",
     "output_type": "stream",
     "text": [
      "              precision    recall  f1-score   support\n",
      "\n",
      "           0       0.94      0.83      0.88     21161\n",
      "           1       0.69      0.87      0.77      9169\n",
      "\n",
      "    accuracy                           0.84     30330\n",
      "   macro avg       0.81      0.85      0.83     30330\n",
      "weighted avg       0.86      0.84      0.85     30330\n",
      "\n"
     ]
    }
   ],
   "source": [
    "print (classification_report(ytest,ytest_pred))"
   ]
  },
  {
   "cell_type": "code",
   "execution_count": 46,
   "metadata": {},
   "outputs": [
    {
     "data": {
      "text/plain": [
       "4130"
      ]
     },
     "execution_count": 46,
     "metadata": {},
     "output_type": "execute_result"
    }
   ],
   "source": [
    "# profit under old model\n",
    "loan_test = loan.loc[ytest.index,:]\n",
    "old_profit = loan_test.profit.sum()\n",
    "old_profit"
   ]
  },
  {
   "cell_type": "code",
   "execution_count": 47,
   "metadata": {},
   "outputs": [
    {
     "data": {
      "text/plain": [
       "4415"
      ]
     },
     "execution_count": 47,
     "metadata": {},
     "output_type": "execute_result"
    }
   ],
   "source": [
    "# profit under new model\n",
    "new_profit = calc_profits(loan_test.repaid,ytest_pred_probas,proba_threshold)\n",
    "new_profit"
   ]
  },
  {
   "cell_type": "markdown",
   "metadata": {},
   "source": [
    "## Feature importance"
   ]
  },
  {
   "cell_type": "code",
   "execution_count": 48,
   "metadata": {},
   "outputs": [
    {
     "data": {
      "text/plain": [
       "<matplotlib.axes._subplots.AxesSubplot at 0x241c04ce048>"
      ]
     },
     "execution_count": 48,
     "metadata": {},
     "output_type": "execute_result"
    },
    {
     "data": {
      "image/png": "[encoded data removed]",
      "text/plain": [
       "<Figure size 720x360 with 1 Axes>"
      ]
     },
     "metadata": {
      "needs_background": "light"
     },
     "output_type": "display_data"
    }
   ],
   "source": [
    "xgb.plot_importance(all_bst,title='Feature Importance')"
   ]
  },
  {
   "cell_type": "markdown",
   "metadata": {},
   "source": [
    "according to above plot, the most important feature is 'saving amount'. This makes perfect sense. Money in the saving account, meaure a person's ability to control his financial situation. More money in the saving account, more likely the borrower can repay.\n",
    "\n",
    "as I mentioned, in my model, 'is_employed' is merged into feature 'salary', which correspond to the case 'salary=0'. according to above plot, salary is also a strong feature.\n",
    "\n",
    "\n",
    "*if not employed, then salary=0, which will impact negatively on 'grant decision'. that is very easy to understand, a person without any financial input, will be very unlikely to repay.\n",
    "\n",
    "*but even the person is employed, whether grant the loan or not, depends on his salary. higher salary indicates strong ability to repay."
   ]
  },
  {
   "cell_type": "code",
   "execution_count": null,
   "metadata": {},
   "outputs": [],
   "source": []
  }
 ],
 "metadata": {
  "kernelspec": {
   "display_name": "Python 3",
   "language": "python",
   "name": "python3"
  },
  "language_info": {
   "codemirror_mode": {
    "name": "ipython",
    "version": 3
   },
   "file_extension": ".py",
   "mimetype": "text/x-python",
   "name": "python",
   "nbconvert_exporter": "python",
   "pygments_lexer": "ipython3",
   "version": "3.7.5"
  }
 },
 "nbformat": 4,
 "nbformat_minor": 2
}
