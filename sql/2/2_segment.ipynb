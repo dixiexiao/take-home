{
 "cells": [
  {
   "cell_type": "code",
   "execution_count": 1,
   "metadata": {},
   "outputs": [
    {
     "name": "stdout",
     "output_type": "stream",
     "text": [
      "   user_id           page\n",
      "0      128  page_5_mobile\n",
      "1     1324  page_2_mobile\n",
      "2     1343  page_6_mobile\n",
      "3      930  page_3_mobile\n",
      "4     1008  page_6_mobile\n",
      "   user_id        page\n",
      "0     1210  page_1_web\n",
      "1     1275  page_1_web\n",
      "2     1283  page_4_web\n",
      "3     1163  page_4_web\n",
      "4       96  page_2_web\n"
     ]
    }
   ],
   "source": [
    "import pandas\n",
    "pandas.set_option('display.max_columns', 20)\n",
    "pandas.set_option('display.width', 350)\n",
    "data_mobile=pandas.read_csv(\"query_two_mobile.csv\")\n",
    "data_web=pandas.read_csv(\"query_two_web.csv\")\n",
    "\n",
    "print(data_mobile.head())\n",
    "print(data_web.head())\n"
   ]
  },
  {
   "cell_type": "code",
   "execution_count": 15,
   "metadata": {},
   "outputs": [
    {
     "name": "stdout",
     "output_type": "stream",
     "text": [
      "      user_id         page_x      page_y\n",
      "1496        4  page_2_mobile  page_5_web\n",
      "1497        4  page_2_mobile  page_6_web\n"
     ]
    }
   ],
   "source": [
    "data_full= data_mobile.merge(data_web, left_on='user_id', right_on='user_id')\n",
    "print(data_full[data_full['user_id']==4])"
   ]
  },
  {
   "cell_type": "code",
   "execution_count": 12,
   "metadata": {},
   "outputs": [
    {
     "name": "stdout",
     "output_type": "stream",
     "text": [
      "         page_x  page_y\n",
      "user_id                \n",
      "1             2       1\n",
      "4             1       2\n",
      "5             1       1\n",
      "9             2       1\n",
      "13            1       2\n",
      "...         ...     ...\n",
      "1988          1       1\n",
      "1989          4       1\n",
      "1992          2       1\n",
      "1998          4       1\n",
      "2000          1       1\n",
      "\n",
      "[962 rows x 2 columns]\n"
     ]
    }
   ],
   "source": [
    "t1=data_full.groupby('user_id')['page_x'].nunique().to_frame()\n",
    "t2=data_full.groupby('user_id')['page_y'].nunique().to_frame()\n",
    "data_user=t1.merge(t2, left_on='user_id', right_on='user_id')\n",
    "print(data_user)"
   ]
  },
  {
   "cell_type": "code",
   "execution_count": 26,
   "metadata": {},
   "outputs": [],
   "source": [
    "def set_label(x):\n",
    "    s=''\n",
    "    if int(x[1])==0 and int(x[2])>0: \n",
    "        s='Web only'\n",
    "    elif int(x[1])>0 and int(x[2])==0:\n",
    "        s='mobile only'\n",
    "    else:\n",
    "        s='None'\n",
    "    return s"
   ]
  },
  {
   "cell_type": "code",
   "execution_count": 30,
   "metadata": {},
   "outputs": [
    {
     "name": "stdout",
     "output_type": "stream",
     "text": [
      "page_x\n",
      "page_y\n",
      "label\n"
     ]
    }
   ],
   "source": [
    "for x in data_user:\n",
    "    print(x)"
   ]
  },
  {
   "cell_type": "code",
   "execution_count": 18,
   "metadata": {},
   "outputs": [
    {
     "name": "stdout",
     "output_type": "stream",
     "text": [
      "         page_x  page_y                                      label\n",
      "user_id                                                           \n",
      "1             2       1  <function <lambda> at 0x000002223B444798>\n",
      "4             1       2  <function <lambda> at 0x000002223B444798>\n",
      "5             1       1  <function <lambda> at 0x000002223B444798>\n",
      "9             2       1  <function <lambda> at 0x000002223B444798>\n",
      "13            1       2  <function <lambda> at 0x000002223B444798>\n",
      "...         ...     ...                                        ...\n",
      "1988          1       1  <function <lambda> at 0x000002223B444798>\n",
      "1989          4       1  <function <lambda> at 0x000002223B444798>\n",
      "1992          2       1  <function <lambda> at 0x000002223B444798>\n",
      "1998          4       1  <function <lambda> at 0x000002223B444798>\n",
      "2000          1       1  <function <lambda> at 0x000002223B444798>\n",
      "\n",
      "[962 rows x 3 columns]\n"
     ]
    }
   ],
   "source": [
    "print(data_user) "
   ]
  },
  {
   "cell_type": "code",
   "execution_count": null,
   "metadata": {},
   "outputs": [],
   "source": []
  }
 ],
 "metadata": {
  "kernelspec": {
   "display_name": "Python 3",
   "language": "python",
   "name": "python3"
  },
  "language_info": {
   "codemirror_mode": {
    "name": "ipython",
    "version": 3
   },
   "file_extension": ".py",
   "mimetype": "text/x-python",
   "name": "python",
   "nbconvert_exporter": "python",
   "pygments_lexer": "ipython3",
   "version": "3.7.5"
  }
 },
 "nbformat": 4,
 "nbformat_minor": 2
}
