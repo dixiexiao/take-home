{
 "cells": [
  {
   "cell_type": "code",
   "execution_count": 27,
   "metadata": {},
   "outputs": [],
   "source": [
    "import itertools\n",
    "from itertools import cycle\n",
    "from collections import defaultdict\n",
    "import numpy as np\n",
    "import pandas as pd\n",
    "import matplotlib.pyplot as plt\n",
    "plt.style.use('ggplot')\n",
    "import seaborn as sns\n",
    "\n",
    "from sklearn.decomposition import PCA\n",
    "from sklearn.preprocessing import scale\n",
    "from sklearn.cluster import KMeans"
   ]
  },
  {
   "cell_type": "code",
   "execution_count": 2,
   "metadata": {},
   "outputs": [],
   "source": [
    "%matplotlib inline\n",
    "sns.set_context('notebook')"
   ]
  },
  {
   "cell_type": "markdown",
   "metadata": {},
   "source": [
    "# Load the data"
   ]
  },
  {
   "cell_type": "code",
   "execution_count": 3,
   "metadata": {},
   "outputs": [],
   "source": [
    "holders = pd.read_csv('cc_info.csv',index_col='credit_card')\n",
    "holders.rename(columns={'credit_card_limit':'credit_limit'},inplace=True)\n",
    "\n",
    "transactions = pd.read_csv('transactions.csv')\n",
    "transactions['date'] = pd.to_datetime(transactions.date)\n",
    "transactions.rename(columns={'transaction_dollar_amount':'amount'},inplace=True)"
   ]
  },
  {
   "cell_type": "markdown",
   "metadata": {},
   "source": [
    "Question 1: Your boss wants to identify those users that in your dataset never went above the monthly credit card limit (calendar month). The goal of this is to automatically increase their limit. Can you send him the list of Ids?"
   ]
  },
  {
   "cell_type": "code",
   "execution_count": 4,
   "metadata": {},
   "outputs": [
    {
     "data": {
      "text/plain": [
       "2015    294588\n",
       "Name: date, dtype: int64"
      ]
     },
     "execution_count": 4,
     "metadata": {},
     "output_type": "execute_result"
    }
   ],
   "source": [
    "transactions.date.dt.year.value_counts()"
   ]
  },
  {
   "cell_type": "markdown",
   "metadata": {},
   "source": [
    "First, we need to calculate each user's monthly spent."
   ]
  },
  {
   "cell_type": "code",
   "execution_count": 5,
   "metadata": {},
   "outputs": [],
   "source": [
    "def monthly_spent_byuser(df):\n",
    "    # I have checked the data already, all transactions happen in year 2015\n",
    "    # so I can just group by month\n",
    "    return df.groupby(df.date.dt.month)['amount'].agg('sum')"
   ]
  },
  {
   "cell_type": "code",
   "execution_count": 6,
   "metadata": {},
   "outputs": [],
   "source": [
    "# first group by 'credit_card' (i.e., by user)\n",
    "# then sum up all spent by month\n",
    "card_month_spents = transactions.groupby(\"credit_card\").apply(monthly_spent_byuser).unstack(fill_value=0)"
   ]
  },
  {
   "cell_type": "code",
   "execution_count": 7,
   "metadata": {},
   "outputs": [
    {
     "data": {
      "text/html": [
       "<div>\n",
       "<style scoped>\n",
       "    .dataframe tbody tr th:only-of-type {\n",
       "        vertical-align: middle;\n",
       "    }\n",
       "\n",
       "    .dataframe tbody tr th {\n",
       "        vertical-align: top;\n",
       "    }\n",
       "\n",
       "    .dataframe thead th {\n",
       "        text-align: right;\n",
       "    }\n",
       "</style>\n",
       "<table border=\"1\" class=\"dataframe\">\n",
       "  <thead>\n",
       "    <tr style=\"text-align: right;\">\n",
       "      <th></th>\n",
       "      <th>7</th>\n",
       "      <th>8</th>\n",
       "      <th>9</th>\n",
       "      <th>10</th>\n",
       "      <th>credit_limit</th>\n",
       "    </tr>\n",
       "    <tr>\n",
       "      <th>credit_card</th>\n",
       "      <th></th>\n",
       "      <th></th>\n",
       "      <th></th>\n",
       "      <th></th>\n",
       "      <th></th>\n",
       "    </tr>\n",
       "  </thead>\n",
       "  <tbody>\n",
       "    <tr>\n",
       "      <th>1003715054175576</th>\n",
       "      <td>162.56</td>\n",
       "      <td>8441.51</td>\n",
       "      <td>11281.56</td>\n",
       "      <td>8954.21</td>\n",
       "      <td>20000</td>\n",
       "    </tr>\n",
       "    <tr>\n",
       "      <th>1013870087888817</th>\n",
       "      <td>281.43</td>\n",
       "      <td>11981.15</td>\n",
       "      <td>12461.96</td>\n",
       "      <td>12090.34</td>\n",
       "      <td>15000</td>\n",
       "    </tr>\n",
       "    <tr>\n",
       "      <th>1023820165155391</th>\n",
       "      <td>943.26</td>\n",
       "      <td>22741.20</td>\n",
       "      <td>18108.12</td>\n",
       "      <td>19259.98</td>\n",
       "      <td>28000</td>\n",
       "    </tr>\n",
       "    <tr>\n",
       "      <th>1073931538936472</th>\n",
       "      <td>220.07</td>\n",
       "      <td>2991.05</td>\n",
       "      <td>2557.12</td>\n",
       "      <td>1638.03</td>\n",
       "      <td>10000</td>\n",
       "    </tr>\n",
       "    <tr>\n",
       "      <th>1077622576192810</th>\n",
       "      <td>0.00</td>\n",
       "      <td>634.61</td>\n",
       "      <td>551.28</td>\n",
       "      <td>604.84</td>\n",
       "      <td>10000</td>\n",
       "    </tr>\n",
       "  </tbody>\n",
       "</table>\n",
       "</div>"
      ],
      "text/plain": [
       "                       7         8         9        10  credit_limit\n",
       "credit_card                                                         \n",
       "1003715054175576  162.56   8441.51  11281.56   8954.21         20000\n",
       "1013870087888817  281.43  11981.15  12461.96  12090.34         15000\n",
       "1023820165155391  943.26  22741.20  18108.12  19259.98         28000\n",
       "1073931538936472  220.07   2991.05   2557.12   1638.03         10000\n",
       "1077622576192810    0.00    634.61    551.28    604.84         10000"
      ]
     },
     "execution_count": 7,
     "metadata": {},
     "output_type": "execute_result"
    }
   ],
   "source": [
    "# join with 'credit_limit' to simplify the comparison\n",
    "card_month_spents = card_month_spents.join(holders.credit_limit)\n",
    "card_month_spents.head()"
   ]
  },
  {
   "cell_type": "markdown",
   "metadata": {},
   "source": [
    "Then, we check whether each user has exceed his credit limit before."
   ]
  },
  {
   "cell_type": "code",
   "execution_count": 8,
   "metadata": {},
   "outputs": [
    {
     "data": {
      "text/plain": [
       "Int64Index([1003715054175576, 1013870087888817, 1023820165155391,\n",
       "            1073931538936472, 1077622576192810, 1087468642191606,\n",
       "            1089479586475600, 1101164752077181, 1107936587129946,\n",
       "            1126571863414211,\n",
       "            ...\n",
       "            9854872265114976, 9855217884613002, 9867492085978660,\n",
       "            9884182241594028, 9938969980242308, 9946917923319410,\n",
       "            9958678964376192, 9961694231875562, 9981251982982618,\n",
       "            9986135779184360],\n",
       "           dtype='int64', name='credit_card', length=862)"
      ]
     },
     "execution_count": 8,
     "metadata": {},
     "output_type": "execute_result"
    }
   ],
   "source": [
    "n_months = card_month_spents.shape[1]-1\n",
    "def is_never_above_limit(s):\n",
    "    limit = s.loc['credit_limit']\n",
    "    return (s.iloc[0:n_months] <= limit).all()\n",
    "\n",
    "is_user_never_exceed_limit = card_month_spents.apply(is_never_above_limit,axis=1)\n",
    "\n",
    "users_never_exceed_limit = card_month_spents.loc[is_user_never_exceed_limit ,:].index\n",
    "users_never_exceed_limit"
   ]
  },
  {
   "cell_type": "code",
   "execution_count": 9,
   "metadata": {},
   "outputs": [],
   "source": [
    "with open(\"users_never_exceed_limit.txt\",\"wt\") as outf:\n",
    "    for cardno in users_never_exceed_limit:\n",
    "        outf.write('{}\\n'.format(cardno))"
   ]
  },
  {
   "cell_type": "code",
   "execution_count": 10,
   "metadata": {},
   "outputs": [],
   "source": [
    "class MonthSpentMonitor(object):\n",
    "\n",
    "    def __init__(self,credit_limits):\n",
    "        \"\"\"\n",
    "        card_limits is a dictionary\n",
    "        key=card number, value=credit limit\n",
    "        \"\"\"\n",
    "        self.total_spent = defaultdict(float)\n",
    "        self.credit_limits = credit_limits\n",
    "\n",
    "    def reset(self):\n",
    "        self.total_spent.clear()\n",
    "\n",
    "    def count(self,daily_transaction):\n",
    "        \"\"\"\n",
    "        daily_transaction: a dict\n",
    "        key=card number, value=amount\n",
    "        \"\"\"\n",
    "        for cardno,amount in daily_transaction:\n",
    "            self.total_spent[cardno] += amount\n",
    "\n",
    "        # assume 'credit_limits' always can find the cardno\n",
    "        # otherwise, raise KeyError, which is a good indicator showing something is wrong\n",
    "        return [ cardno for cardno,total in self.total_spent.viewitems() if total > self.credit_limits[cardno]]"
   ]
  },
  {
   "cell_type": "markdown",
   "metadata": {},
   "source": [
    "Due to time limitation, and since the question doesn't provide enough information about the requirement (e.g. input format), I just provide above codes. if given enough time and more clear API specification, I will write some test code to test/demonstrate above codes."
   ]
  },
  {
   "cell_type": "markdown",
   "metadata": {},
   "source": [
    "Question 3: Finally, your boss is very concerned about frauds cause they are a huge cost for credit card companies. She wants you to implement an unsupervised algorithm that returns all transactions that seem unusual and are worth being investigated further."
   ]
  },
  {
   "cell_type": "markdown",
   "metadata": {},
   "source": [
    "# Prepare features"
   ]
  },
  {
   "cell_type": "markdown",
   "metadata": {},
   "source": [
    "There are two factors which impact a transaction is fraud or not:\n",
    "\n",
    "1. if the transaction violates that user's consumption habit. For example, if a user spend less then 200 each transaction most of the time, then a transaction more than 1000 will be highly suspicious.\n",
    "\n",
    "2. if user spend the money far from his home, although it is possible due to traveling, but it's still very suspicious.\n",
    "\n",
    "Although the data provide each transaction's geometric information and card holder's home, unfortunately, due to time limits, I cannot relate each transation's 'Long' and 'Lat' with that card holder's home address. so I have to drop the second factor listed above, and only make features from user's previous comsumption history.\n"
   ]
  },
  {
   "cell_type": "code",
   "execution_count": 11,
   "metadata": {},
   "outputs": [],
   "source": [
    "def statistics_by_card(s):\n",
    "    ps = [25, 50, 75]\n",
    "    d = np.percentile(s,ps)\n",
    "    return pd.Series(d,index=['{}%'.format(p) for p in ps])\n",
    "\n",
    "tran_statistics = transactions.groupby('credit_card')['amount'].apply(statistics_by_card).unstack()"
   ]
  },
  {
   "cell_type": "code",
   "execution_count": 12,
   "metadata": {},
   "outputs": [
    {
     "data": {
      "text/html": [
       "<div>\n",
       "<style scoped>\n",
       "    .dataframe tbody tr th:only-of-type {\n",
       "        vertical-align: middle;\n",
       "    }\n",
       "\n",
       "    .dataframe tbody tr th {\n",
       "        vertical-align: top;\n",
       "    }\n",
       "\n",
       "    .dataframe thead th {\n",
       "        text-align: right;\n",
       "    }\n",
       "</style>\n",
       "<table border=\"1\" class=\"dataframe\">\n",
       "  <thead>\n",
       "    <tr style=\"text-align: right;\">\n",
       "      <th></th>\n",
       "      <th>25%</th>\n",
       "      <th>50%</th>\n",
       "      <th>75%</th>\n",
       "    </tr>\n",
       "    <tr>\n",
       "      <th>credit_card</th>\n",
       "      <th></th>\n",
       "      <th></th>\n",
       "      <th></th>\n",
       "    </tr>\n",
       "  </thead>\n",
       "  <tbody>\n",
       "    <tr>\n",
       "      <th>1003715054175576</th>\n",
       "      <td>59.01</td>\n",
       "      <td>93.73</td>\n",
       "      <td>124.63</td>\n",
       "    </tr>\n",
       "    <tr>\n",
       "      <th>1013870087888817</th>\n",
       "      <td>58.09</td>\n",
       "      <td>87.67</td>\n",
       "      <td>128.02</td>\n",
       "    </tr>\n",
       "    <tr>\n",
       "      <th>1023820165155391</th>\n",
       "      <td>55.43</td>\n",
       "      <td>85.78</td>\n",
       "      <td>122.83</td>\n",
       "    </tr>\n",
       "    <tr>\n",
       "      <th>1073931538936472</th>\n",
       "      <td>108.08</td>\n",
       "      <td>147.19</td>\n",
       "      <td>194.83</td>\n",
       "    </tr>\n",
       "    <tr>\n",
       "      <th>1077622576192810</th>\n",
       "      <td>122.93</td>\n",
       "      <td>148.18</td>\n",
       "      <td>160.11</td>\n",
       "    </tr>\n",
       "  </tbody>\n",
       "</table>\n",
       "</div>"
      ],
      "text/plain": [
       "                     25%     50%     75%\n",
       "credit_card                             \n",
       "1003715054175576   59.01   93.73  124.63\n",
       "1013870087888817   58.09   87.67  128.02\n",
       "1023820165155391   55.43   85.78  122.83\n",
       "1073931538936472  108.08  147.19  194.83\n",
       "1077622576192810  122.93  148.18  160.11"
      ]
     },
     "execution_count": 12,
     "metadata": {},
     "output_type": "execute_result"
    }
   ],
   "source": [
    "\n",
    "tran_statistics.head()"
   ]
  },
  {
   "cell_type": "markdown",
   "metadata": {},
   "source": [
    "then merge the 'transaction', 'previous consumption history' and 'credit limit' together, put all useful information about the transaction in one DataFrame"
   ]
  },
  {
   "cell_type": "code",
   "execution_count": 14,
   "metadata": {},
   "outputs": [],
   "source": [
    "# merge 'transaction' with 'previous consumption statistics'\n",
    "temp = pd.merge(transactions,tran_statistics,how='left',left_on='credit_card',right_index=True)\n",
    "\n",
    "# merge with credit limit\n",
    "transactions = pd.merge(temp,holders.loc[:,['credit_limit']],how='left',left_on='credit_card',right_index=True)"
   ]
  },
  {
   "cell_type": "code",
   "execution_count": 15,
   "metadata": {},
   "outputs": [],
   "source": [
    "# save it for later use\n",
    "transactions.to_csv('extend_transactions.csv',index=False)"
   ]
  },
  {
   "cell_type": "markdown",
   "metadata": {},
   "source": [
    "### Reduce dimensions and visualize"
   ]
  },
  {
   "cell_type": "markdown",
   "metadata": {},
   "source": [
    "we only care about current amount and previous consumption history, so we can keep those useful features"
   ]
  },
  {
   "cell_type": "code",
   "execution_count": null,
   "metadata": {},
   "outputs": [],
   "source": [
    "X = transactions.loc[:,['amount','25%','50%','75%','credit_limit']]\n",
    "X.describe()"
   ]
  },
  {
   "cell_type": "markdown",
   "metadata": {},
   "source": [
    "We will then  reduce X to 2D, and visualize it to get some hint. However, since credit_limit has much higher variance, I need to scale each feature to unit variance before applying PCA, otherwise, the principle components will be highly aligned with 'credit_limit' which doesn't provide useful information."
   ]
  },
  {
   "cell_type": "code",
   "execution_count": 22,
   "metadata": {},
   "outputs": [
    {
     "data": {
      "text/plain": [
       "<matplotlib.collections.PathCollection at 0x1df1659ec88>"
      ]
     },
     "execution_count": 22,
     "metadata": {},
     "output_type": "execute_result"
    },
    {
     "data": {
      "image/png": "[encoded data removed]",
      "text/plain": [
       "<Figure size 432x288 with 1 Axes>"
      ]
     },
     "metadata": {
      "needs_background": "light"
     },
     "output_type": "display_data"
    }
   ],
   "source": [
    "X2 = scale(X)\n",
    "#Use PCA to reduce feature matrix to 2D\n",
    "pca = PCA(n_components=2)\n",
    "X22d = pca.fit_transform(X2)\n",
    "X22d = pd.DataFrame(X22d,columns=['pc1','pc2'])\n",
    "plt.scatter(X22d.pc1,X22d.pc2,alpha=0.3)"
   ]
  },
  {
   "cell_type": "markdown",
   "metadata": {},
   "source": [
    "### Kmeans to cluster"
   ]
  },
  {
   "cell_type": "markdown",
   "metadata": {},
   "source": [
    "above plot shows a good sign, that is, the data is well seperated. also above plot give me some hint, may be the data can be grouped into 6 clusters."
   ]
  },
  {
   "cell_type": "code",
   "execution_count": 23,
   "metadata": {},
   "outputs": [
    {
     "data": {
      "text/plain": [
       "KMeans(algorithm='auto', copy_x=True, init='k-means++', max_iter=300,\n",
       "       n_clusters=6, n_init=10, n_jobs=-1, precompute_distances='auto',\n",
       "       random_state=None, tol=0.0001, verbose=0)"
      ]
     },
     "execution_count": 23,
     "metadata": {},
     "output_type": "execute_result"
    }
   ],
   "source": [
    "n_clusters = 6\n",
    "kmeans = KMeans(n_clusters=n_clusters,n_jobs=-1)\n",
    "kmeans.fit(X)"
   ]
  },
  {
   "cell_type": "code",
   "execution_count": 25,
   "metadata": {},
   "outputs": [
    {
     "name": "stdout",
     "output_type": "stream",
     "text": [
      "0    109779\n",
      "1     73406\n",
      "4     51555\n",
      "5     29137\n",
      "2     25275\n",
      "3      5436\n",
      "Name: label, dtype: int64\n"
     ]
    }
   ],
   "source": [
    "X2d['label'] = kmeans.labels_\n",
    "print(X2d.label.value_counts())"
   ]
  },
  {
   "cell_type": "markdown",
   "metadata": {},
   "source": [
    "Above result also show a good sign, cluster 3 has apparently fewer transcations compared with others. This makes senses, because fraud activity, isn't that normal.\n",
    "\n",
    "then I plot the clusters in 2D, to check their distribution."
   ]
  },
  {
   "cell_type": "code",
   "execution_count": 29,
   "metadata": {},
   "outputs": [
    {
     "data": {
      "text/plain": [
       "<matplotlib.legend.Legend at 0x1df1601f188>"
      ]
     },
     "execution_count": 29,
     "metadata": {},
     "output_type": "execute_result"
    },
    {
     "data": {
      "image/png": "[encoded data removed]",
      "text/plain": [
       "<Figure size 720x432 with 1 Axes>"
      ]
     },
     "metadata": {},
     "output_type": "display_data"
    }
   ],
   "source": [
    "colors = cycle( ['r','g','b','c','m','y','k'] )\n",
    "\n",
    "plt.rc('figure',figsize=(10,6))\n",
    "for label in  range(n_clusters) :\n",
    "    temp = X2d.loc[X2d.label == label,:]\n",
    "    plt.scatter(temp.pc1,temp.pc2,c=next(colors),label=label,alpha=0.3)\n",
    "\n",
    "plt.legend(loc='best')"
   ]
  },
  {
   "cell_type": "code",
   "execution_count": 30,
   "metadata": {},
   "outputs": [
    {
     "data": {
      "text/html": [
       "<div>\n",
       "<style scoped>\n",
       "    .dataframe tbody tr th:only-of-type {\n",
       "        vertical-align: middle;\n",
       "    }\n",
       "\n",
       "    .dataframe tbody tr th {\n",
       "        vertical-align: top;\n",
       "    }\n",
       "\n",
       "    .dataframe thead th {\n",
       "        text-align: right;\n",
       "    }\n",
       "</style>\n",
       "<table border=\"1\" class=\"dataframe\">\n",
       "  <thead>\n",
       "    <tr style=\"text-align: right;\">\n",
       "      <th></th>\n",
       "      <th>pc1</th>\n",
       "      <th>pc2</th>\n",
       "      <th>label</th>\n",
       "    </tr>\n",
       "  </thead>\n",
       "  <tbody>\n",
       "    <tr>\n",
       "      <th>0</th>\n",
       "      <td>1.184559</td>\n",
       "      <td>-0.583757</td>\n",
       "      <td>4</td>\n",
       "    </tr>\n",
       "    <tr>\n",
       "      <th>1</th>\n",
       "      <td>1.277856</td>\n",
       "      <td>-0.117918</td>\n",
       "      <td>4</td>\n",
       "    </tr>\n",
       "    <tr>\n",
       "      <th>2</th>\n",
       "      <td>1.192055</td>\n",
       "      <td>-0.546330</td>\n",
       "      <td>4</td>\n",
       "    </tr>\n",
       "    <tr>\n",
       "      <th>3</th>\n",
       "      <td>1.329760</td>\n",
       "      <td>0.141247</td>\n",
       "      <td>4</td>\n",
       "    </tr>\n",
       "    <tr>\n",
       "      <th>4</th>\n",
       "      <td>1.228622</td>\n",
       "      <td>-0.363745</td>\n",
       "      <td>4</td>\n",
       "    </tr>\n",
       "  </tbody>\n",
       "</table>\n",
       "</div>"
      ],
      "text/plain": [
       "        pc1       pc2  label\n",
       "0  1.184559 -0.583757      4\n",
       "1  1.277856 -0.117918      4\n",
       "2  1.192055 -0.546330      4\n",
       "3  1.329760  0.141247      4\n",
       "4  1.228622 -0.363745      4"
      ]
     },
     "execution_count": 30,
     "metadata": {},
     "output_type": "execute_result"
    }
   ],
   "source": [
    "X2d.head()"
   ]
  },
  {
   "cell_type": "code",
   "execution_count": 31,
   "metadata": {},
   "outputs": [
    {
     "data": {
      "image/png": "[encoded data removed]",
      "text/plain": [
       "<Figure size 262.6x216 with 1 Axes>"
      ]
     },
     "metadata": {},
     "output_type": "display_data"
    }
   ],
   "source": [
    "g = sns.FacetGrid(X2d, hue=\"label\")\n",
    "g.map(plt.scatter, \"pc1\", \"pc2\", alpha=0.3)\n",
    "g.add_legend();"
   ]
  },
  {
   "cell_type": "markdown",
   "metadata": {},
   "source": [
    "### Check the result"
   ]
  },
  {
   "cell_type": "code",
   "execution_count": 37,
   "metadata": {},
   "outputs": [
    {
     "data": {
      "text/plain": [
       "3"
      ]
     },
     "execution_count": 37,
     "metadata": {},
     "output_type": "execute_result"
    }
   ],
   "source": [
    "suspicious_label = X2d.label.value_counts().idxmin()\n",
    "suspicious_label"
   ]
  },
  {
   "cell_type": "code",
   "execution_count": 38,
   "metadata": {},
   "outputs": [],
   "source": [
    "suspect = transactions.loc[X2d.label==suspicious_label,['credit_card','amount','25%','50%','75%','credit_limit','date']]\n",
    "suspect.to_csv('suspect.csv',index=False)"
   ]
  },
  {
   "cell_type": "code",
   "execution_count": 39,
   "metadata": {},
   "outputs": [
    {
     "data": {
      "text/html": [
       "<div>\n",
       "<style scoped>\n",
       "    .dataframe tbody tr th:only-of-type {\n",
       "        vertical-align: middle;\n",
       "    }\n",
       "\n",
       "    .dataframe tbody tr th {\n",
       "        vertical-align: top;\n",
       "    }\n",
       "\n",
       "    .dataframe thead th {\n",
       "        text-align: right;\n",
       "    }\n",
       "</style>\n",
       "<table border=\"1\" class=\"dataframe\">\n",
       "  <thead>\n",
       "    <tr style=\"text-align: right;\">\n",
       "      <th></th>\n",
       "      <th>credit_card</th>\n",
       "      <th>amount</th>\n",
       "      <th>25%</th>\n",
       "      <th>50%</th>\n",
       "      <th>75%</th>\n",
       "      <th>credit_limit</th>\n",
       "      <th>date</th>\n",
       "    </tr>\n",
       "  </thead>\n",
       "  <tbody>\n",
       "    <tr>\n",
       "      <th>209350</th>\n",
       "      <td>7246108290515977</td>\n",
       "      <td>886.06</td>\n",
       "      <td>45.5850</td>\n",
       "      <td>69.580</td>\n",
       "      <td>101.3750</td>\n",
       "      <td>16000</td>\n",
       "      <td>2015-08-18 16:08:38</td>\n",
       "    </tr>\n",
       "    <tr>\n",
       "      <th>123141</th>\n",
       "      <td>4710393737306304</td>\n",
       "      <td>953.00</td>\n",
       "      <td>11.3400</td>\n",
       "      <td>16.020</td>\n",
       "      <td>22.5700</td>\n",
       "      <td>10000</td>\n",
       "      <td>2015-10-19 01:17:41</td>\n",
       "    </tr>\n",
       "    <tr>\n",
       "      <th>235198</th>\n",
       "      <td>7962835535781875</td>\n",
       "      <td>941.36</td>\n",
       "      <td>54.0200</td>\n",
       "      <td>86.030</td>\n",
       "      <td>119.9300</td>\n",
       "      <td>9000</td>\n",
       "      <td>2015-08-14 22:27:13</td>\n",
       "    </tr>\n",
       "    <tr>\n",
       "      <th>277368</th>\n",
       "      <td>9484591448272784</td>\n",
       "      <td>836.51</td>\n",
       "      <td>8.9975</td>\n",
       "      <td>12.410</td>\n",
       "      <td>16.9525</td>\n",
       "      <td>4000</td>\n",
       "      <td>2015-08-10 22:26:42</td>\n",
       "    </tr>\n",
       "    <tr>\n",
       "      <th>77408</th>\n",
       "      <td>3454193028012809</td>\n",
       "      <td>954.07</td>\n",
       "      <td>92.2325</td>\n",
       "      <td>150.010</td>\n",
       "      <td>215.9575</td>\n",
       "      <td>28000</td>\n",
       "      <td>2015-10-06 18:14:41</td>\n",
       "    </tr>\n",
       "    <tr>\n",
       "      <th>75896</th>\n",
       "      <td>3410360221015707</td>\n",
       "      <td>897.04</td>\n",
       "      <td>28.7400</td>\n",
       "      <td>43.880</td>\n",
       "      <td>62.8550</td>\n",
       "      <td>20000</td>\n",
       "      <td>2015-10-08 21:56:12</td>\n",
       "    </tr>\n",
       "    <tr>\n",
       "      <th>148164</th>\n",
       "      <td>5364469336425108</td>\n",
       "      <td>805.37</td>\n",
       "      <td>26.0050</td>\n",
       "      <td>36.245</td>\n",
       "      <td>48.4350</td>\n",
       "      <td>7000</td>\n",
       "      <td>2015-10-16 20:56:01</td>\n",
       "    </tr>\n",
       "    <tr>\n",
       "      <th>198844</th>\n",
       "      <td>6984795534098127</td>\n",
       "      <td>981.26</td>\n",
       "      <td>48.6900</td>\n",
       "      <td>70.920</td>\n",
       "      <td>98.0600</td>\n",
       "      <td>10000</td>\n",
       "      <td>2015-08-06 23:20:05</td>\n",
       "    </tr>\n",
       "    <tr>\n",
       "      <th>100746</th>\n",
       "      <td>4026696367506082</td>\n",
       "      <td>812.12</td>\n",
       "      <td>109.8325</td>\n",
       "      <td>158.450</td>\n",
       "      <td>206.5900</td>\n",
       "      <td>8000</td>\n",
       "      <td>2015-10-04 22:14:27</td>\n",
       "    </tr>\n",
       "    <tr>\n",
       "      <th>5556</th>\n",
       "      <td>1167475218806361</td>\n",
       "      <td>928.78</td>\n",
       "      <td>26.5050</td>\n",
       "      <td>40.600</td>\n",
       "      <td>58.3150</td>\n",
       "      <td>14000</td>\n",
       "      <td>2015-10-08 17:58:55</td>\n",
       "    </tr>\n",
       "  </tbody>\n",
       "</table>\n",
       "</div>"
      ],
      "text/plain": [
       "             credit_card  amount       25%      50%       75%  credit_limit  \\\n",
       "209350  7246108290515977  886.06   45.5850   69.580  101.3750         16000   \n",
       "123141  4710393737306304  953.00   11.3400   16.020   22.5700         10000   \n",
       "235198  7962835535781875  941.36   54.0200   86.030  119.9300          9000   \n",
       "277368  9484591448272784  836.51    8.9975   12.410   16.9525          4000   \n",
       "77408   3454193028012809  954.07   92.2325  150.010  215.9575         28000   \n",
       "75896   3410360221015707  897.04   28.7400   43.880   62.8550         20000   \n",
       "148164  5364469336425108  805.37   26.0050   36.245   48.4350          7000   \n",
       "198844  6984795534098127  981.26   48.6900   70.920   98.0600         10000   \n",
       "100746  4026696367506082  812.12  109.8325  158.450  206.5900          8000   \n",
       "5556    1167475218806361  928.78   26.5050   40.600   58.3150         14000   \n",
       "\n",
       "                      date  \n",
       "209350 2015-08-18 16:08:38  \n",
       "123141 2015-10-19 01:17:41  \n",
       "235198 2015-08-14 22:27:13  \n",
       "277368 2015-08-10 22:26:42  \n",
       "77408  2015-10-06 18:14:41  \n",
       "75896  2015-10-08 21:56:12  \n",
       "148164 2015-10-16 20:56:01  \n",
       "198844 2015-08-06 23:20:05  \n",
       "100746 2015-10-04 22:14:27  \n",
       "5556   2015-10-08 17:58:55  "
      ]
     },
     "execution_count": 39,
     "metadata": {},
     "output_type": "execute_result"
    }
   ],
   "source": [
    "suspect.sample(10)"
   ]
  },
  {
   "cell_type": "markdown",
   "metadata": {},
   "source": [
    "open 'suspect.csv' or see the randomly sampled suspicious transactions list above, we can find their amount is much higher than that user's 75th percentile in his previous consumption history.\n",
    "\n",
    "for example, in 12697-th transaction, that user's 75th percentile is 89.04, then suddenly it comes a transaction with 977.38, which is very suspicious and need further investigation. histogram of the \"consumption amount\" and that user's 75th percentile of consumption records, also shows, selected transaction has 'amount' much higher than '75th percentile', which is very suspicious and worth further investigation."
   ]
  },
  {
   "cell_type": "code",
   "execution_count": 40,
   "metadata": {},
   "outputs": [
    {
     "data": {
      "text/plain": [
       "<matplotlib.legend.Legend at 0x1df16d52648>"
      ]
     },
     "execution_count": 40,
     "metadata": {},
     "output_type": "execute_result"
    },
    {
     "data": {
      "image/png": "[encoded data removed]",
      "text/plain": [
       "<Figure size 720x432 with 1 Axes>"
      ]
     },
     "metadata": {},
     "output_type": "display_data"
    }
   ],
   "source": [
    "\n",
    "labels = [\"amount\",'75%']\n",
    "plt.hist(suspect.loc[:,labels].values,bins=50,label=labels)\n",
    "plt.legend(loc='best')"
   ]
  },
  {
   "cell_type": "code",
   "execution_count": null,
   "metadata": {},
   "outputs": [],
   "source": []
  }
 ],
 "metadata": {
  "kernelspec": {
   "display_name": "Python 3",
   "language": "python",
   "name": "python3"
  },
  "language_info": {
   "codemirror_mode": {
    "name": "ipython",
    "version": 3
   },
   "file_extension": ".py",
   "mimetype": "text/x-python",
   "name": "python",
   "nbconvert_exporter": "python",
   "pygments_lexer": "ipython3",
   "version": "3.7.5"
  }
 },
 "nbformat": 4,
 "nbformat_minor": 2
}
