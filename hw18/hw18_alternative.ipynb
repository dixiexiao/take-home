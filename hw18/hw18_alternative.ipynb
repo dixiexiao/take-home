{
 "cells": [
  {
   "cell_type": "code",
   "execution_count": 1,
   "metadata": {},
   "outputs": [],
   "source": [
    "import itertools\n",
    "import numpy as np\n",
    "import pandas as pd\n",
    "from sklearn.tree import DecisionTreeClassifier,export_graphviz\n",
    "\n",
    "import matplotlib.pyplot as plt\n",
    "plt.style.use('ggplot')\n",
    "%matplotlib inline"
   ]
  },
  {
   "cell_type": "markdown",
   "metadata": {},
   "source": [
    "## Load the data"
   ]
  },
  {
   "cell_type": "code",
   "execution_count": 2,
   "metadata": {},
   "outputs": [],
   "source": [
    "vcounts = pd.read_csv(\"video_count.csv\")\n",
    "vcounts['date'] = pd.to_datetime(vcounts.date)\n",
    "\n",
    "# since 'count' name-conflicts method name, so rename it to 'view_count'\n",
    "vcounts.rename(columns={'count':'view_count'},inplace=True)"
   ]
  },
  {
   "cell_type": "code",
   "execution_count": 3,
   "metadata": {},
   "outputs": [
    {
     "data": {
      "text/html": [
       "<div>\n",
       "<style scoped>\n",
       "    .dataframe tbody tr th:only-of-type {\n",
       "        vertical-align: middle;\n",
       "    }\n",
       "\n",
       "    .dataframe tbody tr th {\n",
       "        vertical-align: top;\n",
       "    }\n",
       "\n",
       "    .dataframe thead th {\n",
       "        text-align: right;\n",
       "    }\n",
       "</style>\n",
       "<table border=\"1\" class=\"dataframe\">\n",
       "  <thead>\n",
       "    <tr style=\"text-align: right;\">\n",
       "      <th></th>\n",
       "      <th>video_id</th>\n",
       "      <th>view_count</th>\n",
       "      <th>date</th>\n",
       "    </tr>\n",
       "  </thead>\n",
       "  <tbody>\n",
       "    <tr>\n",
       "      <th>0</th>\n",
       "      <td>2303</td>\n",
       "      <td>22</td>\n",
       "      <td>2015-01-07</td>\n",
       "    </tr>\n",
       "    <tr>\n",
       "      <th>1</th>\n",
       "      <td>1193</td>\n",
       "      <td>54854</td>\n",
       "      <td>2015-01-12</td>\n",
       "    </tr>\n",
       "    <tr>\n",
       "      <th>2</th>\n",
       "      <td>1219</td>\n",
       "      <td>1788779</td>\n",
       "      <td>2015-01-03</td>\n",
       "    </tr>\n",
       "    <tr>\n",
       "      <th>3</th>\n",
       "      <td>1472</td>\n",
       "      <td>234</td>\n",
       "      <td>2015-01-04</td>\n",
       "    </tr>\n",
       "    <tr>\n",
       "      <th>4</th>\n",
       "      <td>2947</td>\n",
       "      <td>14407</td>\n",
       "      <td>2015-01-08</td>\n",
       "    </tr>\n",
       "  </tbody>\n",
       "</table>\n",
       "</div>"
      ],
      "text/plain": [
       "   video_id  view_count       date\n",
       "0      2303          22 2015-01-07\n",
       "1      1193       54854 2015-01-12\n",
       "2      1219     1788779 2015-01-03\n",
       "3      1472         234 2015-01-04\n",
       "4      2947       14407 2015-01-08"
      ]
     },
     "execution_count": 3,
     "metadata": {},
     "output_type": "execute_result"
    }
   ],
   "source": [
    "vcounts.head()"
   ]
  },
  {
   "cell_type": "code",
   "execution_count": 5,
   "metadata": {},
   "outputs": [],
   "source": [
    "vfeatures = pd.read_csv(\"video_features.csv\",index_col='video_id')\n",
    "# rename to short names, makes it easier to be displayed\n",
    "vfeatures.rename(columns={'video_length':\"length\",\n",
    "                          'video_language':\"language\",\n",
    "                          'video_upload_date':'upload_date',\n",
    "                          'video_quality':'quality'},inplace=True)\n",
    "vfeatures['upload_date'] = pd.to_datetime(vfeatures.upload_date)\n",
    "\n",
    "# remove the last 'p', change it from string to int\n",
    "vfeatures['quality'] = vfeatures.quality.map(lambda s: int(s[:-1]))"
   ]
  },
  {
   "cell_type": "code",
   "execution_count": 6,
   "metadata": {},
   "outputs": [
    {
     "data": {
      "text/html": [
       "<div>\n",
       "<style scoped>\n",
       "    .dataframe tbody tr th:only-of-type {\n",
       "        vertical-align: middle;\n",
       "    }\n",
       "\n",
       "    .dataframe tbody tr th {\n",
       "        vertical-align: top;\n",
       "    }\n",
       "\n",
       "    .dataframe thead th {\n",
       "        text-align: right;\n",
       "    }\n",
       "</style>\n",
       "<table border=\"1\" class=\"dataframe\">\n",
       "  <thead>\n",
       "    <tr style=\"text-align: right;\">\n",
       "      <th></th>\n",
       "      <th>length</th>\n",
       "      <th>language</th>\n",
       "      <th>upload_date</th>\n",
       "      <th>quality</th>\n",
       "    </tr>\n",
       "    <tr>\n",
       "      <th>video_id</th>\n",
       "      <th></th>\n",
       "      <th></th>\n",
       "      <th></th>\n",
       "      <th></th>\n",
       "    </tr>\n",
       "  </thead>\n",
       "  <tbody>\n",
       "    <tr>\n",
       "      <th>2374</th>\n",
       "      <td>1760</td>\n",
       "      <td>Cn</td>\n",
       "      <td>2014-12-06</td>\n",
       "      <td>480</td>\n",
       "    </tr>\n",
       "    <tr>\n",
       "      <th>1897</th>\n",
       "      <td>489</td>\n",
       "      <td>Cn</td>\n",
       "      <td>2014-12-10</td>\n",
       "      <td>720</td>\n",
       "    </tr>\n",
       "    <tr>\n",
       "      <th>2386</th>\n",
       "      <td>1273</td>\n",
       "      <td>Es</td>\n",
       "      <td>2014-12-05</td>\n",
       "      <td>480</td>\n",
       "    </tr>\n",
       "    <tr>\n",
       "      <th>2912</th>\n",
       "      <td>986</td>\n",
       "      <td>Es</td>\n",
       "      <td>2014-12-10</td>\n",
       "      <td>240</td>\n",
       "    </tr>\n",
       "    <tr>\n",
       "      <th>2432</th>\n",
       "      <td>1050</td>\n",
       "      <td>Other</td>\n",
       "      <td>2014-12-10</td>\n",
       "      <td>480</td>\n",
       "    </tr>\n",
       "  </tbody>\n",
       "</table>\n",
       "</div>"
      ],
      "text/plain": [
       "          length language upload_date  quality\n",
       "video_id                                      \n",
       "2374        1760       Cn  2014-12-06      480\n",
       "1897         489       Cn  2014-12-10      720\n",
       "2386        1273       Es  2014-12-05      480\n",
       "2912         986       Es  2014-12-10      240\n",
       "2432        1050    Other  2014-12-10      480"
      ]
     },
     "execution_count": 6,
     "metadata": {},
     "output_type": "execute_result"
    }
   ],
   "source": [
    "vfeatures.head()"
   ]
  },
  {
   "cell_type": "code",
   "execution_count": 7,
   "metadata": {},
   "outputs": [
    {
     "data": {
      "text/plain": [
       "count                    2785\n",
       "unique                     23\n",
       "top       2014-12-10 00:00:00\n",
       "freq                      242\n",
       "first     2014-12-02 00:00:00\n",
       "last      2014-12-24 00:00:00\n",
       "Name: upload_date, dtype: object"
      ]
     },
     "execution_count": 7,
     "metadata": {},
     "output_type": "execute_result"
    }
   ],
   "source": [
    "vfeatures.upload_date.describe()"
   ]
  },
  {
   "cell_type": "code",
   "execution_count": 8,
   "metadata": {},
   "outputs": [
    {
     "data": {
      "text/plain": [
       "count                   41775\n",
       "unique                     15\n",
       "top       2015-01-10 00:00:00\n",
       "freq                     2785\n",
       "first     2015-01-01 00:00:00\n",
       "last      2015-01-15 00:00:00\n",
       "Name: date, dtype: object"
      ]
     },
     "execution_count": 8,
     "metadata": {},
     "output_type": "execute_result"
    }
   ],
   "source": [
    "vcounts.date.describe()"
   ]
  },
  {
   "cell_type": "markdown",
   "metadata": {},
   "source": [
    "## Extract features and find pattern"
   ]
  },
  {
   "cell_type": "code",
   "execution_count": 11,
   "metadata": {},
   "outputs": [],
   "source": [
    "def extract_counts_statistics(df):\n",
    "    \"\"\"\n",
    "    input:\n",
    "        DataFrame of a certain video (same video_id)\n",
    "    output:\n",
    "        25th,50th,75th,mean of that video's view_count\n",
    "        25th,50th,75th,mean of that video's view_count's change rate\n",
    "    \"\"\"\n",
    "    counts = df.sort_values(by='date')['view_count'].astype(np.float)\n",
    "    qs = [25,50,75]\n",
    "\n",
    "    # ************* count's statistics ************* #\n",
    "    cnt_percentiles = np.percentile(counts,qs)\n",
    "    d = {'cnt_{}th'.format(q):p for q,p in zip(qs,cnt_percentiles)}\n",
    "    d['cnt_mean'] = counts.mean()\n",
    "\n",
    "    # ************* count's change rate's statistics ************* #\n",
    "    # change rate = 'current view counts'/'previous view counts'\n",
    "    cnts_prev = counts.iloc[:-1]\n",
    "    cnts_current = counts.iloc[1:]\n",
    "    # divide by values, not match by index\n",
    "    change_rates = cnts_current.values / cnts_prev.values\n",
    "\n",
    "    chg_percentiles = np.percentile(change_rates,qs)\n",
    "    for q,p in zip(qs,chg_percentiles):\n",
    "        # 'rch' stands for 'rate of change'\n",
    "        d['rch_{}th'.format(q)] = p\n",
    "    d['rch_mean'] = change_rates.mean()\n",
    "\n",
    "    return pd.Series(d)"
   ]
  },
  {
   "cell_type": "code",
   "execution_count": 12,
   "metadata": {},
   "outputs": [],
   "source": [
    "vstatistics = vcounts.groupby('video_id').apply(extract_counts_statistics)"
   ]
  },
  {
   "cell_type": "code",
   "execution_count": 13,
   "metadata": {},
   "outputs": [
    {
     "data": {
      "text/html": [
       "<div>\n",
       "<style scoped>\n",
       "    .dataframe tbody tr th:only-of-type {\n",
       "        vertical-align: middle;\n",
       "    }\n",
       "\n",
       "    .dataframe tbody tr th {\n",
       "        vertical-align: top;\n",
       "    }\n",
       "\n",
       "    .dataframe thead th {\n",
       "        text-align: right;\n",
       "    }\n",
       "</style>\n",
       "<table border=\"1\" class=\"dataframe\">\n",
       "  <thead>\n",
       "    <tr style=\"text-align: right;\">\n",
       "      <th></th>\n",
       "      <th>cnt_25th</th>\n",
       "      <th>cnt_50th</th>\n",
       "      <th>cnt_75th</th>\n",
       "      <th>cnt_mean</th>\n",
       "      <th>rch_25th</th>\n",
       "      <th>rch_50th</th>\n",
       "      <th>rch_75th</th>\n",
       "      <th>rch_mean</th>\n",
       "    </tr>\n",
       "    <tr>\n",
       "      <th>video_id</th>\n",
       "      <th></th>\n",
       "      <th></th>\n",
       "      <th></th>\n",
       "      <th></th>\n",
       "      <th></th>\n",
       "      <th></th>\n",
       "      <th></th>\n",
       "      <th></th>\n",
       "    </tr>\n",
       "  </thead>\n",
       "  <tbody>\n",
       "    <tr>\n",
       "      <th>1</th>\n",
       "      <td>41099.0</td>\n",
       "      <td>65907.0</td>\n",
       "      <td>96335.0</td>\n",
       "      <td>7.063560e+04</td>\n",
       "      <td>0.813619</td>\n",
       "      <td>0.848616</td>\n",
       "      <td>0.932023</td>\n",
       "      <td>0.872563</td>\n",
       "    </tr>\n",
       "    <tr>\n",
       "      <th>2</th>\n",
       "      <td>1673415.5</td>\n",
       "      <td>1718352.0</td>\n",
       "      <td>1782226.5</td>\n",
       "      <td>1.737141e+06</td>\n",
       "      <td>0.938541</td>\n",
       "      <td>0.956124</td>\n",
       "      <td>1.030687</td>\n",
       "      <td>0.985816</td>\n",
       "    </tr>\n",
       "    <tr>\n",
       "      <th>3</th>\n",
       "      <td>2132336.5</td>\n",
       "      <td>2247587.0</td>\n",
       "      <td>2436222.5</td>\n",
       "      <td>2.292781e+06</td>\n",
       "      <td>0.971707</td>\n",
       "      <td>0.998932</td>\n",
       "      <td>1.056393</td>\n",
       "      <td>1.008923</td>\n",
       "    </tr>\n",
       "    <tr>\n",
       "      <th>4</th>\n",
       "      <td>2611162.0</td>\n",
       "      <td>2719547.0</td>\n",
       "      <td>2880268.5</td>\n",
       "      <td>2.740392e+06</td>\n",
       "      <td>0.972875</td>\n",
       "      <td>1.001606</td>\n",
       "      <td>1.050860</td>\n",
       "      <td>1.011310</td>\n",
       "    </tr>\n",
       "    <tr>\n",
       "      <th>5</th>\n",
       "      <td>255574.5</td>\n",
       "      <td>388594.0</td>\n",
       "      <td>609508.0</td>\n",
       "      <td>4.479973e+05</td>\n",
       "      <td>0.822568</td>\n",
       "      <td>0.866553</td>\n",
       "      <td>0.987271</td>\n",
       "      <td>0.888189</td>\n",
       "    </tr>\n",
       "  </tbody>\n",
       "</table>\n",
       "</div>"
      ],
      "text/plain": [
       "           cnt_25th   cnt_50th   cnt_75th      cnt_mean  rch_25th  rch_50th  \\\n",
       "video_id                                                                      \n",
       "1           41099.0    65907.0    96335.0  7.063560e+04  0.813619  0.848616   \n",
       "2         1673415.5  1718352.0  1782226.5  1.737141e+06  0.938541  0.956124   \n",
       "3         2132336.5  2247587.0  2436222.5  2.292781e+06  0.971707  0.998932   \n",
       "4         2611162.0  2719547.0  2880268.5  2.740392e+06  0.972875  1.001606   \n",
       "5          255574.5   388594.0   609508.0  4.479973e+05  0.822568  0.866553   \n",
       "\n",
       "          rch_75th  rch_mean  \n",
       "video_id                      \n",
       "1         0.932023  0.872563  \n",
       "2         1.030687  0.985816  \n",
       "3         1.056393  1.008923  \n",
       "4         1.050860  1.011310  \n",
       "5         0.987271  0.888189  "
      ]
     },
     "execution_count": 13,
     "metadata": {},
     "output_type": "execute_result"
    }
   ],
   "source": [
    "vstatistics.head()"
   ]
  },
  {
   "cell_type": "markdown",
   "metadata": {},
   "source": [
    "## decide a video is popular or not"
   ]
  },
  {
   "cell_type": "code",
   "execution_count": 15,
   "metadata": {},
   "outputs": [
    {
     "data": {
      "image/png": "[encoded data removed]",
      "text/plain": [
       "<Figure size 720x360 with 1 Axes>"
      ]
     },
     "metadata": {
      "needs_background": "light"
     },
     "output_type": "display_data"
    }
   ],
   "source": [
    "plt.figure(figsize=(10,5))\n",
    "_ = plt.hist(vstatistics.cnt_mean,bins=100,density=True)"
   ]
  },
  {
   "cell_type": "code",
   "execution_count": 16,
   "metadata": {},
   "outputs": [
    {
     "data": {
      "text/plain": [
       "0.22621184919210055"
      ]
     },
     "execution_count": 16,
     "metadata": {},
     "output_type": "execute_result"
    }
   ],
   "source": [
    "cnt_cutoff = 1000000\n",
    "(vstatistics.cnt_mean >= cnt_cutoff).mean()"
   ]
  },
  {
   "cell_type": "markdown",
   "metadata": {},
   "source": [
    "there are 23% of the videos which can have average daily view_count higher than 100,0000. 23% matches my assumption about the popular videos, so I decide to choose 100,0000 as a cutoff to decide the video is popular or not."
   ]
  },
  {
   "cell_type": "code",
   "execution_count": 17,
   "metadata": {},
   "outputs": [],
   "source": [
    "vstatistics['is_popular'] = vstatistics.cnt_mean >= cnt_cutoff"
   ]
  },
  {
   "cell_type": "markdown",
   "metadata": {},
   "source": [
    "## decide a video's trending status"
   ]
  },
  {
   "cell_type": "code",
   "execution_count": 19,
   "metadata": {},
   "outputs": [
    {
     "data": {
      "image/png": "[encoded data removed]",
      "text/plain": [
       "<Figure size 720x360 with 1 Axes>"
      ]
     },
     "metadata": {
      "needs_background": "light"
     },
     "output_type": "display_data"
    }
   ],
   "source": [
    "plt.figure(figsize=(10,5))\n",
    "plt.hist(vstatistics.rch_mean,bins=100,density=True)\n",
    "_ = plt.xticks(np.arange(0.7,1.6,0.05))"
   ]
  },
  {
   "cell_type": "markdown",
   "metadata": {},
   "source": [
    "we can see the average 'rate of change' is clearly splitted into three groups:\n",
    "\n",
    "-average 'rate of change' < 0.95, the video's trending is decreasing\n",
    "\n",
    "-average 'rate of change' is between 0.95 and 1.05, the video's trending is flat\n",
    "\n",
    "-average 'rate of change' > 1.05, the video's trending is increasing, aka. 'Hot' ."
   ]
  },
  {
   "cell_type": "code",
   "execution_count": 20,
   "metadata": {},
   "outputs": [],
   "source": [
    "rch_bins = [0,0.95,1.05,100]\n",
    "vstatistics['trend_status'] = pd.cut(vstatistics.rch_mean,rch_bins,right=False,labels=['decrease','flat','increase'])"
   ]
  },
  {
   "cell_type": "code",
   "execution_count": 21,
   "metadata": {},
   "outputs": [
    {
     "data": {
      "text/plain": [
       "flat        1272\n",
       "decrease    1013\n",
       "increase     500\n",
       "Name: trend_status, dtype: int64"
      ]
     },
     "execution_count": 21,
     "metadata": {},
     "output_type": "execute_result"
    }
   ],
   "source": [
    "vstatistics.trend_status.value_counts()"
   ]
  },
  {
   "cell_type": "markdown",
   "metadata": {},
   "source": [
    "## Question 1"
   ]
  },
  {
   "cell_type": "markdown",
   "metadata": {},
   "source": [
    "Classify each video into one the 3 categories below and explain your approach:\n",
    "\n",
    "-\"Hot\" - means trending up. These videos are candidate to be shown.\n",
    "-\"Stable and Popular\" - video view counts are ﬂat, but very high. These videos are candidates to be shown too.\n",
    "-\"Everything else\" - these videos won't be shown."
   ]
  },
  {
   "cell_type": "code",
   "execution_count": 22,
   "metadata": {},
   "outputs": [],
   "source": [
    "videos = vfeatures\n",
    "videos = videos.join(vstatistics.loc[:,['is_popular','trend_status']])"
   ]
  },
  {
   "cell_type": "code",
   "execution_count": 23,
   "metadata": {},
   "outputs": [
    {
     "data": {
      "text/html": [
       "<div>\n",
       "<style scoped>\n",
       "    .dataframe tbody tr th:only-of-type {\n",
       "        vertical-align: middle;\n",
       "    }\n",
       "\n",
       "    .dataframe tbody tr th {\n",
       "        vertical-align: top;\n",
       "    }\n",
       "\n",
       "    .dataframe thead th {\n",
       "        text-align: right;\n",
       "    }\n",
       "</style>\n",
       "<table border=\"1\" class=\"dataframe\">\n",
       "  <thead>\n",
       "    <tr style=\"text-align: right;\">\n",
       "      <th></th>\n",
       "      <th>length</th>\n",
       "      <th>language</th>\n",
       "      <th>upload_date</th>\n",
       "      <th>quality</th>\n",
       "      <th>is_popular</th>\n",
       "      <th>trend_status</th>\n",
       "    </tr>\n",
       "    <tr>\n",
       "      <th>video_id</th>\n",
       "      <th></th>\n",
       "      <th></th>\n",
       "      <th></th>\n",
       "      <th></th>\n",
       "      <th></th>\n",
       "      <th></th>\n",
       "    </tr>\n",
       "  </thead>\n",
       "  <tbody>\n",
       "    <tr>\n",
       "      <th>2374</th>\n",
       "      <td>1760</td>\n",
       "      <td>Cn</td>\n",
       "      <td>2014-12-06</td>\n",
       "      <td>480</td>\n",
       "      <td>False</td>\n",
       "      <td>decrease</td>\n",
       "    </tr>\n",
       "    <tr>\n",
       "      <th>1897</th>\n",
       "      <td>489</td>\n",
       "      <td>Cn</td>\n",
       "      <td>2014-12-10</td>\n",
       "      <td>720</td>\n",
       "      <td>True</td>\n",
       "      <td>flat</td>\n",
       "    </tr>\n",
       "    <tr>\n",
       "      <th>2386</th>\n",
       "      <td>1273</td>\n",
       "      <td>Es</td>\n",
       "      <td>2014-12-05</td>\n",
       "      <td>480</td>\n",
       "      <td>False</td>\n",
       "      <td>decrease</td>\n",
       "    </tr>\n",
       "    <tr>\n",
       "      <th>2912</th>\n",
       "      <td>986</td>\n",
       "      <td>Es</td>\n",
       "      <td>2014-12-10</td>\n",
       "      <td>240</td>\n",
       "      <td>False</td>\n",
       "      <td>decrease</td>\n",
       "    </tr>\n",
       "    <tr>\n",
       "      <th>2432</th>\n",
       "      <td>1050</td>\n",
       "      <td>Other</td>\n",
       "      <td>2014-12-10</td>\n",
       "      <td>480</td>\n",
       "      <td>False</td>\n",
       "      <td>decrease</td>\n",
       "    </tr>\n",
       "  </tbody>\n",
       "</table>\n",
       "</div>"
      ],
      "text/plain": [
       "          length language upload_date  quality  is_popular trend_status\n",
       "video_id                                                               \n",
       "2374        1760       Cn  2014-12-06      480       False     decrease\n",
       "1897         489       Cn  2014-12-10      720        True         flat\n",
       "2386        1273       Es  2014-12-05      480       False     decrease\n",
       "2912         986       Es  2014-12-10      240       False     decrease\n",
       "2432        1050    Other  2014-12-10      480       False     decrease"
      ]
     },
     "execution_count": 23,
     "metadata": {},
     "output_type": "execute_result"
    }
   ],
   "source": [
    "videos.head()"
   ]
  },
  {
   "cell_type": "markdown",
   "metadata": {},
   "source": [
    "Just as mentioned above,\n",
    "\n",
    "average view counts > 1000000 are considered as popular.\n",
    "\n",
    "average 'rate of change' > 1.05 are considered as trending up, aka, 'Hot'."
   ]
  },
  {
   "cell_type": "code",
   "execution_count": 24,
   "metadata": {},
   "outputs": [],
   "source": [
    "status = pd.Series('Everything else',index = videos.index)\n",
    "status.loc[ videos.trend_status == 'increase'] = 'Hot'\n",
    "status.loc[ (videos.trend_status == 'flat') & videos.is_popular] = 'Stable and Popular'"
   ]
  },
  {
   "cell_type": "code",
   "execution_count": 25,
   "metadata": {},
   "outputs": [
    {
     "data": {
      "text/plain": [
       "Everything else       1701\n",
       "Stable and Popular     584\n",
       "Hot                    500\n",
       "dtype: int64"
      ]
     },
     "execution_count": 25,
     "metadata": {},
     "output_type": "execute_result"
    }
   ],
   "source": [
    "status.value_counts()"
   ]
  },
  {
   "cell_type": "code",
   "execution_count": 26,
   "metadata": {},
   "outputs": [
    {
     "data": {
      "text/plain": [
       "Everything else       1701\n",
       "Hot                    500\n",
       "Stable and Popular     584\n",
       "dtype: int64"
      ]
     },
     "execution_count": 26,
     "metadata": {},
     "output_type": "execute_result"
    }
   ],
   "source": [
    "videos.groupby(status).apply(lambda df: df.shape[0])"
   ]
  },
  {
   "cell_type": "markdown",
   "metadata": {},
   "source": [
    "## Question 2"
   ]
  },
  {
   "cell_type": "markdown",
   "metadata": {},
   "source": [
    "What are the main characteristics of the \"hot videos\"?"
   ]
  },
  {
   "cell_type": "code",
   "execution_count": 27,
   "metadata": {},
   "outputs": [],
   "source": [
    "X = videos.copy()\n",
    "X['is_hot'] = (X.trend_status == 'increase').astype(int)\n",
    "del X['is_popular']\n",
    "del X['trend_status']"
   ]
  },
  {
   "cell_type": "markdown",
   "metadata": {},
   "source": [
    "### Upload weekday impact"
   ]
  },
  {
   "cell_type": "code",
   "execution_count": 28,
   "metadata": {},
   "outputs": [
    {
     "data": {
      "text/plain": [
       "count                    2785\n",
       "unique                     23\n",
       "top       2014-12-10 00:00:00\n",
       "freq                      242\n",
       "first     2014-12-02 00:00:00\n",
       "last      2014-12-24 00:00:00\n",
       "Name: upload_date, dtype: object"
      ]
     },
     "execution_count": 28,
     "metadata": {},
     "output_type": "execute_result"
    }
   ],
   "source": [
    "X.upload_date.describe()"
   ]
  },
  {
   "cell_type": "code",
   "execution_count": 29,
   "metadata": {},
   "outputs": [],
   "source": [
    "X['upload_weekday'] = X.upload_date.dt.weekday_name\n",
    "del X['upload_date']"
   ]
  },
  {
   "cell_type": "code",
   "execution_count": 30,
   "metadata": {},
   "outputs": [
    {
     "data": {
      "text/html": [
       "<div>\n",
       "<style scoped>\n",
       "    .dataframe tbody tr th:only-of-type {\n",
       "        vertical-align: middle;\n",
       "    }\n",
       "\n",
       "    .dataframe tbody tr th {\n",
       "        vertical-align: top;\n",
       "    }\n",
       "\n",
       "    .dataframe thead th {\n",
       "        text-align: right;\n",
       "    }\n",
       "</style>\n",
       "<table border=\"1\" class=\"dataframe\">\n",
       "  <thead>\n",
       "    <tr style=\"text-align: right;\">\n",
       "      <th></th>\n",
       "      <th>Sunday</th>\n",
       "      <th>Monday</th>\n",
       "      <th>Tuesday</th>\n",
       "      <th>Wednesday</th>\n",
       "      <th>Thursday</th>\n",
       "      <th>Friday</th>\n",
       "      <th>Saturday</th>\n",
       "    </tr>\n",
       "    <tr>\n",
       "      <th>is_hot</th>\n",
       "      <th></th>\n",
       "      <th></th>\n",
       "      <th></th>\n",
       "      <th></th>\n",
       "      <th></th>\n",
       "      <th></th>\n",
       "      <th></th>\n",
       "    </tr>\n",
       "  </thead>\n",
       "  <tbody>\n",
       "    <tr>\n",
       "      <th>0</th>\n",
       "      <td>0.100219</td>\n",
       "      <td>0.099781</td>\n",
       "      <td>0.19081</td>\n",
       "      <td>0.210941</td>\n",
       "      <td>0.198249</td>\n",
       "      <td>0.108096</td>\n",
       "      <td>0.091904</td>\n",
       "    </tr>\n",
       "    <tr>\n",
       "      <th>1</th>\n",
       "      <td>0.132000</td>\n",
       "      <td>0.174000</td>\n",
       "      <td>0.20200</td>\n",
       "      <td>0.190000</td>\n",
       "      <td>0.112000</td>\n",
       "      <td>0.106000</td>\n",
       "      <td>0.084000</td>\n",
       "    </tr>\n",
       "  </tbody>\n",
       "</table>\n",
       "</div>"
      ],
      "text/plain": [
       "          Sunday    Monday  Tuesday  Wednesday  Thursday    Friday  Saturday\n",
       "is_hot                                                                      \n",
       "0       0.100219  0.099781  0.19081   0.210941  0.198249  0.108096  0.091904\n",
       "1       0.132000  0.174000  0.20200   0.190000  0.112000  0.106000  0.084000"
      ]
     },
     "execution_count": 30,
     "metadata": {},
     "output_type": "execute_result"
    }
   ],
   "source": [
    "weekday_hot = X.groupby(by='is_hot').apply(lambda df: df.upload_weekday.value_counts(normalize=True)).unstack()\n",
    "weekday_hot = weekday_hot.loc[:,[\"Sunday\",\"Monday\",\"Tuesday\",\"Wednesday\",\"Thursday\",\"Friday\",\"Saturday\"]]\n",
    "weekday_hot"
   ]
  },
  {
   "cell_type": "code",
   "execution_count": 31,
   "metadata": {},
   "outputs": [
    {
     "data": {
      "text/plain": [
       "<matplotlib.axes._subplots.AxesSubplot at 0x2c68252f6c8>"
      ]
     },
     "execution_count": 31,
     "metadata": {},
     "output_type": "execute_result"
    },
    {
     "data": {
      "image/png": "[encoded data removed]",
      "text/plain": [
       "<Figure size 720x360 with 1 Axes>"
      ]
     },
     "metadata": {
      "needs_background": "light"
     },
     "output_type": "display_data"
    }
   ],
   "source": [
    "weekday_hot.plot(kind='bar',figsize=(10,5))"
   ]
  },
  {
   "cell_type": "markdown",
   "metadata": {},
   "source": [
    "from above plot, we can see in Hot videos, the ones uploaded on Sunday and Monday occupy a higher ratio than Not Hot videos. this may because these videos have longer \"offline propagation time\" than the ones uploaded at the second half of the week."
   ]
  },
  {
   "cell_type": "markdown",
   "metadata": {},
   "source": [
    "### Language impact"
   ]
  },
  {
   "cell_type": "code",
   "execution_count": 32,
   "metadata": {},
   "outputs": [
    {
     "data": {
      "text/html": [
       "<div>\n",
       "<style scoped>\n",
       "    .dataframe tbody tr th:only-of-type {\n",
       "        vertical-align: middle;\n",
       "    }\n",
       "\n",
       "    .dataframe tbody tr th {\n",
       "        vertical-align: top;\n",
       "    }\n",
       "\n",
       "    .dataframe thead th {\n",
       "        text-align: right;\n",
       "    }\n",
       "</style>\n",
       "<table border=\"1\" class=\"dataframe\">\n",
       "  <thead>\n",
       "    <tr style=\"text-align: right;\">\n",
       "      <th></th>\n",
       "      <th>Cn</th>\n",
       "      <th>De</th>\n",
       "      <th>En</th>\n",
       "      <th>Es</th>\n",
       "      <th>Fr</th>\n",
       "      <th>Other</th>\n",
       "    </tr>\n",
       "    <tr>\n",
       "      <th>is_hot</th>\n",
       "      <th></th>\n",
       "      <th></th>\n",
       "      <th></th>\n",
       "      <th></th>\n",
       "      <th></th>\n",
       "      <th></th>\n",
       "    </tr>\n",
       "  </thead>\n",
       "  <tbody>\n",
       "    <tr>\n",
       "      <th>0</th>\n",
       "      <td>0.301094</td>\n",
       "      <td>0.027571</td>\n",
       "      <td>0.285339</td>\n",
       "      <td>0.131291</td>\n",
       "      <td>0.027133</td>\n",
       "      <td>0.227571</td>\n",
       "    </tr>\n",
       "    <tr>\n",
       "      <th>1</th>\n",
       "      <td>0.300000</td>\n",
       "      <td>0.012000</td>\n",
       "      <td>0.368000</td>\n",
       "      <td>0.116000</td>\n",
       "      <td>0.032000</td>\n",
       "      <td>0.172000</td>\n",
       "    </tr>\n",
       "  </tbody>\n",
       "</table>\n",
       "</div>"
      ],
      "text/plain": [
       "              Cn        De        En        Es        Fr     Other\n",
       "is_hot                                                            \n",
       "0       0.301094  0.027571  0.285339  0.131291  0.027133  0.227571\n",
       "1       0.300000  0.012000  0.368000  0.116000  0.032000  0.172000"
      ]
     },
     "execution_count": 32,
     "metadata": {},
     "output_type": "execute_result"
    }
   ],
   "source": [
    "language_hot = X.groupby(by='is_hot').apply(lambda df: df.language.value_counts(normalize=True)).unstack()\n",
    "language_hot"
   ]
  },
  {
   "cell_type": "code",
   "execution_count": 33,
   "metadata": {},
   "outputs": [
    {
     "data": {
      "text/plain": [
       "<matplotlib.axes._subplots.AxesSubplot at 0x2c682633888>"
      ]
     },
     "execution_count": 33,
     "metadata": {},
     "output_type": "execute_result"
    },
    {
     "data": {
      "image/png": "[encoded data removed]",
      "text/plain": [
       "<Figure size 720x360 with 1 Axes>"
      ]
     },
     "metadata": {
      "needs_background": "light"
     },
     "output_type": "display_data"
    }
   ],
   "source": [
    "language_hot.plot(kind='bar',figsize=(10,5))"
   ]
  },
  {
   "cell_type": "markdown",
   "metadata": {},
   "source": [
    "we can see vidoes in English occupies a higher ratio in Hot videos than in Not-Hot videos."
   ]
  },
  {
   "cell_type": "markdown",
   "metadata": {},
   "source": [
    "### Model by Decision Tree"
   ]
  },
  {
   "cell_type": "code",
   "execution_count": 34,
   "metadata": {},
   "outputs": [
    {
     "data": {
      "text/html": [
       "<div>\n",
       "<style scoped>\n",
       "    .dataframe tbody tr th:only-of-type {\n",
       "        vertical-align: middle;\n",
       "    }\n",
       "\n",
       "    .dataframe tbody tr th {\n",
       "        vertical-align: top;\n",
       "    }\n",
       "\n",
       "    .dataframe thead th {\n",
       "        text-align: right;\n",
       "    }\n",
       "</style>\n",
       "<table border=\"1\" class=\"dataframe\">\n",
       "  <thead>\n",
       "    <tr style=\"text-align: right;\">\n",
       "      <th></th>\n",
       "      <th>length</th>\n",
       "      <th>language</th>\n",
       "      <th>quality</th>\n",
       "      <th>is_hot</th>\n",
       "      <th>upload_weekday</th>\n",
       "    </tr>\n",
       "    <tr>\n",
       "      <th>video_id</th>\n",
       "      <th></th>\n",
       "      <th></th>\n",
       "      <th></th>\n",
       "      <th></th>\n",
       "      <th></th>\n",
       "    </tr>\n",
       "  </thead>\n",
       "  <tbody>\n",
       "    <tr>\n",
       "      <th>2374</th>\n",
       "      <td>1760</td>\n",
       "      <td>Cn</td>\n",
       "      <td>480</td>\n",
       "      <td>0</td>\n",
       "      <td>Saturday</td>\n",
       "    </tr>\n",
       "    <tr>\n",
       "      <th>1897</th>\n",
       "      <td>489</td>\n",
       "      <td>Cn</td>\n",
       "      <td>720</td>\n",
       "      <td>0</td>\n",
       "      <td>Wednesday</td>\n",
       "    </tr>\n",
       "    <tr>\n",
       "      <th>2386</th>\n",
       "      <td>1273</td>\n",
       "      <td>Es</td>\n",
       "      <td>480</td>\n",
       "      <td>0</td>\n",
       "      <td>Friday</td>\n",
       "    </tr>\n",
       "    <tr>\n",
       "      <th>2912</th>\n",
       "      <td>986</td>\n",
       "      <td>Es</td>\n",
       "      <td>240</td>\n",
       "      <td>0</td>\n",
       "      <td>Wednesday</td>\n",
       "    </tr>\n",
       "    <tr>\n",
       "      <th>2432</th>\n",
       "      <td>1050</td>\n",
       "      <td>Other</td>\n",
       "      <td>480</td>\n",
       "      <td>0</td>\n",
       "      <td>Wednesday</td>\n",
       "    </tr>\n",
       "  </tbody>\n",
       "</table>\n",
       "</div>"
      ],
      "text/plain": [
       "          length language  quality  is_hot upload_weekday\n",
       "video_id                                                 \n",
       "2374        1760       Cn      480       0       Saturday\n",
       "1897         489       Cn      720       0      Wednesday\n",
       "2386        1273       Es      480       0         Friday\n",
       "2912         986       Es      240       0      Wednesday\n",
       "2432        1050    Other      480       0      Wednesday"
      ]
     },
     "execution_count": 34,
     "metadata": {},
     "output_type": "execute_result"
    }
   ],
   "source": [
    "X.head()"
   ]
  },
  {
   "cell_type": "code",
   "execution_count": 35,
   "metadata": {},
   "outputs": [
    {
     "data": {
      "text/plain": [
       "Cn       838\n",
       "En       836\n",
       "Other    606\n",
       "Es       358\n",
       "Fr        78\n",
       "De        69\n",
       "Name: language, dtype: int64"
      ]
     },
     "execution_count": 35,
     "metadata": {},
     "output_type": "execute_result"
    }
   ],
   "source": [
    "X.language.value_counts()"
   ]
  },
  {
   "cell_type": "code",
   "execution_count": 36,
   "metadata": {},
   "outputs": [
    {
     "data": {
      "text/plain": [
       "Wednesday    577\n",
       "Tuesday      537\n",
       "Thursday     509\n",
       "Monday       315\n",
       "Friday       300\n",
       "Sunday       295\n",
       "Saturday     252\n",
       "Name: upload_weekday, dtype: int64"
      ]
     },
     "execution_count": 36,
     "metadata": {},
     "output_type": "execute_result"
    }
   ],
   "source": [
    "X.upload_weekday.value_counts()"
   ]
  },
  {
   "cell_type": "code",
   "execution_count": 37,
   "metadata": {},
   "outputs": [],
   "source": [
    "y = X.is_hot\n",
    "del X['is_hot']\n",
    "X = pd.get_dummies(X,columns=['language','upload_weekday'],prefix='',prefix_sep='')"
   ]
  },
  {
   "cell_type": "code",
   "execution_count": 38,
   "metadata": {},
   "outputs": [
    {
     "data": {
      "text/html": [
       "<div>\n",
       "<style scoped>\n",
       "    .dataframe tbody tr th:only-of-type {\n",
       "        vertical-align: middle;\n",
       "    }\n",
       "\n",
       "    .dataframe tbody tr th {\n",
       "        vertical-align: top;\n",
       "    }\n",
       "\n",
       "    .dataframe thead th {\n",
       "        text-align: right;\n",
       "    }\n",
       "</style>\n",
       "<table border=\"1\" class=\"dataframe\">\n",
       "  <thead>\n",
       "    <tr style=\"text-align: right;\">\n",
       "      <th></th>\n",
       "      <th>length</th>\n",
       "      <th>quality</th>\n",
       "      <th>Cn</th>\n",
       "      <th>De</th>\n",
       "      <th>En</th>\n",
       "      <th>Es</th>\n",
       "      <th>Fr</th>\n",
       "      <th>Friday</th>\n",
       "      <th>Monday</th>\n",
       "      <th>Saturday</th>\n",
       "      <th>Sunday</th>\n",
       "      <th>Thursday</th>\n",
       "      <th>Tuesday</th>\n",
       "      <th>Wednesday</th>\n",
       "    </tr>\n",
       "    <tr>\n",
       "      <th>video_id</th>\n",
       "      <th></th>\n",
       "      <th></th>\n",
       "      <th></th>\n",
       "      <th></th>\n",
       "      <th></th>\n",
       "      <th></th>\n",
       "      <th></th>\n",
       "      <th></th>\n",
       "      <th></th>\n",
       "      <th></th>\n",
       "      <th></th>\n",
       "      <th></th>\n",
       "      <th></th>\n",
       "      <th></th>\n",
       "    </tr>\n",
       "  </thead>\n",
       "  <tbody>\n",
       "    <tr>\n",
       "      <th>2374</th>\n",
       "      <td>1760</td>\n",
       "      <td>480</td>\n",
       "      <td>1</td>\n",
       "      <td>0</td>\n",
       "      <td>0</td>\n",
       "      <td>0</td>\n",
       "      <td>0</td>\n",
       "      <td>0</td>\n",
       "      <td>0</td>\n",
       "      <td>1</td>\n",
       "      <td>0</td>\n",
       "      <td>0</td>\n",
       "      <td>0</td>\n",
       "      <td>0</td>\n",
       "    </tr>\n",
       "    <tr>\n",
       "      <th>1897</th>\n",
       "      <td>489</td>\n",
       "      <td>720</td>\n",
       "      <td>1</td>\n",
       "      <td>0</td>\n",
       "      <td>0</td>\n",
       "      <td>0</td>\n",
       "      <td>0</td>\n",
       "      <td>0</td>\n",
       "      <td>0</td>\n",
       "      <td>0</td>\n",
       "      <td>0</td>\n",
       "      <td>0</td>\n",
       "      <td>0</td>\n",
       "      <td>1</td>\n",
       "    </tr>\n",
       "    <tr>\n",
       "      <th>2386</th>\n",
       "      <td>1273</td>\n",
       "      <td>480</td>\n",
       "      <td>0</td>\n",
       "      <td>0</td>\n",
       "      <td>0</td>\n",
       "      <td>1</td>\n",
       "      <td>0</td>\n",
       "      <td>1</td>\n",
       "      <td>0</td>\n",
       "      <td>0</td>\n",
       "      <td>0</td>\n",
       "      <td>0</td>\n",
       "      <td>0</td>\n",
       "      <td>0</td>\n",
       "    </tr>\n",
       "    <tr>\n",
       "      <th>2912</th>\n",
       "      <td>986</td>\n",
       "      <td>240</td>\n",
       "      <td>0</td>\n",
       "      <td>0</td>\n",
       "      <td>0</td>\n",
       "      <td>1</td>\n",
       "      <td>0</td>\n",
       "      <td>0</td>\n",
       "      <td>0</td>\n",
       "      <td>0</td>\n",
       "      <td>0</td>\n",
       "      <td>0</td>\n",
       "      <td>0</td>\n",
       "      <td>1</td>\n",
       "    </tr>\n",
       "    <tr>\n",
       "      <th>2432</th>\n",
       "      <td>1050</td>\n",
       "      <td>480</td>\n",
       "      <td>0</td>\n",
       "      <td>0</td>\n",
       "      <td>0</td>\n",
       "      <td>0</td>\n",
       "      <td>0</td>\n",
       "      <td>0</td>\n",
       "      <td>0</td>\n",
       "      <td>0</td>\n",
       "      <td>0</td>\n",
       "      <td>0</td>\n",
       "      <td>0</td>\n",
       "      <td>1</td>\n",
       "    </tr>\n",
       "  </tbody>\n",
       "</table>\n",
       "</div>"
      ],
      "text/plain": [
       "          length  quality  Cn  De  En  Es  Fr  Friday  Monday  Saturday  \\\n",
       "video_id                                                                  \n",
       "2374        1760      480   1   0   0   0   0       0       0         1   \n",
       "1897         489      720   1   0   0   0   0       0       0         0   \n",
       "2386        1273      480   0   0   0   1   0       1       0         0   \n",
       "2912         986      240   0   0   0   1   0       0       0         0   \n",
       "2432        1050      480   0   0   0   0   0       0       0         0   \n",
       "\n",
       "          Sunday  Thursday  Tuesday  Wednesday  \n",
       "video_id                                        \n",
       "2374           0         0        0          0  \n",
       "1897           0         0        0          1  \n",
       "2386           0         0        0          0  \n",
       "2912           0         0        0          1  \n",
       "2432           0         0        0          1  "
      ]
     },
     "execution_count": 38,
     "metadata": {},
     "output_type": "execute_result"
    }
   ],
   "source": [
    "del X['Other']     # 'Other' language is redudant\n",
    "X.head()# glance the data"
   ]
  },
  {
   "cell_type": "code",
   "execution_count": 39,
   "metadata": {},
   "outputs": [
    {
     "data": {
      "text/plain": [
       "DecisionTreeClassifier(class_weight=None, criterion='gini', max_depth=4,\n",
       "                       max_features=None, max_leaf_nodes=None,\n",
       "                       min_impurity_decrease=0.0, min_impurity_split=None,\n",
       "                       min_samples_leaf=20, min_samples_split=20,\n",
       "                       min_weight_fraction_leaf=0.0, presort=False,\n",
       "                       random_state=None, splitter='best')"
      ]
     },
     "execution_count": 39,
     "metadata": {},
     "output_type": "execute_result"
    }
   ],
   "source": [
    "dt = DecisionTreeClassifier(max_depth=4,min_samples_leaf=20,min_samples_split=20)\n",
    "dt.fit(X,y)"
   ]
  },
  {
   "cell_type": "code",
   "execution_count": 40,
   "metadata": {},
   "outputs": [
    {
     "data": {
      "text/plain": [
       "length       0.770395\n",
       "En           0.080472\n",
       "Thursday     0.069473\n",
       "Monday       0.042372\n",
       "quality      0.022493\n",
       "Sunday       0.014795\n",
       "Wednesday    0.000000\n",
       "Tuesday      0.000000\n",
       "Saturday     0.000000\n",
       "Friday       0.000000\n",
       "Fr           0.000000\n",
       "Es           0.000000\n",
       "De           0.000000\n",
       "Cn           0.000000\n",
       "dtype: float64"
      ]
     },
     "execution_count": 40,
     "metadata": {},
     "output_type": "execute_result"
    }
   ],
   "source": [
    "feat_importances = pd.Series( dt.feature_importances_, index=X.columns)\n",
    "feat_importances.sort_values(ascending=False,inplace=True)\n",
    "feat_importances"
   ]
  },
  {
   "cell_type": "code",
   "execution_count": 43,
   "metadata": {},
   "outputs": [
    {
     "data": {
      "text/plain": [
       "'tree_test.dot.pdf'"
      ]
     },
     "execution_count": 43,
     "metadata": {},
     "output_type": "execute_result"
    }
   ],
   "source": [
    "import graphviz\n",
    "from sklearn.tree import DecisionTreeClassifier\n",
    "from sklearn.tree import export_graphviz\n",
    "from graphviz import Source\n",
    "\n",
    "import os\n",
    "os.environ[\"PATH\"] += os.pathsep + r'C:\\Program Files (x86)\\Graphviz2.38\\bin'\n",
    "#visualizae the decision tree\n",
    "export_graphviz(dt,out_file=\"tree_test.dot\",feature_names=X.columns,class_names=['NotHot','Hot'],\n",
    "                proportion=True,rotate=True, leaves_parallel=True,filled=True)\n",
    "with open(\"tree_test.dot\") as f:\n",
    "    dot_graph = f.read()\n",
    "  \n",
    "s = Source.from_file(\"tree_test.dot\")\n",
    "s.view()\n"
   ]
  },
  {
   "cell_type": "markdown",
   "metadata": {},
   "source": [
    "from above plot, focus on two leaves which have the highest \"Hot\" ratio\n",
    "\n",
    "to reach the leave with Hot ratio=0.43 (2nd leave from left), the video must be:\n",
    "\n",
    "--length < 398.5\n",
    "\n",
    "--Not uploaded on Thursday\n",
    "\n",
    "--English language\n",
    "\n",
    "\n",
    "to reach the leave with Hot ratio=0.41 (7th leave from left), the video must be\n",
    "\n",
    "--Uploaded on Monday\n",
    "\n",
    "--length < 528.5"
   ]
  },
  {
   "cell_type": "markdown",
   "metadata": {},
   "source": [
    "### Main characters of Hot videos"
   ]
  },
  {
   "cell_type": "markdown",
   "metadata": {},
   "source": [
    "according to above analysis, Hot vidoes should have following characteristics:\n",
    "\n",
    "short videos is more likely to be Hot\n",
    "\n",
    "videos uploaded at the first half of the week (Sunday, Monday) is more likely to be Hot than videos uploaded at the second half of the week (Thurday, etc)\n",
    "\n",
    "videos in English is more likely to be Hot."
   ]
  },
  {
   "cell_type": "markdown",
   "metadata": {},
   "source": [
    "## Question 3"
   ]
  },
  {
   "cell_type": "markdown",
   "metadata": {},
   "source": [
    "After having identiﬁed the characteristics of the hot videos, how would you use this information from a product standpoint?\n",
    "\n",
    "1. we can build a model to predict whether the video will be Hot (trending up) or not. The videos which are predicted to be Hot will be shown on the Home page and attract users to click.\n",
    "\n",
    "2. study the reason why videos uploaded on Sunday/Monday are much more likely to be Hot than videos uploaded on Thursday.\n",
    "\n",
    "--if the reason is like my guess, is because Sunday/Monday allow the video have longer \"offline propagation time\"\n",
    "then the problem is why \"online propagation\" doesn't work well?\n",
    "\n",
    "--Is it because our website doesn't have a \"Share...\" buttion?\n",
    "or is it because we didn't include the most popular social network in our \"Share with\" list?\n",
    "\n",
    "\n",
    "3.study the reason why English videos are more likely to be Hot.\n",
    "\n",
    "--is it because the translation issue?\n",
    "\n",
    "--or maybe we didn't include local social network (such as weibo in China) in our 'Share with' list."
   ]
  },
  {
   "cell_type": "code",
   "execution_count": null,
   "metadata": {},
   "outputs": [],
   "source": []
  }
 ],
 "metadata": {
  "kernelspec": {
   "display_name": "Python 3",
   "language": "python",
   "name": "python3"
  },
  "language_info": {
   "codemirror_mode": {
    "name": "ipython",
    "version": 3
   },
   "file_extension": ".py",
   "mimetype": "text/x-python",
   "name": "python",
   "nbconvert_exporter": "python",
   "pygments_lexer": "ipython3",
   "version": "3.7.5"
  }
 },
 "nbformat": 4,
 "nbformat_minor": 2
}
