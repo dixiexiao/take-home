{
 "cells": [
  {
   "cell_type": "code",
   "execution_count": 1,
   "metadata": {},
   "outputs": [],
   "source": [
    "import itertools\n",
    "import pandas as pd\n",
    "import numpy as np\n",
    "import matplotlib.pyplot as plt\n",
    "plt.style.use('ggplot')\n",
    "import scipy.linalg as slin\n",
    "from sklearn.linear_model import LinearRegression"
   ]
  },
  {
   "cell_type": "code",
   "execution_count": 2,
   "metadata": {},
   "outputs": [],
   "source": [
    "ads = pd.read_csv(\"ad_table.csv\")\n",
    "ads['date'] = pd.to_datetime(ads.date)\n",
    "ads.rename(columns={\"avg_cost_per_click\":\"cost\",'total_revenue':'revenue'},inplace=True)"
   ]
  },
  {
   "cell_type": "code",
   "execution_count": 3,
   "metadata": {},
   "outputs": [
    {
     "data": {
      "text/html": [
       "<div>\n",
       "<style scoped>\n",
       "    .dataframe tbody tr th:only-of-type {\n",
       "        vertical-align: middle;\n",
       "    }\n",
       "\n",
       "    .dataframe tbody tr th {\n",
       "        vertical-align: top;\n",
       "    }\n",
       "\n",
       "    .dataframe thead th {\n",
       "        text-align: right;\n",
       "    }\n",
       "</style>\n",
       "<table border=\"1\" class=\"dataframe\">\n",
       "  <thead>\n",
       "    <tr style=\"text-align: right;\">\n",
       "      <th></th>\n",
       "      <th>date</th>\n",
       "      <th>shown</th>\n",
       "      <th>clicked</th>\n",
       "      <th>converted</th>\n",
       "      <th>cost</th>\n",
       "      <th>revenue</th>\n",
       "      <th>ad</th>\n",
       "    </tr>\n",
       "  </thead>\n",
       "  <tbody>\n",
       "    <tr>\n",
       "      <th>0</th>\n",
       "      <td>2015-10-01</td>\n",
       "      <td>65877</td>\n",
       "      <td>2339</td>\n",
       "      <td>43</td>\n",
       "      <td>0.90</td>\n",
       "      <td>641.62</td>\n",
       "      <td>ad_group_1</td>\n",
       "    </tr>\n",
       "    <tr>\n",
       "      <th>1</th>\n",
       "      <td>2015-10-02</td>\n",
       "      <td>65100</td>\n",
       "      <td>2498</td>\n",
       "      <td>38</td>\n",
       "      <td>0.94</td>\n",
       "      <td>756.37</td>\n",
       "      <td>ad_group_1</td>\n",
       "    </tr>\n",
       "    <tr>\n",
       "      <th>2</th>\n",
       "      <td>2015-10-03</td>\n",
       "      <td>70658</td>\n",
       "      <td>2313</td>\n",
       "      <td>49</td>\n",
       "      <td>0.86</td>\n",
       "      <td>970.90</td>\n",
       "      <td>ad_group_1</td>\n",
       "    </tr>\n",
       "    <tr>\n",
       "      <th>3</th>\n",
       "      <td>2015-10-04</td>\n",
       "      <td>69809</td>\n",
       "      <td>2833</td>\n",
       "      <td>51</td>\n",
       "      <td>1.01</td>\n",
       "      <td>907.39</td>\n",
       "      <td>ad_group_1</td>\n",
       "    </tr>\n",
       "    <tr>\n",
       "      <th>4</th>\n",
       "      <td>2015-10-05</td>\n",
       "      <td>68186</td>\n",
       "      <td>2696</td>\n",
       "      <td>41</td>\n",
       "      <td>1.00</td>\n",
       "      <td>879.45</td>\n",
       "      <td>ad_group_1</td>\n",
       "    </tr>\n",
       "  </tbody>\n",
       "</table>\n",
       "</div>"
      ],
      "text/plain": [
       "        date  shown  clicked  converted  cost  revenue          ad\n",
       "0 2015-10-01  65877     2339         43  0.90   641.62  ad_group_1\n",
       "1 2015-10-02  65100     2498         38  0.94   756.37  ad_group_1\n",
       "2 2015-10-03  70658     2313         49  0.86   970.90  ad_group_1\n",
       "3 2015-10-04  69809     2833         51  1.01   907.39  ad_group_1\n",
       "4 2015-10-05  68186     2696         41  1.00   879.45  ad_group_1"
      ]
     },
     "execution_count": 3,
     "metadata": {},
     "output_type": "execute_result"
    }
   ],
   "source": [
    "ads.head()"
   ]
  },
  {
   "cell_type": "code",
   "execution_count": 8,
   "metadata": {},
   "outputs": [
    {
     "data": {
      "text/html": [
       "<div>\n",
       "<style scoped>\n",
       "    .dataframe tbody tr th:only-of-type {\n",
       "        vertical-align: middle;\n",
       "    }\n",
       "\n",
       "    .dataframe tbody tr th {\n",
       "        vertical-align: top;\n",
       "    }\n",
       "\n",
       "    .dataframe thead th {\n",
       "        text-align: right;\n",
       "    }\n",
       "</style>\n",
       "<table border=\"1\" class=\"dataframe\">\n",
       "  <thead>\n",
       "    <tr style=\"text-align: right;\">\n",
       "      <th></th>\n",
       "      <th>ad</th>\n",
       "      <th>date</th>\n",
       "      <th>shown</th>\n",
       "      <th>days</th>\n",
       "      <th>weekday</th>\n",
       "    </tr>\n",
       "  </thead>\n",
       "  <tbody>\n",
       "    <tr>\n",
       "      <th>0</th>\n",
       "      <td>ad_group_1</td>\n",
       "      <td>2015-10-01</td>\n",
       "      <td>65877</td>\n",
       "      <td>0</td>\n",
       "      <td>Thursday</td>\n",
       "    </tr>\n",
       "    <tr>\n",
       "      <th>1</th>\n",
       "      <td>ad_group_1</td>\n",
       "      <td>2015-10-02</td>\n",
       "      <td>65100</td>\n",
       "      <td>1</td>\n",
       "      <td>Friday</td>\n",
       "    </tr>\n",
       "    <tr>\n",
       "      <th>2</th>\n",
       "      <td>ad_group_1</td>\n",
       "      <td>2015-10-03</td>\n",
       "      <td>70658</td>\n",
       "      <td>2</td>\n",
       "      <td>Saturday</td>\n",
       "    </tr>\n",
       "    <tr>\n",
       "      <th>3</th>\n",
       "      <td>ad_group_1</td>\n",
       "      <td>2015-10-04</td>\n",
       "      <td>69809</td>\n",
       "      <td>3</td>\n",
       "      <td>Sunday</td>\n",
       "    </tr>\n",
       "    <tr>\n",
       "      <th>4</th>\n",
       "      <td>ad_group_1</td>\n",
       "      <td>2015-10-05</td>\n",
       "      <td>68186</td>\n",
       "      <td>4</td>\n",
       "      <td>Monday</td>\n",
       "    </tr>\n",
       "  </tbody>\n",
       "</table>\n",
       "</div>"
      ],
      "text/plain": [
       "           ad       date  shown  days   weekday\n",
       "0  ad_group_1 2015-10-01  65877     0  Thursday\n",
       "1  ad_group_1 2015-10-02  65100     1    Friday\n",
       "2  ad_group_1 2015-10-03  70658     2  Saturday\n",
       "3  ad_group_1 2015-10-04  69809     3    Sunday\n",
       "4  ad_group_1 2015-10-05  68186     4    Monday"
      ]
     },
     "execution_count": 8,
     "metadata": {},
     "output_type": "execute_result"
    }
   ],
   "source": [
    "import datetime as dt\n",
    "X = ads.loc[:,['ad','date','shown']]\n",
    "firstday = X.date.min()\n",
    "X['days'] = X.date.map(lambda dt: (dt - firstday).days)\n",
    "#X['weekday'] = X.date.map(lambda dt: dt.day_name)\n",
    "X['weekday'] = X['date'].apply(lambda x: dt.date.strftime(x, '%A'))\n",
    "X.head()"
   ]
  },
  {
   "cell_type": "code",
   "execution_count": 9,
   "metadata": {},
   "outputs": [],
   "source": [
    "X = pd.get_dummies(X,columns=['weekday'],prefix='',prefix_sep='')\n",
    "del X['Sunday']"
   ]
  },
  {
   "cell_type": "code",
   "execution_count": 10,
   "metadata": {},
   "outputs": [],
   "source": [
    "time_features = [u'days', u'Friday', u'Monday', u'Saturday',u'Thursday', u'Tuesday', u'Wednesday']\n",
    "def fit_linear_regression(df):\n",
    "    features = df.loc[:,time_features]\n",
    "    target = df['shown']\n",
    "\n",
    "    lr = LinearRegression()\n",
    "    lr.fit(features,target)\n",
    "\n",
    "    return lr\n",
    "\n",
    "lrmodels = X.groupby(by='ad').apply(fit_linear_regression)"
   ]
  },
  {
   "cell_type": "code",
   "execution_count": 11,
   "metadata": {},
   "outputs": [],
   "source": [
    "adname = 'ad_group_15'\n",
    "data = X.loc[X.ad == adname,time_features]\n",
    "ytrue = X.loc[X.ad == adname,'shown']\n"
   ]
  },
  {
   "cell_type": "code",
   "execution_count": 12,
   "metadata": {},
   "outputs": [
    {
     "data": {
      "text/plain": [
       "[<matplotlib.lines.Line2D at 0x18586331908>]"
      ]
     },
     "execution_count": 12,
     "metadata": {},
     "output_type": "execute_result"
    },
    {
     "data": {
      "image/png": "[encoded data removed]",
      "text/plain": [
       "<Figure size 432x288 with 1 Axes>"
      ]
     },
     "metadata": {
      "needs_background": "light"
     },
     "output_type": "display_data"
    }
   ],
   "source": [
    "model = lrmodels.loc[adname]\n",
    "ypred = model.predict(data)\n",
    "\n",
    "plt.plot(data.days,ytrue,marker='o')\n",
    "plt.plot(data.days,ypred,marker='*')"
   ]
  },
  {
   "cell_type": "code",
   "execution_count": 14,
   "metadata": {},
   "outputs": [
    {
     "data": {
      "text/html": [
       "<div>\n",
       "<style scoped>\n",
       "    .dataframe tbody tr th:only-of-type {\n",
       "        vertical-align: middle;\n",
       "    }\n",
       "\n",
       "    .dataframe tbody tr th {\n",
       "        vertical-align: top;\n",
       "    }\n",
       "\n",
       "    .dataframe thead th {\n",
       "        text-align: right;\n",
       "    }\n",
       "</style>\n",
       "<table border=\"1\" class=\"dataframe\">\n",
       "  <thead>\n",
       "    <tr style=\"text-align: right;\">\n",
       "      <th></th>\n",
       "      <th>date</th>\n",
       "      <th>shown</th>\n",
       "      <th>clicked</th>\n",
       "      <th>converted</th>\n",
       "      <th>cost</th>\n",
       "      <th>revenue</th>\n",
       "      <th>ad</th>\n",
       "      <th>net_revenue</th>\n",
       "    </tr>\n",
       "  </thead>\n",
       "  <tbody>\n",
       "    <tr>\n",
       "      <th>0</th>\n",
       "      <td>2015-10-01</td>\n",
       "      <td>65877</td>\n",
       "      <td>2339</td>\n",
       "      <td>43</td>\n",
       "      <td>0.90</td>\n",
       "      <td>641.62</td>\n",
       "      <td>ad_group_1</td>\n",
       "      <td>-1463.48</td>\n",
       "    </tr>\n",
       "    <tr>\n",
       "      <th>1</th>\n",
       "      <td>2015-10-02</td>\n",
       "      <td>65100</td>\n",
       "      <td>2498</td>\n",
       "      <td>38</td>\n",
       "      <td>0.94</td>\n",
       "      <td>756.37</td>\n",
       "      <td>ad_group_1</td>\n",
       "      <td>-1591.75</td>\n",
       "    </tr>\n",
       "    <tr>\n",
       "      <th>2</th>\n",
       "      <td>2015-10-03</td>\n",
       "      <td>70658</td>\n",
       "      <td>2313</td>\n",
       "      <td>49</td>\n",
       "      <td>0.86</td>\n",
       "      <td>970.90</td>\n",
       "      <td>ad_group_1</td>\n",
       "      <td>-1018.28</td>\n",
       "    </tr>\n",
       "    <tr>\n",
       "      <th>3</th>\n",
       "      <td>2015-10-04</td>\n",
       "      <td>69809</td>\n",
       "      <td>2833</td>\n",
       "      <td>51</td>\n",
       "      <td>1.01</td>\n",
       "      <td>907.39</td>\n",
       "      <td>ad_group_1</td>\n",
       "      <td>-1953.94</td>\n",
       "    </tr>\n",
       "    <tr>\n",
       "      <th>4</th>\n",
       "      <td>2015-10-05</td>\n",
       "      <td>68186</td>\n",
       "      <td>2696</td>\n",
       "      <td>41</td>\n",
       "      <td>1.00</td>\n",
       "      <td>879.45</td>\n",
       "      <td>ad_group_1</td>\n",
       "      <td>-1816.55</td>\n",
       "    </tr>\n",
       "  </tbody>\n",
       "</table>\n",
       "</div>"
      ],
      "text/plain": [
       "        date  shown  clicked  converted  cost  revenue          ad  \\\n",
       "0 2015-10-01  65877     2339         43  0.90   641.62  ad_group_1   \n",
       "1 2015-10-02  65100     2498         38  0.94   756.37  ad_group_1   \n",
       "2 2015-10-03  70658     2313         49  0.86   970.90  ad_group_1   \n",
       "3 2015-10-04  69809     2833         51  1.01   907.39  ad_group_1   \n",
       "4 2015-10-05  68186     2696         41  1.00   879.45  ad_group_1   \n",
       "\n",
       "   net_revenue  \n",
       "0     -1463.48  \n",
       "1     -1591.75  \n",
       "2     -1018.28  \n",
       "3     -1953.94  \n",
       "4     -1816.55  "
      ]
     },
     "execution_count": 14,
     "metadata": {},
     "output_type": "execute_result"
    }
   ],
   "source": [
    "ads['net_revenue'] = ads.apply(lambda s: s['revenue'] - s['cost'] * s['clicked'],axis=1)\n",
    "ads.head()"
   ]
  },
  {
   "cell_type": "code",
   "execution_count": 15,
   "metadata": {},
   "outputs": [],
   "source": [
    "def avg_net_revenue_per_show(df):\n",
    "    total_net_revenue = df.net_revenue.sum()\n",
    "    total_shown = df.shown.sum()\n",
    "    return total_net_revenue / total_shown"
   ]
  },
  {
   "cell_type": "code",
   "execution_count": 16,
   "metadata": {},
   "outputs": [],
   "source": [
    "net_revenue_per_show_grps = ads.groupby(\"ad\").apply(avg_net_revenue_per_show).sort_values(ascending=False)"
   ]
  },
  {
   "cell_type": "code",
   "execution_count": 17,
   "metadata": {},
   "outputs": [
    {
     "data": {
      "text/plain": [
       "ad\n",
       "ad_group_16    0.020516\n",
       "ad_group_2     0.020116\n",
       "ad_group_14    0.016485\n",
       "ad_group_31    0.005824\n",
       "ad_group_27    0.000725\n",
       "dtype: float64"
      ]
     },
     "execution_count": 17,
     "metadata": {},
     "output_type": "execute_result"
    }
   ],
   "source": [
    "net_revenue_per_show_grps[:5]"
   ]
  },
  {
   "cell_type": "code",
   "execution_count": 21,
   "metadata": {},
   "outputs": [],
   "source": [
    "def __statistics(values,suffix,d):\n",
    "    d['mean_{}'.format(suffix)] = values.mean()\n",
    "\n",
    "    qs = [25, 50, 75]\n",
    "    percentiles = np.percentile(values, qs)\n",
    "    for q, p in zip(qs, percentiles):\n",
    "        d['{}p_{}'.format(q,suffix)] = p"
   ]
  },
  {
   "cell_type": "code",
   "execution_count": 19,
   "metadata": {},
   "outputs": [],
   "source": [
    "def statistics_changes(df):\n",
    "    costs = df.sort_values(by='date')['cost'].values\n",
    "    prev_cost = costs[:-1]\n",
    "    curr_cost = costs[1:]\n",
    "\n",
    "    d = {}\n",
    "    __statistics(curr_cost / prev_cost,'chrate',d)\n",
    "    __statistics(curr_cost - prev_cost,'abschg',d)\n",
    "\n",
    "    return pd.Series(d)"
   ]
  },
  {
   "cell_type": "code",
   "execution_count": 22,
   "metadata": {},
   "outputs": [
    {
     "name": "stderr",
     "output_type": "stream",
     "text": [
      "C:\\Users\\danqi\\AppData\\Roaming\\Python\\Python37\\site-packages\\ipykernel_launcher.py:7: RuntimeWarning: divide by zero encountered in true_divide\n",
      "  import sys\n"
     ]
    },
    {
     "data": {
      "text/plain": [
       "array([[<matplotlib.axes._subplots.AxesSubplot object at 0x0000018586B6EE88>,\n",
       "        <matplotlib.axes._subplots.AxesSubplot object at 0x0000018586C32E88>,\n",
       "        <matplotlib.axes._subplots.AxesSubplot object at 0x0000018586C6D308>],\n",
       "       [<matplotlib.axes._subplots.AxesSubplot object at 0x0000018586C9F948>,\n",
       "        <matplotlib.axes._subplots.AxesSubplot object at 0x0000018586CD1F88>,\n",
       "        <matplotlib.axes._subplots.AxesSubplot object at 0x0000018586D0A988>],\n",
       "       [<matplotlib.axes._subplots.AxesSubplot object at 0x0000018586D43088>,\n",
       "        <matplotlib.axes._subplots.AxesSubplot object at 0x0000018586D7D1C8>,\n",
       "        <matplotlib.axes._subplots.AxesSubplot object at 0x0000018586D83D88>]],\n",
       "      dtype=object)"
      ]
     },
     "execution_count": 22,
     "metadata": {},
     "output_type": "execute_result"
    },
    {
     "data": {
      "image/png": "[encoded data removed]",
      "text/plain": [
       "<Figure size 432x288 with 1 Axes>"
      ]
     },
     "metadata": {
      "needs_background": "light"
     },
     "output_type": "display_data"
    },
    {
     "data": {
      "image/png": "[encoded data removed]",
      "text/plain": [
       "<Figure size 432x288 with 9 Axes>"
      ]
     },
     "metadata": {
      "needs_background": "light"
     },
     "output_type": "display_data"
    }
   ],
   "source": [
    "change_statistics = ads.groupby('ad').apply(statistics_changes)\n",
    "\n",
    "change_statistics['mean_abschg'].hist(bins=50)\n",
    "\n",
    "change_statistics.loc[:,[u'25p_abschg', u'25p_chrate', u'50p_abschg', u'50p_chrate',u'75p_abschg', u'75p_chrate', u'mean_abschg']].hist(bins=50)"
   ]
  },
  {
   "cell_type": "code",
   "execution_count": null,
   "metadata": {},
   "outputs": [],
   "source": []
  }
 ],
 "metadata": {
  "kernelspec": {
   "display_name": "Python 3",
   "language": "python",
   "name": "python3"
  },
  "language_info": {
   "codemirror_mode": {
    "name": "ipython",
    "version": 3
   },
   "file_extension": ".py",
   "mimetype": "text/x-python",
   "name": "python",
   "nbconvert_exporter": "python",
   "pygments_lexer": "ipython3",
   "version": "3.7.5"
  }
 },
 "nbformat": 4,
 "nbformat_minor": 2
}
